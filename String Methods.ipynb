{
 "cells": [
  {
   "cell_type": "markdown",
   "id": "f26be086",
   "metadata": {},
   "source": [
    "## swapcase()"
   ]
  },
  {
   "cell_type": "code",
   "execution_count": 6,
   "id": "a5729571",
   "metadata": {},
   "outputs": [
    {
     "data": {
      "text/plain": [
       "'ThE'"
      ]
     },
     "execution_count": 6,
     "metadata": {},
     "output_type": "execute_result"
    }
   ],
   "source": [
    "('tHe').swapcase()"
   ]
  },
  {
   "cell_type": "code",
   "execution_count": 1,
   "id": "e6d2ad30",
   "metadata": {},
   "outputs": [],
   "source": [
    "def swapc(string):\n",
    "    string_list_1 = []\n",
    "    string_list = list(string)\n",
    "    for i in string:\n",
    "        if i >= 'A' and i <= 'Z':\n",
    "            new_i = chr(ord(i) + 32)\n",
    "            string_list_1.append(new_i)\n",
    "        if i >= 'a' and i <= 'z':\n",
    "            new_i = chr(ord(i)-32)\n",
    "            string_list_1.append(new_i)\n",
    "            \n",
    "    return ''.join(string_list_1)"
   ]
  },
  {
   "cell_type": "code",
   "execution_count": 2,
   "id": "0e7f431f",
   "metadata": {},
   "outputs": [
    {
     "data": {
      "text/plain": [
       "'alErIAz'"
      ]
     },
     "execution_count": 2,
     "metadata": {},
     "output_type": "execute_result"
    }
   ],
   "source": [
    "swapc('ALeRiaZ')"
   ]
  },
  {
   "cell_type": "markdown",
   "id": "c679a146",
   "metadata": {},
   "source": [
    "## startswith()"
   ]
  },
  {
   "cell_type": "code",
   "execution_count": 8,
   "id": "8150fb0e",
   "metadata": {},
   "outputs": [
    {
     "data": {
      "text/plain": [
       "False"
      ]
     },
     "execution_count": 8,
     "metadata": {},
     "output_type": "execute_result"
    }
   ],
   "source": [
    "('Acknowledge').startswith('a')"
   ]
  },
  {
   "cell_type": "code",
   "execution_count": 9,
   "id": "40f6bae8",
   "metadata": {},
   "outputs": [],
   "source": [
    "def startsw(string,value):\n",
    "    if string[0] is value:\n",
    "        return True\n",
    "    return False"
   ]
  },
  {
   "cell_type": "code",
   "execution_count": 13,
   "id": "f23e17d3",
   "metadata": {},
   "outputs": [
    {
     "data": {
      "text/plain": [
       "True"
      ]
     },
     "execution_count": 13,
     "metadata": {},
     "output_type": "execute_result"
    }
   ],
   "source": [
    "startsw('Acknowledge','A')"
   ]
  },
  {
   "cell_type": "markdown",
   "id": "4cda345e",
   "metadata": {},
   "source": [
    "## title()"
   ]
  },
  {
   "cell_type": "code",
   "execution_count": 14,
   "id": "21d52639",
   "metadata": {},
   "outputs": [
    {
     "data": {
      "text/plain": [
       "'I Am Rohit Thakur'"
      ]
     },
     "execution_count": 14,
     "metadata": {},
     "output_type": "execute_result"
    }
   ],
   "source": [
    "('i am rohit thakur').title()"
   ]
  },
  {
   "cell_type": "code",
   "execution_count": 34,
   "id": "7cab9e94",
   "metadata": {},
   "outputs": [],
   "source": [
    "def titlesen(string):\n",
    "    string_list = string.strip().split()\n",
    "    new_string_list = []\n",
    "    for i in (string_list):\n",
    "        j = i[0]\n",
    "        if j >= 'A' and j <= 'Z':\n",
    "            new_i = chr(ord(j) + 32)\n",
    "            j = new_i\n",
    "        if j >= 'a' and j <= 'z':\n",
    "            new_i = chr(ord(j)-32)\n",
    "            j = new_i\n",
    "        i = j + i[1:]\n",
    "        new_string_list.append(i)\n",
    "    return new_string_list"
   ]
  },
  {
   "cell_type": "code",
   "execution_count": 35,
   "id": "35d13c00",
   "metadata": {},
   "outputs": [
    {
     "data": {
      "text/plain": [
       "['I', 'Am', 'Rohit', 'Thakur']"
      ]
     },
     "execution_count": 35,
     "metadata": {},
     "output_type": "execute_result"
    }
   ],
   "source": [
    "titlesen('i am rohit thakur')"
   ]
  },
  {
   "cell_type": "markdown",
   "id": "ffe4d2c7",
   "metadata": {},
   "source": [
    "## isalnum()"
   ]
  },
  {
   "cell_type": "code",
   "execution_count": 246,
   "id": "0fa2039f",
   "metadata": {},
   "outputs": [
    {
     "data": {
      "text/plain": [
       "True"
      ]
     },
     "execution_count": 246,
     "metadata": {},
     "output_type": "execute_result"
    }
   ],
   "source": [
    "(\"123function\").isalnum()"
   ]
  },
  {
   "cell_type": "code",
   "execution_count": 6,
   "id": "cd4437a2",
   "metadata": {},
   "outputs": [],
   "source": [
    "def isalnum(string):\n",
    "    if string == \"\":\n",
    "        return False\n",
    "    for s in string:\n",
    "        if not ('a' <= s <= 'z' or 'A' <= s <= 'Z' or '0' <= s <= '9'):\n",
    "            return False\n",
    "    return True"
   ]
  },
  {
   "cell_type": "code",
   "execution_count": 248,
   "id": "1a5a5496",
   "metadata": {},
   "outputs": [
    {
     "data": {
      "text/plain": [
       "False"
      ]
     },
     "execution_count": 248,
     "metadata": {},
     "output_type": "execute_result"
    }
   ],
   "source": [
    "isalnum(\"score-49\")"
   ]
  },
  {
   "cell_type": "markdown",
   "id": "8e95afd3",
   "metadata": {},
   "source": [
    "## strip()"
   ]
  },
  {
   "cell_type": "code",
   "execution_count": 244,
   "id": "fce41580",
   "metadata": {},
   "outputs": [
    {
     "data": {
      "text/plain": [
       "'itanic  '"
      ]
     },
     "execution_count": 244,
     "metadata": {},
     "output_type": "execute_result"
    }
   ],
   "source": [
    "(\"Titanic  \").strip(\"T\")"
   ]
  },
  {
   "cell_type": "code",
   "execution_count": 242,
   "id": "db30cd94",
   "metadata": {},
   "outputs": [],
   "source": [
    "def stripstr(string,value):\n",
    "    start = 0\n",
    "    end = len(string)\n",
    "    while start<end and string[start] == value :\n",
    "            start+=1\n",
    "    while end > start and string[end-1] == value:\n",
    "            end -=1\n",
    "    return string[start:end]"
   ]
  },
  {
   "cell_type": "code",
   "execution_count": 245,
   "id": "0c72cda5",
   "metadata": {},
   "outputs": [
    {
     "data": {
      "text/plain": [
       "'itanic '"
      ]
     },
     "execution_count": 245,
     "metadata": {},
     "output_type": "execute_result"
    }
   ],
   "source": [
    "stripstr(\"Titanic \",\"T\")"
   ]
  },
  {
   "cell_type": "markdown",
   "id": "20c3c0b9",
   "metadata": {},
   "source": [
    "## split()"
   ]
  },
  {
   "cell_type": "code",
   "execution_count": 122,
   "id": "76018638",
   "metadata": {},
   "outputs": [
    {
     "data": {
      "text/plain": [
       "['one', 'one', 'was', 'a', 'race', 'horse,', 'two', 'two', 'was', 'one', 'too']"
      ]
     },
     "execution_count": 122,
     "metadata": {},
     "output_type": "execute_result"
    }
   ],
   "source": [
    "(\"one one was a race horse, two two was one too\").split()"
   ]
  },
  {
   "cell_type": "code",
   "execution_count": 167,
   "id": "6ec37a70",
   "metadata": {},
   "outputs": [],
   "source": [
    "def splitstring(string,value):\n",
    "    new_string = string + value\n",
    "    list = []\n",
    "    startp = 0 \n",
    "    for s in range(len(new_string)):\n",
    "        if new_string[s] == value:\n",
    "            list.append(new_string[startp:s])\n",
    "            startp = s+1\n",
    "    return list"
   ]
  },
  {
   "cell_type": "code",
   "execution_count": 171,
   "id": "debdd94e",
   "metadata": {},
   "outputs": [
    {
     "data": {
      "text/plain": [
       "['one', 'one', 'was', 'a', 'race', 'horse,', 'two', 'two', 'was', 'one', 'too']"
      ]
     },
     "execution_count": 171,
     "metadata": {},
     "output_type": "execute_result"
    }
   ],
   "source": [
    "splitstring(\"one one was a race horse, two two was one too\",\" \")"
   ]
  },
  {
   "cell_type": "markdown",
   "id": "d81f20cc",
   "metadata": {},
   "source": [
    "## replace()"
   ]
  },
  {
   "cell_type": "code",
   "execution_count": 238,
   "id": "6116200a",
   "metadata": {},
   "outputs": [
    {
     "data": {
      "text/plain": [
       "'three three was a race horse, two two was one too'"
      ]
     },
     "execution_count": 238,
     "metadata": {},
     "output_type": "execute_result"
    }
   ],
   "source": [
    "(\"one one was a race horse, two two was one too\").replace(\"one\",\"three\",2)"
   ]
  },
  {
   "cell_type": "code",
   "execution_count": 239,
   "id": "c980fe93",
   "metadata": {},
   "outputs": [],
   "source": [
    "def replacestr(string,old_value,new_value,count):\n",
    "    new_string = string + \" \"\n",
    "    list = []\n",
    "    startp = 0 \n",
    "    final_string = \"\"\n",
    "    for s in range(len(new_string)):\n",
    "        if new_string[s] == \" \":\n",
    "            list.append(new_string[startp:s])\n",
    "            startp = s+1\n",
    "    c = 0\n",
    "    new_list = []\n",
    "    for i in list :\n",
    "        if i == old_value and c < count:\n",
    "            i = new_value\n",
    "            c +=1\n",
    "        new_list.append(i)\n",
    "    for i in new_list :\n",
    "        final_string = final_string + i + \" \"\n",
    "    return final_string[:len(final_string)-1]"
   ]
  },
  {
   "cell_type": "code",
   "execution_count": 262,
   "id": "382d58c7",
   "metadata": {},
   "outputs": [
    {
     "data": {
      "text/plain": [
       "'three three was a race horse, two two was one too'"
      ]
     },
     "execution_count": 262,
     "metadata": {},
     "output_type": "execute_result"
    }
   ],
   "source": [
    "replacestr(\"one one was a race horse, two two was one too\",\"one\",\"three\",2)"
   ]
  },
 ],
 "metadata": {
  "kernelspec": {
   "display_name": "Python 3 (ipykernel)",
   "language": "python",
   "name": "python3"
  },
  "language_info": {
   "codemirror_mode": {
    "name": "ipython",
    "version": 3
   },
   "file_extension": ".py",
   "mimetype": "text/x-python",
   "name": "python",
   "nbconvert_exporter": "python",
   "pygments_lexer": "ipython3",
   "version": "3.9.13"
  }
 },
 "nbformat": 4,
 "nbformat_minor": 5
}
