{
 "cells": [
  {
   "cell_type": "markdown",
   "id": "ca756875",
   "metadata": {},
   "source": [
    "# TYPE() Function:"
   ]
  },
  {
   "cell_type": "markdown",
   "id": "f830a390",
   "metadata": {},
   "source": [
    "TYPE() function tells the type of datatype the varaibles is assigned for."
   ]
  },
  {
   "cell_type": "markdown",
   "id": "0c80ee82",
   "metadata": {},
   "source": [
    "## 1. complex"
   ]
  },
  {
   "cell_type": "markdown",
   "id": "8e2f98ea",
   "metadata": {},
   "source": [
    "Complex Numbers – A complex number is represented by a complex class. It is specified as (real part) + (imaginary part)j. "
   ]
  },
  {
   "cell_type": "code",
   "execution_count": 17,
   "id": "f6592497",
   "metadata": {},
   "outputs": [
    {
     "data": {
      "text/plain": [
       "complex"
      ]
     },
     "execution_count": 17,
     "metadata": {},
     "output_type": "execute_result"
    }
   ],
   "source": [
    "z = 0 + 1j\n",
    "type(z)"
   ]
  },
  {
   "cell_type": "code",
   "execution_count": 18,
   "id": "d3472610",
   "metadata": {},
   "outputs": [
    {
     "name": "stdout",
     "output_type": "stream",
     "text": [
      "(5+0j)\n"
     ]
    },
    {
     "data": {
      "text/plain": [
       "complex"
      ]
     },
     "execution_count": 18,
     "metadata": {},
     "output_type": "execute_result"
    }
   ],
   "source": [
    "r = 5\n",
    "Z = complex(r)\n",
    "print(Z)\n",
    "type(Z)"
   ]
  },
  {
   "cell_type": "markdown",
   "id": "603c3ef9",
   "metadata": {},
   "source": [
    "## 2. frozenset"
   ]
  },
  {
   "cell_type": "markdown",
   "id": "3a34a325",
   "metadata": {},
   "source": [
    "The frozenset() function returns an unchangeable frozenset object (which is like a set object, only unchangeable)."
   ]
  },
  {
   "cell_type": "code",
   "execution_count": 25,
   "id": "f3287ebe",
   "metadata": {},
   "outputs": [],
   "source": [
    "mylist = ['apple', 'banana', 'cherry']\n",
    "x = frozenset(mylist)"
   ]
  },
  {
   "cell_type": "code",
   "execution_count": 26,
   "id": "9f38d9ae",
   "metadata": {},
   "outputs": [
    {
     "data": {
      "text/plain": [
       "frozenset"
      ]
     },
     "execution_count": 26,
     "metadata": {},
     "output_type": "execute_result"
    }
   ],
   "source": [
    "type(x)"
   ]
  },
  {
   "cell_type": "code",
   "execution_count": 27,
   "id": "cf36f029",
   "metadata": {},
   "outputs": [
    {
     "ename": "TypeError",
     "evalue": "'frozenset' object does not support item assignment",
     "output_type": "error",
     "traceback": [
      "\u001b[1;31m---------------------------------------------------------------------------\u001b[0m",
      "\u001b[1;31mTypeError\u001b[0m                                 Traceback (most recent call last)",
      "\u001b[1;32m~\\AppData\\Local\\Temp\\ipykernel_3416\\631266005.py\u001b[0m in \u001b[0;36m<module>\u001b[1;34m\u001b[0m\n\u001b[1;32m----> 1\u001b[1;33m \u001b[0mx\u001b[0m\u001b[1;33m[\u001b[0m\u001b[1;36m1\u001b[0m\u001b[1;33m]\u001b[0m \u001b[1;33m=\u001b[0m \u001b[1;34m\"strawberry\"\u001b[0m\u001b[1;33m\u001b[0m\u001b[1;33m\u001b[0m\u001b[0m\n\u001b[0m\u001b[0;32m      2\u001b[0m \u001b[0mprint\u001b[0m\u001b[1;33m(\u001b[0m\u001b[0mx\u001b[0m\u001b[1;33m)\u001b[0m\u001b[1;33m\u001b[0m\u001b[1;33m\u001b[0m\u001b[0m\n",
      "\u001b[1;31mTypeError\u001b[0m: 'frozenset' object does not support item assignment"
     ]
    }
   ],
   "source": [
    "x[1] = \"strawberry\"\n",
    "print(x)"
   ]
  },
  {
   "cell_type": "markdown",
   "id": "e8bfd4b6",
   "metadata": {},
   "source": [
    "## 3. bytes "
   ]
  },
  {
   "cell_type": "markdown",
   "id": "c15bdfb9",
   "metadata": {},
   "source": [
    "The bytes() function returns a bytes object.It can convert objects into bytes objects, or create empty bytes object of the specified size. It returns an object that cannot be modified."
   ]
  },
  {
   "cell_type": "code",
   "execution_count": 36,
   "id": "9f0dbc58",
   "metadata": {},
   "outputs": [
    {
     "name": "stdout",
     "output_type": "stream",
     "text": [
      "b'Hello, world!'\n",
      "b'Hello'\n",
      "b'\\x00\\x00\\x00\\x00\\x00'\n"
     ]
    }
   ],
   "source": [
    "# Converting a string to bytes\n",
    "string_bytes = bytes(\"Hello, world!\", \"utf-8\")\n",
    "print(string_bytes)\n",
    "\n",
    "# Converting a list of integers to bytes\n",
    "int_list = [72, 101, 108, 108, 111]\n",
    "int_bytes = bytes(int_list)\n",
    "print(int_bytes)\n",
    "\n",
    "# Creating an empty bytes object of a specified size\n",
    "empty_bytes = bytes(5)\n",
    "print(empty_bytes)"
   ]
  },
  {
   "cell_type": "markdown",
   "id": "5328553c",
   "metadata": {},
   "source": [
    "NOTE: In string, it is important to mention encoder (example: utf-8) otherwise it will give error."
   ]
  },
  {
   "cell_type": "code",
   "execution_count": 13,
   "id": "ed38b895",
   "metadata": {},
   "outputs": [
    {
     "ename": "TypeError",
     "evalue": "'bytes' object does not support item assignment",
     "output_type": "error",
     "traceback": [
      "\u001b[1;31m---------------------------------------------------------------------------\u001b[0m",
      "\u001b[1;31mTypeError\u001b[0m                                 Traceback (most recent call last)",
      "\u001b[1;32m~\\AppData\\Local\\Temp\\ipykernel_11928\\2711728476.py\u001b[0m in \u001b[0;36m<module>\u001b[1;34m\u001b[0m\n\u001b[0;32m      1\u001b[0m \u001b[0mint_list\u001b[0m \u001b[1;33m=\u001b[0m \u001b[1;33m[\u001b[0m\u001b[1;36m72\u001b[0m\u001b[1;33m,\u001b[0m \u001b[1;36m101\u001b[0m\u001b[1;33m,\u001b[0m \u001b[1;36m108\u001b[0m\u001b[1;33m,\u001b[0m \u001b[1;36m108\u001b[0m\u001b[1;33m,\u001b[0m \u001b[1;36m111\u001b[0m\u001b[1;33m]\u001b[0m\u001b[1;33m\u001b[0m\u001b[1;33m\u001b[0m\u001b[0m\n\u001b[0;32m      2\u001b[0m \u001b[0mint_bytes\u001b[0m \u001b[1;33m=\u001b[0m \u001b[0mbytes\u001b[0m\u001b[1;33m(\u001b[0m\u001b[0mint_list\u001b[0m\u001b[1;33m)\u001b[0m\u001b[1;33m\u001b[0m\u001b[1;33m\u001b[0m\u001b[0m\n\u001b[1;32m----> 3\u001b[1;33m \u001b[0mint_bytes\u001b[0m\u001b[1;33m[\u001b[0m\u001b[1;36m3\u001b[0m\u001b[1;33m]\u001b[0m \u001b[1;33m=\u001b[0m \u001b[1;36m77\u001b[0m\u001b[1;33m\u001b[0m\u001b[1;33m\u001b[0m\u001b[0m\n\u001b[0m",
      "\u001b[1;31mTypeError\u001b[0m: 'bytes' object does not support item assignment"
     ]
    }
   ],
   "source": [
    "int_list = [72, 101, 108, 108, 111]\n",
    "int_bytes = bytes(int_list)\n",
    "int_bytes[3] = 77"
   ]
  },
  {
   "cell_type": "markdown",
   "id": "313d6487",
   "metadata": {},
   "source": [
    "Note: We cannot change the element of the bytes after assigning."
   ]
  },
  {
   "cell_type": "markdown",
   "id": "ffdf9cf8",
   "metadata": {},
   "source": [
    "## 4. bytearray"
   ]
  },
  {
   "cell_type": "markdown",
   "id": "fd49dd38",
   "metadata": {},
   "source": [
    "The bytearray() function returns a bytearray object. It can convert objects into bytearray objects, or create empty bytearray object of the specified size."
   ]
  },
  {
   "cell_type": "code",
   "execution_count": 7,
   "id": "db9e6942",
   "metadata": {},
   "outputs": [
    {
     "name": "stdout",
     "output_type": "stream",
     "text": [
      "bytearray(b'Hello, world!')\n"
     ]
    }
   ],
   "source": [
    "# Creating a bytearray\n",
    "byte_array = bytearray(b\"Hello, world!\")\n",
    "print(byte_array)"
   ]
  },
  {
   "cell_type": "code",
   "execution_count": 8,
   "id": "9e86d4b8",
   "metadata": {},
   "outputs": [
    {
     "data": {
      "text/plain": [
       "72"
      ]
     },
     "execution_count": 8,
     "metadata": {},
     "output_type": "execute_result"
    }
   ],
   "source": [
    "byte_array[0] "
   ]
  },
  {
   "cell_type": "code",
   "execution_count": 9,
   "id": "e241b2f9",
   "metadata": {},
   "outputs": [
    {
     "data": {
      "text/plain": [
       "101"
      ]
     },
     "execution_count": 9,
     "metadata": {},
     "output_type": "execute_result"
    }
   ],
   "source": [
    "byte_array[1] "
   ]
  },
  {
   "cell_type": "code",
   "execution_count": 10,
   "id": "6cbc7f48",
   "metadata": {},
   "outputs": [],
   "source": [
    "# Modifying a byte at a specific index\n",
    "byte_array[0] = 55"
   ]
  },
  {
   "cell_type": "code",
   "execution_count": 11,
   "id": "4252ec42",
   "metadata": {},
   "outputs": [
    {
     "data": {
      "text/plain": [
       "55"
      ]
     },
     "execution_count": 11,
     "metadata": {},
     "output_type": "execute_result"
    }
   ],
   "source": [
    "byte_array[0] "
   ]
  },
  {
   "cell_type": "markdown",
   "id": "cd2b6fcf",
   "metadata": {},
   "source": [
    "## 5. memoryview"
   ]
  },
  {
   "cell_type": "markdown",
   "id": "1cbc2ce5",
   "metadata": {},
   "source": [
    "memoryview objects allow Python code to access the internal data of an object that supports the buffer protocol without copying. The memoryview() function allows direct read and write access to an object’s byte-oriented data without needing to copy it first. That can yield large performance gains when operating on large objects since it doesn’t create a copy when slicing."
   ]
  },
  {
   "cell_type": "code",
   "execution_count": 14,
   "id": "56a1030f",
   "metadata": {},
   "outputs": [
    {
     "name": "stdout",
     "output_type": "stream",
     "text": [
      "<memory at 0x000001B3676CEE80>\n",
      "<class 'memoryview'>\n"
     ]
    }
   ],
   "source": [
    "x = memoryview(bytes(5))\n",
    "\n",
    "#display x:\n",
    "print(x)\n",
    "\n",
    "#display the data type of x:\n",
    "print(type(x)) "
   ]
  },
  {
   "cell_type": "code",
   "execution_count": 15,
   "id": "80b495f1",
   "metadata": {},
   "outputs": [
    {
     "name": "stdout",
     "output_type": "stream",
     "text": [
      "Before update: bytearray(b'XYZ')\n",
      "After update: bytearray(b'XYJ')\n"
     ]
    }
   ],
   "source": [
    "# Modifying internal data using memory view\n",
    " \n",
    "# random bytearray\n",
    "byte_array = bytearray('XYZ', 'utf-8')\n",
    "print('Before update:', byte_array)\n",
    " \n",
    "mem_view = memoryview(byte_array)\n",
    " \n",
    "# update 2nd index of mem_view to J\n",
    "mem_view[2] = 74\n",
    "print('After update:', byte_array)"
   ]
  },
  {
   "cell_type": "code",
   "execution_count": 17,
   "id": "96685d76",
   "metadata": {},
   "outputs": [
    {
     "name": "stdout",
     "output_type": "stream",
     "text": [
      "<memory at 0x000001B3676FC4C0>\n",
      "88\n",
      "b'X'\n"
     ]
    }
   ],
   "source": [
    "byte_array = bytearray('XYZ', 'utf-8')\n",
    " \n",
    "mv = memoryview(byte_array)\n",
    "\n",
    "print(mv)\n",
    "print(mv[0])\n",
    "print(bytes(mv[0:1]))"
   ]
  }
 ],
 "metadata": {
  "kernelspec": {
   "display_name": "Python 3 (ipykernel)",
   "language": "python",
   "name": "python3"
  },
  "language_info": {
   "codemirror_mode": {
    "name": "ipython",
    "version": 3
   },
   "file_extension": ".py",
   "mimetype": "text/x-python",
   "name": "python",
   "nbconvert_exporter": "python",
   "pygments_lexer": "ipython3",
   "version": "3.9.13"
  }
 },
 "nbformat": 4,
 "nbformat_minor": 5
}
