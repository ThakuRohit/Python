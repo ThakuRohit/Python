{
 "cells": [
  {
   "cell_type": "code",
   "execution_count": 1,
   "id": "bfdc44c7",
   "metadata": {},
   "outputs": [],
   "source": [
    "a = [\"BMW\",\"AUDI\",\"MARUTI\",\"TATA\",\"TESLA\"]"
   ]
  },
  {
   "cell_type": "code",
   "execution_count": 2,
   "id": "9637682a",
   "metadata": {},
   "outputs": [
    {
     "name": "stdout",
     "output_type": "stream",
     "text": [
      "MARUTI\n",
      "TESLA\n"
     ]
    }
   ],
   "source": [
    "## Using indexing we can print any value of array\n",
    "\n",
    "print(a[2])\n",
    "print(a[-1])"
   ]
  },
  {
   "cell_type": "code",
   "execution_count": 3,
   "id": "6eaca80f",
   "metadata": {},
   "outputs": [
    {
     "name": "stdout",
     "output_type": "stream",
     "text": [
      "BMW\n",
      "AUDI\n",
      "MARUTI\n",
      "TATA\n",
      "TESLA\n"
     ]
    }
   ],
   "source": [
    "## using loop in array\n",
    "\n",
    "for x in a:\n",
    "    print(x)"
   ]
  },
  {
   "cell_type": "code",
   "execution_count": 4,
   "id": "624e7afa",
   "metadata": {},
   "outputs": [
    {
     "data": {
      "text/plain": [
       "5"
      ]
     },
     "execution_count": 4,
     "metadata": {},
     "output_type": "execute_result"
    }
   ],
   "source": [
    "## calculating the amount of value present\n",
    "\n",
    "len(a)"
   ]
  },
  {
   "cell_type": "markdown",
   "id": "9c633c6d",
   "metadata": {},
   "source": [
    "## ARRAY METHODS"
   ]
  },
  {
   "cell_type": "code",
   "execution_count": 5,
   "id": "0bc27501",
   "metadata": {},
   "outputs": [],
   "source": [
    "# append()\n",
    "\n",
    "a.append(\"SKODA\")"
   ]
  },
  {
   "cell_type": "code",
   "execution_count": 6,
   "id": "16e6a2d3",
   "metadata": {},
   "outputs": [
    {
     "data": {
      "text/plain": [
       "['BMW', 'AUDI', 'MARUTI', 'TATA', 'TESLA', 'SKODA']"
      ]
     },
     "execution_count": 6,
     "metadata": {},
     "output_type": "execute_result"
    }
   ],
   "source": [
    "a"
   ]
  },
  {
   "cell_type": "code",
   "execution_count": 7,
   "id": "0413f4d3",
   "metadata": {},
   "outputs": [],
   "source": [
    "# copy()\n",
    "\n",
    "b = a.copy()"
   ]
  },
  {
   "cell_type": "code",
   "execution_count": 8,
   "id": "9be53373",
   "metadata": {},
   "outputs": [
    {
     "data": {
      "text/plain": [
       "['BMW', 'AUDI', 'MARUTI', 'TATA', 'TESLA', 'SKODA']"
      ]
     },
     "execution_count": 8,
     "metadata": {},
     "output_type": "execute_result"
    }
   ],
   "source": [
    "b"
   ]
  },
  {
   "cell_type": "code",
   "execution_count": 9,
   "id": "a8119770",
   "metadata": {},
   "outputs": [
    {
     "data": {
      "text/plain": [
       "1"
      ]
     },
     "execution_count": 9,
     "metadata": {},
     "output_type": "execute_result"
    }
   ],
   "source": [
    "# count()\n",
    "\n",
    "a.count(\"AUDI\")"
   ]
  },
  {
   "cell_type": "code",
   "execution_count": 10,
   "id": "734190f6",
   "metadata": {},
   "outputs": [],
   "source": [
    "# extend()\n",
    "\n",
    "a.extend([\"MAHINDRA\",\"FORD\"])"
   ]
  },
  {
   "cell_type": "code",
   "execution_count": 11,
   "id": "3e518ae0",
   "metadata": {},
   "outputs": [
    {
     "data": {
      "text/plain": [
       "['BMW', 'AUDI', 'MARUTI', 'TATA', 'TESLA', 'SKODA', 'MAHINDRA', 'FORD']"
      ]
     },
     "execution_count": 11,
     "metadata": {},
     "output_type": "execute_result"
    }
   ],
   "source": [
    "a"
   ]
  },
  {
   "cell_type": "code",
   "execution_count": 14,
   "id": "57f13942",
   "metadata": {},
   "outputs": [],
   "source": [
    "b.extend([1,2,3,4])"
   ]
  },
  {
   "cell_type": "code",
   "execution_count": 15,
   "id": "66d46c14",
   "metadata": {},
   "outputs": [
    {
     "data": {
      "text/plain": [
       "['BMW', 'AUDI', 'MARUTI', 'TATA', 'TESLA', 'SKODA', 1, 2, 3, 4]"
      ]
     },
     "execution_count": 15,
     "metadata": {},
     "output_type": "execute_result"
    }
   ],
   "source": [
    "b"
   ]
  },
  {
   "cell_type": "code",
   "execution_count": 12,
   "id": "940f61e3",
   "metadata": {},
   "outputs": [
    {
     "data": {
      "text/plain": [
       "3"
      ]
     },
     "execution_count": 12,
     "metadata": {},
     "output_type": "execute_result"
    }
   ],
   "source": [
    "# index()\n",
    "\n",
    "a.index(\"TATA\")"
   ]
  },
  {
   "cell_type": "raw",
   "id": "edfe0a9d",
   "metadata": {},
   "source": [
    "Note: The index() method only returns the first occurrence of the value."
   ]
  },
  {
   "cell_type": "code",
   "execution_count": 16,
   "id": "8e562122",
   "metadata": {},
   "outputs": [],
   "source": [
    "# insert()\n",
    "\n",
    "a.insert(5,\"KIA\")"
   ]
  },
  {
   "cell_type": "code",
   "execution_count": 17,
   "id": "8ffa449e",
   "metadata": {},
   "outputs": [
    {
     "data": {
      "text/plain": [
       "['BMW', 'AUDI', 'MARUTI', 'TATA', 'TESLA', 'KIA', 'SKODA', 'MAHINDRA', 'FORD']"
      ]
     },
     "execution_count": 17,
     "metadata": {},
     "output_type": "execute_result"
    }
   ],
   "source": [
    "a"
   ]
  },
  {
   "cell_type": "raw",
   "id": "50faea3c",
   "metadata": {},
   "source": [
    "Note: insert element can be of any type (string, number, object etc.)"
   ]
  },
  {
   "cell_type": "code",
   "execution_count": 18,
   "id": "53c0819b",
   "metadata": {},
   "outputs": [
    {
     "data": {
      "text/plain": [
       "'TESLA'"
      ]
     },
     "execution_count": 18,
     "metadata": {},
     "output_type": "execute_result"
    }
   ],
   "source": [
    "# pop()\n",
    "\n",
    "a.pop(4)"
   ]
  },
  {
   "cell_type": "code",
   "execution_count": 19,
   "id": "1fca9e43",
   "metadata": {},
   "outputs": [
    {
     "data": {
      "text/plain": [
       "'FORD'"
      ]
     },
     "execution_count": 19,
     "metadata": {},
     "output_type": "execute_result"
    }
   ],
   "source": [
    "a.pop()"
   ]
  },
  {
   "cell_type": "raw",
   "id": "7143b439",
   "metadata": {},
   "source": [
    "Note: By default pop removes last element of the array."
   ]
  },
  {
   "cell_type": "code",
   "execution_count": 20,
   "id": "0b420c28",
   "metadata": {},
   "outputs": [],
   "source": [
    "# reverse()\n",
    "\n",
    "a.reverse()"
   ]
  },
  {
   "cell_type": "code",
   "execution_count": 21,
   "id": "b31df2d2",
   "metadata": {},
   "outputs": [
    {
     "data": {
      "text/plain": [
       "['MAHINDRA', 'SKODA', 'KIA', 'TATA', 'MARUTI', 'AUDI', 'BMW']"
      ]
     },
     "execution_count": 21,
     "metadata": {},
     "output_type": "execute_result"
    }
   ],
   "source": [
    "a"
   ]
  },
  {
   "cell_type": "code",
   "execution_count": 22,
   "id": "3524942e",
   "metadata": {},
   "outputs": [],
   "source": [
    "# clear()\n",
    "\n",
    "b.clear()"
   ]
  },
  {
   "cell_type": "code",
   "execution_count": 23,
   "id": "c183bd21",
   "metadata": {},
   "outputs": [
    {
     "data": {
      "text/plain": [
       "[]"
      ]
     },
     "execution_count": 23,
     "metadata": {},
     "output_type": "execute_result"
    }
   ],
   "source": [
    "b"
   ]
  },
  {
   "cell_type": "code",
   "execution_count": 24,
   "id": "9bae623a",
   "metadata": {},
   "outputs": [],
   "source": [
    "#sort\n",
    "\n",
    "a.sort()"
   ]
  },
  {
   "cell_type": "code",
   "execution_count": 25,
   "id": "37a777e9",
   "metadata": {},
   "outputs": [
    {
     "data": {
      "text/plain": [
       "['AUDI', 'BMW', 'KIA', 'MAHINDRA', 'MARUTI', 'SKODA', 'TATA']"
      ]
     },
     "execution_count": 25,
     "metadata": {},
     "output_type": "execute_result"
    }
   ],
   "source": [
    "a"
   ]
  },
  {
   "cell_type": "raw",
   "id": "2bae7213",
   "metadata": {},
   "source": [
    "Note: sort has two parameter\n",
    "    \n",
    "    1. reverse.\n",
    "    2. key"
   ]
  },
  {
   "cell_type": "code",
   "execution_count": 26,
   "id": "1785b1ac",
   "metadata": {},
   "outputs": [],
   "source": [
    "a.sort(reverse=True)"
   ]
  },
  {
   "cell_type": "code",
   "execution_count": 27,
   "id": "87144114",
   "metadata": {},
   "outputs": [
    {
     "data": {
      "text/plain": [
       "['TATA', 'SKODA', 'MARUTI', 'MAHINDRA', 'KIA', 'BMW', 'AUDI']"
      ]
     },
     "execution_count": 27,
     "metadata": {},
     "output_type": "execute_result"
    }
   ],
   "source": [
    "a"
   ]
  },
  {
   "cell_type": "code",
   "execution_count": 32,
   "id": "12ea043d",
   "metadata": {},
   "outputs": [],
   "source": [
    "a.sort(reverse=0)  # 0 = False, 1 = True"
   ]
  },
  {
   "cell_type": "code",
   "execution_count": 33,
   "id": "518be796",
   "metadata": {},
   "outputs": [
    {
     "data": {
      "text/plain": [
       "['AUDI', 'BMW', 'KIA', 'MAHINDRA', 'MARUTI', 'SKODA', 'TATA']"
      ]
     },
     "execution_count": 33,
     "metadata": {},
     "output_type": "execute_result"
    }
   ],
   "source": [
    "a"
   ]
  },
  {
   "cell_type": "code",
   "execution_count": 38,
   "id": "9a009610",
   "metadata": {},
   "outputs": [],
   "source": [
    "# A function that returns the length of the value:\n",
    "def myFunc(e):\n",
    "    return len(e)\n",
    "a.sort(key=myFunc)"
   ]
  },
  {
   "cell_type": "code",
   "execution_count": 39,
   "id": "15413487",
   "metadata": {},
   "outputs": [
    {
     "data": {
      "text/plain": [
       "['BMW', 'KIA', 'AUDI', 'TATA', 'SKODA', 'MARUTI', 'MAHINDRA']"
      ]
     },
     "execution_count": 39,
     "metadata": {},
     "output_type": "execute_result"
    }
   ],
   "source": [
    "a"
   ]
  },
  {
   "cell_type": "code",
   "execution_count": 40,
   "id": "a69dd724",
   "metadata": {},
   "outputs": [],
   "source": [
    "# A function that returns the length of the value:\n",
    "def myFunc(e):\n",
    "    return len(e)\n",
    "\n",
    "a.sort(reverse=1,key=myFunc)"
   ]
  },
  {
   "cell_type": "code",
   "execution_count": 41,
   "id": "97fed251",
   "metadata": {},
   "outputs": [
    {
     "data": {
      "text/plain": [
       "['MAHINDRA', 'MARUTI', 'SKODA', 'AUDI', 'TATA', 'BMW', 'KIA']"
      ]
     },
     "execution_count": 41,
     "metadata": {},
     "output_type": "execute_result"
    }
   ],
   "source": [
    "a"
   ]
  },
  {
   "cell_type": "markdown",
   "id": "c992b6f0",
   "metadata": {},
   "source": [
    "## QUESTIONS"
   ]
  },
  {
   "cell_type": "raw",
   "id": "849079a9",
   "metadata": {},
   "source": [
    "1. Find the Missing Number: \n",
    "   Given an array containing n distinct numbers taken from 0, 1, 2, ..., n, find the one that is missing from the array."
   ]
  },
  {
   "cell_type": "code",
   "execution_count": 7,
   "id": "9d28b184",
   "metadata": {},
   "outputs": [],
   "source": [
    "def missing_number(arr):\n",
    "    missed_number = []\n",
    "    for i in range(n):\n",
    "        if i not in arr:\n",
    "            missed_number.append(i)\n",
    "    return missed_number"
   ]
  },
  {
   "cell_type": "code",
   "execution_count": 8,
   "id": "b1b7b5c7",
   "metadata": {},
   "outputs": [
    {
     "data": {
      "text/plain": [
       "[4, 6]"
      ]
     },
     "execution_count": 8,
     "metadata": {},
     "output_type": "execute_result"
    }
   ],
   "source": [
    "n = 7\n",
    "arr_1 = [0,1,2,3,5,7]\n",
    "missing_number(arr_1)"
   ]
  },
  {
   "cell_type": "raw",
   "id": "46e0068c",
   "metadata": {},
   "source": [
    "NOTE: for constant n, the time complexity of code is O(n)"
   ]
  },
  {
   "cell_type": "raw",
   "id": "1d25a163",
   "metadata": {},
   "source": [
    "2. Find the Duplicate Number:\n",
    "   Given an array of integers nums containing n + 1 integers where each integer is in the range [1, n], find the duplicate one."
   ]
  },
  {
   "cell_type": "code",
   "execution_count": 22,
   "id": "5af56126",
   "metadata": {},
   "outputs": [],
   "source": [
    "def duplicate_number(arr):\n",
    "    duplicate_array = []\n",
    "    arr.sort()\n",
    "    for i in range(len(arr)-1):\n",
    "        if arr[i] == arr[i+1] and arr[i] not in duplicate_array:\n",
    "            duplicate_array.append(arr[i])\n",
    "    return duplicate_array"
   ]
  },
  {
   "cell_type": "code",
   "execution_count": 23,
   "id": "25094d60",
   "metadata": {},
   "outputs": [
    {
     "data": {
      "text/plain": [
       "[3]"
      ]
     },
     "execution_count": 23,
     "metadata": {},
     "output_type": "execute_result"
    }
   ],
   "source": [
    "n = 8\n",
    "arr_2 = [1,3,5,8,2,6,7,4,3]\n",
    "duplicate_number(arr_2)"
   ]
  },
  {
   "cell_type": "raw",
   "id": "87826422",
   "metadata": {},
   "source": [
    "NOTE: for constant n,\n",
    "    - time taken by sort() is O(n logn)\n",
    "    - time taken by for loop is O(n)\n",
    "    Total time complexity of code is O(n logn)."
   ]
  },
  {
   "cell_type": "raw",
   "id": "82d1d5b8",
   "metadata": {},
   "source": [
    "alternative approach ( USING ABS() )\n",
    "-- abs() , it is the positve distance between 0 and number(x)"
   ]
  },
  {
   "cell_type": "code",
   "execution_count": 30,
   "id": "c7ec0b0c",
   "metadata": {},
   "outputs": [
    {
     "name": "stdout",
     "output_type": "stream",
     "text": [
      "3\n",
      "7\n"
     ]
    }
   ],
   "source": [
    "print(abs(3))\n",
    "print(abs(-7))"
   ]
  },
  {
   "cell_type": "code",
   "execution_count": 29,
   "id": "702fad4a",
   "metadata": {},
   "outputs": [],
   "source": [
    "def duplicate_number(arr):\n",
    "    duplicate_array = []\n",
    "\n",
    "    for num in arr:\n",
    "        index = abs(num) - 1\n",
    "        if arr[index] < 0 and num not in duplicate_array:\n",
    "            duplicate_array.append(num)\n",
    "        else:\n",
    "            arr[index] = -arr[index]\n",
    "\n",
    "    return duplicate_array"
   ]
  },
  {
   "cell_type": "raw",
   "id": "80a02376",
   "metadata": {},
   "source": [
    "- time taken by for loop is O(n)\n",
    "- time taken by abs, if condition is O(1)\n",
    "Total time complexity is O(n)."
   ]
  },
  {
   "cell_type": "raw",
   "id": "b957f290",
   "metadata": {},
   "source": [
    "3. Largest Sum Contiguous Subarray (Kadane's Algorithm): \n",
    "   Find the contiguous subarray within an array (containing at least one number) that has the largest sum."
   ]
  },
  {
   "cell_type": "code",
   "execution_count": 8,
   "id": "f39a48d0",
   "metadata": {},
   "outputs": [],
   "source": [
    "def max_sum_subarr(arr):\n",
    "    max_sum = arr[0]\n",
    "    curr_sum = arr[0]\n",
    "    curr_point = 0\n",
    "    start_point = 0\n",
    "    end_point = 0\n",
    "    \n",
    "    for i in range(1,len(arr)):\n",
    "        if arr[i] > curr_sum + arr[i] :\n",
    "            curr_sum = arr[i]\n",
    "            curr_point = i\n",
    "        else:\n",
    "            curr_sum += arr[i]\n",
    "            \n",
    "        if curr_sum > max_sum:\n",
    "            max_sum = curr_sum\n",
    "            start = curr_point\n",
    "            end = i\n",
    "    return arr[start:end+1],max_sum"
   ]
  },
  {
   "cell_type": "code",
   "execution_count": 9,
   "id": "eeedc034",
   "metadata": {},
   "outputs": [
    {
     "data": {
      "text/plain": [
       "([4, 7, -1, 2, 1], 13)"
      ]
     },
     "execution_count": 9,
     "metadata": {},
     "output_type": "execute_result"
    }
   ],
   "source": [
    "arr_3 = [-2, 1, -3, 4, 7, -1, 2, 1, -5, 4]\n",
    "max_sum_subarr(arr_3)"
   ]
  },
  {
   "cell_type": "raw",
   "id": "8c7502b0",
   "metadata": {},
   "source": [
    "- time taken by for loop is O(n)\n",
    "- time taken by if condition and assign is O(1)\n",
    "Total time complexity is O(n)"
   ]
  },
  {
   "cell_type": "raw",
   "id": "46156e72",
   "metadata": {},
   "source": [
    "4. Rotate Array: \n",
    "Rotate an array of n elements to the right by k steps."
   ]
  },
  {
   "cell_type": "code",
   "execution_count": 3,
   "id": "555a21b6",
   "metadata": {},
   "outputs": [],
   "source": [
    "def rotate_byK(arr,k):\n",
    "    if arr is None:\n",
    "        return arr\n",
    "    n = len(arr)\n",
    "    k = k % n\n",
    "    return arr[-k:] + arr[:-k]"
   ]
  },
  {
   "cell_type": "code",
   "execution_count": 4,
   "id": "f943b623",
   "metadata": {},
   "outputs": [
    {
     "data": {
      "text/plain": [
       "[7, 9, 1, 3, 5]"
      ]
     },
     "execution_count": 4,
     "metadata": {},
     "output_type": "execute_result"
    }
   ],
   "source": [
    "arr_4 = [1,3,5,7,9]\n",
    "rotate_byK(arr_4,2)"
   ]
  },
  {
   "cell_type": "raw",
   "id": "5c8a090d",
   "metadata": {},
   "source": [
    "- time taken for initializing is O(1)\n",
    "- taken taken for concatenating is O(n)\n",
    "Total time complexity is O(n)"
   ]
  },
  {
   "cell_type": "raw",
   "id": "fcc60eed",
   "metadata": {},
   "source": [
    "5.Merge Sorted Arrays: \n",
    "Given two sorted integer arrays nums1 and nums2, merge nums2 into nums1 as one sorted array."
   ]
  },
  {
   "cell_type": "code",
   "execution_count": 6,
   "id": "a7945c53",
   "metadata": {},
   "outputs": [],
   "source": [
    "def sorted_arrs(arr1,arr2):\n",
    "    return sorted(arr1 + arr2)"
   ]
  },
  {
   "cell_type": "code",
   "execution_count": 19,
   "id": "3ebdeb40",
   "metadata": {},
   "outputs": [
    {
     "data": {
      "text/plain": [
       "[1, 2, 3, 5, 6, 7, 10]"
      ]
     },
     "execution_count": 19,
     "metadata": {},
     "output_type": "execute_result"
    }
   ],
   "source": [
    "num1 = [1, 3, 5, 7]\n",
    "num2 = [2, 4, 6, 8]\n",
    "sorted_arrs(num1,num2)"
   ]
  },
  {
   "cell_type": "raw",
   "id": "c75ee08c",
   "metadata": {},
   "source": [
    "- time taken by sorted() is O(n log(n))\n",
    "Total time complexity is O(n log(n))"
   ]
  },
  {
   "cell_type": "code",
   "execution_count": 10,
   "id": "8172bfae",
   "metadata": {},
   "outputs": [],
   "source": [
    "## alternative approach"
   ]
  },
  {
   "cell_type": "code",
   "execution_count": 18,
   "id": "fc1e718e",
   "metadata": {},
   "outputs": [],
   "source": [
    "def sorted_arrs_2(arr1,arr2):\n",
    "    i = len(arr1) - 1            # indexing for arr1\n",
    "    j = len(arr2) - 1            # indexing for arr2\n",
    "    k = len(arr1) + len(arr2) - 1\n",
    "    arr1 = arr1 + [0 for i in range(j+1)]\n",
    "    while i >= 0 and j >= 0:\n",
    "        if arr1[i] > arr2[j]:\n",
    "            arr1[k] = arr1[i]\n",
    "            i-=1\n",
    "        else:\n",
    "            arr1[k] = arr2[j]\n",
    "            j-=1\n",
    "        k-=1\n",
    "    while j >=0:\n",
    "        arr1[k] = arr2[j]\n",
    "        j-=1\n",
    "        k-=1\n",
    "    return arr1"
   ]
  },
  {
   "cell_type": "code",
   "execution_count": 19,
   "id": "f45ef6f9",
   "metadata": {},
   "outputs": [
    {
     "data": {
      "text/plain": [
       "[1, 2, 3, 4, 5, 7, 8, 10]"
      ]
     },
     "execution_count": 19,
     "metadata": {},
     "output_type": "execute_result"
    }
   ],
   "source": [
    "num1 = [1, 3, 5, 7]\n",
    "num2 = [2, 4, 8, 10]\n",
    "sorted_arrs_2(num1,num2)"
   ]
  },
  {
   "cell_type": "raw",
   "id": "780b81a8",
   "metadata": {},
   "source": [
    "- time taken to append 0 in arr1 is O(len(num2)) ,since both arrays are of size \"n\" , O(n)\n",
    "- time taken to iterate both array and merging them is O(n+n)\n",
    "- time taken to copying any left element in arr2 is O(n)\n",
    "Total time complexity is O(n)"
   ]
  },
  {
   "cell_type": "raw",
   "id": "76896c5c",
   "metadata": {},
   "source": [
    "6. Find Peak Element: \n",
    "A peak element in an array is an element that is greater than its neighbors. Find the peak element and return its index."
   ]
  },
  {
   "cell_type": "code",
   "execution_count": 31,
   "id": "844918cf",
   "metadata": {},
   "outputs": [],
   "source": [
    "def peak_element(arr):\n",
    "    n = len(arr)\n",
    "    \n",
    "    if n == 1 or arr[0] >= arr[1]:\n",
    "        print(0)\n",
    "    \n",
    "    if arr[n-1] >= arr[n-2]:\n",
    "        print(n-1)\n",
    "    \n",
    "    for k in range(1,n-1):\n",
    "        if arr[k-1] <= arr[k] >= arr[k+1]:\n",
    "            print(k)\n",
    "    return"
   ]
  },
  {
   "cell_type": "code",
   "execution_count": 32,
   "id": "c6c04633",
   "metadata": {},
   "outputs": [
    {
     "name": "stdout",
     "output_type": "stream",
     "text": [
      "0\n",
      "4\n"
     ]
    }
   ],
   "source": [
    "arr_6 = [5,4,3,2,6]\n",
    "peak_element(arr_6)"
   ]
  },
  {
   "cell_type": "raw",
   "id": "f7eb5b43",
   "metadata": {},
   "source": [
    "- time taken to check first and last element is O(1)\n",
    "- time taken in loop to find peak element is O(n-2)\n",
    "- time taken to print the element is O(1)\n",
    "Total time complexity is O(n)"
   ]
  },
  {
   "cell_type": "code",
   "execution_count": 34,
   "id": "9c0e7208",
   "metadata": {},
   "outputs": [],
   "source": [
    "## Alternative appraoch using binary search"
   ]
  },
  {
   "cell_type": "code",
   "execution_count": 12,
   "id": "c085cfed",
   "metadata": {},
   "outputs": [],
   "source": [
    "def peak_element_2(arr):\n",
    "    n = len(arr)\n",
    "    i = 0\n",
    "    j = n - 1\n",
    "    \n",
    "    while i <= j:\n",
    "        mid = (i + j) // 2\n",
    "        \n",
    "        if (mid == 0 or arr[mid - 1] <= arr[mid]) and (mid == n - 1 or arr[mid + 1] <= arr[mid]):\n",
    "            print(mid)\n",
    "        \n",
    "        if mid > 0 and arr[mid - 1] > arr[mid]:\n",
    "            j = mid - 1\n",
    "        else:\n",
    "            i = mid + 1\n",
    "    return"
   ]
  },
  {
   "cell_type": "code",
   "execution_count": 13,
   "id": "52d4faf9",
   "metadata": {},
   "outputs": [
    {
     "name": "stdout",
     "output_type": "stream",
     "text": [
      "0\n"
     ]
    }
   ],
   "source": [
    "arr_6 = [5,4,3,2,6]\n",
    "peak_element_2(arr_6)"
   ]
  },
  {
   "cell_type": "raw",
   "id": "76ea4681",
   "metadata": {},
   "source": [
    "- time taken for mid term of each element is O(n/2)\n",
    "- time taken for initailizing `is O(1)\n",
    "Total time complexity is O(logn)"
   ]
  },
  {
   "cell_type": "raw",
   "id": "6d351af9",
   "metadata": {},
   "source": [
    "7. Search in Rotated Sorted Array: \n",
    "Suppose an array of length n sorted in ascending order is rotated between 1 and n times. Given a target value, return the index if the target is found, or -1 if it is not found"
   ]
  },
  {
   "cell_type": "code",
   "execution_count": 20,
   "id": "c3fead6b",
   "metadata": {},
   "outputs": [],
   "source": [
    "def search_element(arr,k):\n",
    "    n = len(arr)\n",
    "    for i in range(len(arr)):\n",
    "        if arr[i] == k:\n",
    "            return i\n",
    "    return -1"
   ]
  },
  {
   "cell_type": "code",
   "execution_count": 21,
   "id": "a47466db",
   "metadata": {},
   "outputs": [
    {
     "data": {
      "text/plain": [
       "4"
      ]
     },
     "execution_count": 21,
     "metadata": {},
     "output_type": "execute_result"
    }
   ],
   "source": [
    "arr_7 = [3,4,5,1,2]\n",
    "search_element(arr_7,2)"
   ]
  },
  {
   "cell_type": "raw",
   "id": "18d53e89",
   "metadata": {},
   "source": [
    "- time taken by loop is O(n)\n",
    "Total time complexity is O(n)"
   ]
  },
  {
   "cell_type": "code",
   "execution_count": 22,
   "id": "d43db13d",
   "metadata": {},
   "outputs": [],
   "source": [
    "## alternative approach using binary search|"
   ]
  },
  {
   "cell_type": "code",
   "execution_count": 11,
   "id": "38aaa414",
   "metadata": {},
   "outputs": [],
   "source": [
    "def search_element_2(arr,k):\n",
    "    i = 0\n",
    "    j = len(arr) - 1\n",
    "    while i <= j:\n",
    "        mid = (i+j) //2\n",
    "        \n",
    "        if (mid == 0 or arr[mid - 1] <= arr[mid]) and (mid == len(arr) - 1 or arr[mid + 1] <= arr[mid]):\n",
    "            m = mid\n",
    "            break\n",
    "        if mid > 0 and arr[mid - 1] > arr[mid]:\n",
    "            j = mid - 1\n",
    "        else:\n",
    "            i = mid + 1\n",
    "    \n",
    "    i = 0\n",
    "    j = m\n",
    "    while i <= j:\n",
    "        mid = (i + j) // 2\n",
    "        if arr[mid] == k:\n",
    "            return mid\n",
    "        elif arr[mid] < k:\n",
    "            i = mid + 1\n",
    "        else:\n",
    "            j = mid - 1\n",
    "\n",
    "    i = m\n",
    "    j = len(arr) - 1\n",
    "    while i <= j:\n",
    "        mid = (i + j) // 2\n",
    "        if arr[mid] == k:\n",
    "            return mid\n",
    "        elif arr[mid] < k:\n",
    "            i = mid + 1\n",
    "        else:\n",
    "            j = mid - 1\n",
    "\n",
    "    return -1"
   ]
  },
  {
   "cell_type": "code",
   "execution_count": 12,
   "id": "8ac051ef",
   "metadata": {},
   "outputs": [
    {
     "data": {
      "text/plain": [
       "4"
      ]
     },
     "execution_count": 12,
     "metadata": {},
     "output_type": "execute_result"
    }
   ],
   "source": [
    "arr_7 = [3,4,5,1,2]\n",
    "search_element_2(arr_7,2)"
   ]
  },
  {
   "cell_type": "raw",
   "id": "1af36eaa",
   "metadata": {},
   "source": [
    "- Time taken to find the peak element is O(logn)\n",
    "- Time taken to find the required element in the arr is O(logn)\n",
    "Total time complexity is O(logn)"
   ]
  },
  {
   "cell_type": "raw",
   "id": "e900e92d",
   "metadata": {},
   "source": [
    "8. Maximum Product Subarray: \n",
    "Given an integer array nums, find a contiguous non-empty subarray within the array that has the largest product."
   ]
  },
  {
   "cell_type": "code",
   "execution_count": 17,
   "id": "ad9f4980",
   "metadata": {},
   "outputs": [],
   "source": [
    "def max_product_arr(arr):\n",
    "    if not arr:\n",
    "        return None, 0\n",
    "    \n",
    "    max_prod = arr[0]\n",
    "    curr_prod = arr[0]\n",
    "    max_start = max_end = curr_start = 0\n",
    "    \n",
    "    for i in range(1, len(arr)):\n",
    "        if arr[i] > curr_prod * arr[i]:\n",
    "            curr_prod = arr[i]\n",
    "            curr_start = i\n",
    "        else:\n",
    "            curr_prod *= arr[i]\n",
    "        \n",
    "        if curr_prod > max_prod:\n",
    "            max_prod = curr_prod\n",
    "            max_start = curr_start\n",
    "            max_end = i\n",
    "    \n",
    "    return arr[max_start:max_end + 1], max_prod"
   ]
  },
  {
   "cell_type": "code",
   "execution_count": 18,
   "id": "bff8a353",
   "metadata": {},
   "outputs": [
    {
     "data": {
      "text/plain": [
       "([-3, -10], 30)"
      ]
     },
     "execution_count": 18,
     "metadata": {},
     "output_type": "execute_result"
    }
   ],
   "source": [
    "arr_8 = [6, -3, -10, 0, 2]\n",
    "max_product_arr(arr_8)"
   ]
  },
  {
   "cell_type": "raw",
   "id": "a5fdc8ce",
   "metadata": {},
   "source": [
    "- Time taken in for traversing the element is O(n)\n",
    "- Time taken in conditional and assigning is O(1)\n",
    "Total time complexity is O(n)"
   ]
  },
  {
   "cell_type": "raw",
   "id": "4ae2f394",
   "metadata": {},
   "source": [
    "9. Two Sum: \n",
    "Given an array of integers nums and an integer target, return indices of the two numbers such that they add up to target."
   ]
  },
  {
   "cell_type": "code",
   "execution_count": 53,
   "id": "b12d5775",
   "metadata": {},
   "outputs": [],
   "source": [
    "def target_sum(arr, target):\n",
    "    dict = {}\n",
    "    for i, num in enumerate(arr):\n",
    "        complement = target - num\n",
    "        if complement in dict:\n",
    "            return dict[complement],i\n",
    "        dict[num] = i\n",
    "    return"
   ]
  },
  {
   "cell_type": "code",
   "execution_count": 54,
   "id": "9d866f7b",
   "metadata": {},
   "outputs": [
    {
     "data": {
      "text/plain": [
       "(1, 3)"
      ]
     },
     "execution_count": 54,
     "metadata": {},
     "output_type": "execute_result"
    }
   ],
   "source": [
    "arr_9 = [1,3,9,4]\n",
    "target_sum(arr_9,7)"
   ]
  },
  {
   "cell_type": "raw",
   "id": "bf7d0806",
   "metadata": {},
   "source": [
    "- Time taken for iterating is O(n)\n",
    "- Time taken to find index in dictionary is O(1)\n",
    "Total time complexity is O(n)"
   ]
  },
  {
   "cell_type": "raw",
   "id": "3d542fc8",
   "metadata": {},
   "source": [
    "10. Move Zeroes: \n",
    "Given an array nums, move all 0's to the end of it while maintaining the relative order of the non-zero elements."
   ]
  },
  {
   "cell_type": "code",
   "execution_count": 57,
   "id": "f4d60099",
   "metadata": {},
   "outputs": [],
   "source": [
    "def zeroes_moves_arr(arr):\n",
    "    n = len(arr)\n",
    "    c = 0\n",
    "    for i in range(n):\n",
    "        if arr[i] != 0 :\n",
    "            arr[c] = arr[i]\n",
    "            c +=1\n",
    "    \n",
    "    while c < n:\n",
    "        arr[c] = 0\n",
    "        c+=1\n",
    "    return arr"
   ]
  },
  {
   "cell_type": "code",
   "execution_count": 58,
   "id": "32d9acfa",
   "metadata": {},
   "outputs": [
    {
     "data": {
      "text/plain": [
       "[1, 4, 0, 0]"
      ]
     },
     "execution_count": 58,
     "metadata": {},
     "output_type": "execute_result"
    }
   ],
   "source": [
    "arr_10 = [1,0,4,0]\n",
    "zeroes_moves_arr(arr_10)"
   ]
  },
  {
   "cell_type": "raw",
   "id": "7e796cc2",
   "metadata": {},
   "source": [
    "- Time taken in for loop is O(n)\n",
    "- Time taken in conditional or assign is O(1)\n",
    "Total time complexity is O(n)"
   ]
  }
 ],
 "metadata": {
  "kernelspec": {
   "display_name": "Python 3 (ipykernel)",
   "language": "python",
   "name": "python3"
  },
  "language_info": {
   "codemirror_mode": {
    "name": "ipython",
    "version": 3
   },
   "file_extension": ".py",
   "mimetype": "text/x-python",
   "name": "python",
   "nbconvert_exporter": "python",
   "pygments_lexer": "ipython3",
   "version": "3.9.13"
  }
 },
 "nbformat": 4,
 "nbformat_minor": 5
}
