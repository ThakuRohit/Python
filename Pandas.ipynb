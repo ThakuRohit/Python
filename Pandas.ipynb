{
 "cells": [
  {
   "cell_type": "markdown",
   "id": "a888edae",
   "metadata": {},
   "source": [
    "## PANDAS"
   ]
  },
  {
   "cell_type": "code",
   "execution_count": 1,
   "id": "e8c27ac0",
   "metadata": {},
   "outputs": [],
   "source": [
    "## \"Pandas\" has a reference to both \"Panel Data\", and \"Python Data Analysis\"\n",
    "\n",
    "## Pandas is python library used for working with data sets.\n",
    "## It has a function for analyzing, cleaning, exploring and manipulating data.\n",
    "## Pandas allow us to analyze data and to make conclusions using statistical methods.\n",
    "## Pandas help to remove messy data and make it relevant, readable and precise."
   ]
  },
  {
   "cell_type": "code",
   "execution_count": 7,
   "id": "e2b920ee",
   "metadata": {},
   "outputs": [
    {
     "name": "stdout",
     "output_type": "stream",
     "text": [
      "Requirement already satisfied: pip in c:\\users\\dell\\anaconda3\\lib\\site-packages (24.0)\n",
      "Collecting pip\n",
      "  Downloading pip-24.1.1-py3-none-any.whl.metadata (3.6 kB)\n",
      "Downloading pip-24.1.1-py3-none-any.whl (1.8 MB)\n",
      "   ---------------------------------------- 1.8/1.8 MB 8.3 MB/s eta 0:00:00\n",
      "Installing collected packages: pip\n",
      "  Attempting uninstall: pip\n",
      "    Found existing installation: pip 24.0\n",
      "    Uninstalling pip-24.0:\n",
      "      Successfully uninstalled pip-24.0\n",
      "Successfully installed pip-24.1.1\n",
      "Note: you may need to restart the kernel to use updated packages.\n"
     ]
    }
   ],
   "source": [
    "pip install --upgrade pip"
   ]
  },
  {
   "cell_type": "code",
   "execution_count": 2,
   "id": "f67bca03",
   "metadata": {},
   "outputs": [
    {
     "name": "stdout",
     "output_type": "stream",
     "text": [
      "Requirement already satisfied: pandas in c:\\users\\dell\\anaconda3\\lib\\site-packages (2.2.2)\n",
      "Requirement already satisfied: numpy>=1.22.4 in c:\\users\\dell\\appdata\\roaming\\python\\python39\\site-packages (from pandas) (1.26.4)\n",
      "Requirement already satisfied: python-dateutil>=2.8.2 in c:\\users\\dell\\anaconda3\\lib\\site-packages (from pandas) (2.8.2)\n",
      "Requirement already satisfied: pytz>=2020.1 in c:\\users\\dell\\anaconda3\\lib\\site-packages (from pandas) (2022.1)\n",
      "Requirement already satisfied: tzdata>=2022.7 in c:\\users\\dell\\anaconda3\\lib\\site-packages (from pandas) (2024.1)\n",
      "Requirement already satisfied: six>=1.5 in c:\\users\\dell\\anaconda3\\lib\\site-packages (from python-dateutil>=2.8.2->pandas) (1.16.0)\n"
     ]
    }
   ],
   "source": [
    "## To install pandas :-\n",
    "!pip install --upgrade pandas"
   ]
  },
  {
   "cell_type": "code",
   "execution_count": 3,
   "id": "aa1b56ee",
   "metadata": {},
   "outputs": [],
   "source": [
    "## Importing pandas and alias (alternate name) it\n",
    "\n",
    "import pandas as pd"
   ]
  },
  {
   "cell_type": "markdown",
   "id": "c6c28a2e",
   "metadata": {},
   "source": [
    "### DATAFRAME"
   ]
  },
  {
   "cell_type": "code",
   "execution_count": 4,
   "id": "a3c52abe",
   "metadata": {},
   "outputs": [],
   "source": [
    "## It 2 dimensional data structure, like a 2 dimensional array, or a table with rows and columns."
   ]
  },
  {
   "cell_type": "code",
   "execution_count": 5,
   "id": "a4bf4296",
   "metadata": {},
   "outputs": [
    {
     "name": "stdout",
     "output_type": "stream",
     "text": [
      "    cars  Air_bags\n",
      "0  Civic         4\n",
      "1   City         4\n",
      "2  Amaze         6\n",
      "3   Claz         4\n"
     ]
    }
   ],
   "source": [
    "## Creating the DataFrame\n",
    "\n",
    "my_dev = {\"cars\" : [\"Civic\",\"City\",'Amaze','Claz'],\n",
    "         \"Air_bags\" : [4,4,6,4]}\n",
    "\n",
    "my_var = pd.DataFrame(my_dev)\n",
    "print(my_var)"
   ]
  },
  {
   "cell_type": "code",
   "execution_count": 6,
   "id": "81995179",
   "metadata": {},
   "outputs": [],
   "source": [
    "## Note : DataFrame creates table like structure. "
   ]
  },
  {
   "cell_type": "code",
   "execution_count": 7,
   "id": "67149dfa",
   "metadata": {},
   "outputs": [
    {
     "name": "stdout",
     "output_type": "stream",
     "text": [
      "    cars  Air_bags\n",
      "0  Civic         4\n",
      "1   City         4\n"
     ]
    }
   ],
   "source": [
    "# To print first 2 rows of my_dev (DataFrame), we can use loc\n",
    "\n",
    "print(my_var.loc[:1])"
   ]
  },
  {
   "cell_type": "code",
   "execution_count": 8,
   "id": "4b695d79",
   "metadata": {},
   "outputs": [
    {
     "name": "stdout",
     "output_type": "stream",
     "text": [
      "    cars  Air_bags\n",
      "P  Civic         4\n",
      "Q   City         4\n",
      "R  Amaze         6\n",
      "S   Claz         4\n"
     ]
    }
   ],
   "source": [
    "## To rename the index of dataframe, use index\n",
    "\n",
    "import pandas as pd\n",
    "\n",
    "my_dev = {\"cars\" : [\"Civic\",\"City\",'Amaze','Claz'],\n",
    "         \"Air_bags\" : [4,4,6,4]}\n",
    "\n",
    "my_var = pd.DataFrame(my_dev, index = [\"P\",\"Q\",\"R\",\"S\"])\n",
    "print(my_var)\n"
   ]
  },
  {
   "cell_type": "markdown",
   "id": "2917f365",
   "metadata": {},
   "source": [
    "### PANDA SERIES"
   ]
  },
  {
   "cell_type": "code",
   "execution_count": 9,
   "id": "f4f29f7d",
   "metadata": {},
   "outputs": [],
   "source": [
    "## It is like a 1-dimensional array caring data of any type."
   ]
  },
  {
   "cell_type": "code",
   "execution_count": 10,
   "id": "53acd204",
   "metadata": {},
   "outputs": [
    {
     "name": "stdout",
     "output_type": "stream",
     "text": [
      "0    1\n",
      "1    4\n",
      "2    9\n",
      "dtype: int64\n",
      "\n",
      "0      1\n",
      "1      a\n",
      "2    5.9\n",
      "dtype: object\n"
     ]
    }
   ],
   "source": [
    "import pandas as pd\n",
    "\n",
    "# Putting int type array in series\n",
    "arr = [1,4,9]\n",
    "pd_series_1 = pd.Series(arr)\n",
    "print(pd_series_1)\n",
    "\n",
    "print()\n",
    "# Putting multi type array in series\n",
    "pd_series_2 = pd.Series([1,\"a\",5.90])\n",
    "print(pd_series_2)"
   ]
  },
  {
   "cell_type": "code",
   "execution_count": 11,
   "id": "252ebb10",
   "metadata": {},
   "outputs": [
    {
     "name": "stdout",
     "output_type": "stream",
     "text": [
      "a   -0.475700\n",
      "b   -0.105042\n",
      "c   -1.263089\n",
      "d    0.601423\n",
      "e    0.218288\n",
      "dtype: float64\n"
     ]
    }
   ],
   "source": [
    "## Creating series using numpy\n",
    "\n",
    "import pandas as pd\n",
    "import numpy as np\n",
    "\n",
    "## random select the random numbers, randn select the number following normal distribution\n",
    "series_numpy = pd.Series(np.random.randn(5), index = [\"a\",\"b\",\"c\",\"d\",\"e\"])\n",
    "print(series_numpy)"
   ]
  },
  {
   "cell_type": "markdown",
   "id": "bd5e8738",
   "metadata": {},
   "source": [
    "### Creating own label for series"
   ]
  },
  {
   "cell_type": "code",
   "execution_count": 12,
   "id": "d5e5f475",
   "metadata": {},
   "outputs": [
    {
     "name": "stdout",
     "output_type": "stream",
     "text": [
      "x    1\n",
      "y    2\n",
      "z    3\n",
      "dtype: int64\n"
     ]
    }
   ],
   "source": [
    "## Using index() we can create our own label\n",
    "\n",
    "import pandas as pd\n",
    "label_Series = pd.Series([1,2,3], index = ['x','y','z'])\n",
    "print(label_Series)"
   ]
  },
  {
   "cell_type": "code",
   "execution_count": 13,
   "id": "2f0b6c2a",
   "metadata": {},
   "outputs": [
    {
     "name": "stdout",
     "output_type": "stream",
     "text": [
      "2\n"
     ]
    }
   ],
   "source": [
    "# Checking indexing\n",
    "\n",
    "print(label_Series['y'])"
   ]
  },
  {
   "cell_type": "code",
   "execution_count": 14,
   "id": "970e79cd",
   "metadata": {},
   "outputs": [
    {
     "name": "stdout",
     "output_type": "stream",
     "text": [
      "a    1\n",
      "b    2\n",
      "c    3\n",
      "dtype: int64\n"
     ]
    }
   ],
   "source": [
    "## creating series using dictionary\n",
    "\n",
    "import pandas as pd\n",
    "\n",
    "dict = {\"a\":1, \"b\":2, \"c\":3}\n",
    "dict_series = pd.Series(dict)\n",
    "print(dict_series)"
   ]
  },
  {
   "cell_type": "code",
   "execution_count": 15,
   "id": "0bd2970e",
   "metadata": {},
   "outputs": [
    {
     "name": "stdout",
     "output_type": "stream",
     "text": [
      "p    20\n",
      "q    21\n",
      "dtype: int64\n"
     ]
    }
   ],
   "source": [
    "## creating custom index in dictionary \n",
    "\n",
    "import pandas as pd\n",
    "\n",
    "dict = {'p':20, \"q\":21, \"r\":22}\n",
    "dict_series_c = pd.Series(dict, index = [\"p\",\"q\"])\n",
    "print(dict_series_c)"
   ]
  },
  {
   "cell_type": "code",
   "execution_count": 16,
   "id": "72364322",
   "metadata": {},
   "outputs": [
    {
     "name": "stdout",
     "output_type": "stream",
     "text": [
      "0   -0.506378\n",
      "1    1.789226\n",
      "2   -0.176619\n",
      "3    2.126000\n",
      "4    1.107489\n",
      "Name: Developer, dtype: float64\n"
     ]
    }
   ],
   "source": [
    "## Giving name to the series\n",
    "\n",
    "import pandas as pd\n",
    "import numpy as np\n",
    "\n",
    "s = pd.Series(np.random.randn(5), name=\"Developer\")\n",
    "print(s)"
   ]
  },
  {
   "cell_type": "code",
   "execution_count": 17,
   "id": "910ac11b",
   "metadata": {},
   "outputs": [
    {
     "name": "stdout",
     "output_type": "stream",
     "text": [
      "0   -0.506378\n",
      "1    1.789226\n",
      "2   -0.176619\n",
      "3    2.126000\n",
      "4    1.107489\n",
      "Name: Student, dtype: float64\n"
     ]
    }
   ],
   "source": [
    "## We can rename the series using rename()\n",
    "\n",
    "s = s.rename(\"Student\")\n",
    "print(s)"
   ]
  },
  {
   "cell_type": "code",
   "execution_count": 18,
   "id": "0cd17f5b",
   "metadata": {},
   "outputs": [
    {
     "name": "stdout",
     "output_type": "stream",
     "text": [
      "     Duration  Pulse  Maxpulse  Calories\n",
      "0          60    110       130     409.1\n",
      "1          60    117       145     479.0\n",
      "2          60    103       135     340.0\n",
      "3          45    109       175     282.4\n",
      "4          45    117       148     406.0\n",
      "..        ...    ...       ...       ...\n",
      "164        60    105       140     290.8\n",
      "165        60    110       145     300.0\n",
      "166        60    115       145     310.2\n",
      "167        75    120       150     320.4\n",
      "168        75    125       150     330.4\n",
      "\n",
      "[169 rows x 4 columns]\n"
     ]
    }
   ],
   "source": [
    "## To convert particular csv file to dataframe, we can use read_csv()\n",
    "\n",
    "import pandas as pd\n",
    "\n",
    "df = pd.read_csv(r\"C:\\Users\\DELL\\Downloads\\data.csv\")\n",
    "print(df)\n",
    "\n",
    "## Belong the limit of rows in dataframe, dataframe will show only first and last five rows."
   ]
  },
  {
   "cell_type": "code",
   "execution_count": 19,
   "id": "11d7bce4",
   "metadata": {},
   "outputs": [
    {
     "name": "stdout",
     "output_type": "stream",
     "text": [
      "     Duration  Pulse  Maxpulse  Calories\n",
      "0          60    110       130     409.1\n",
      "1          60    117       145     479.0\n",
      "2          60    103       135     340.0\n",
      "3          45    109       175     282.4\n",
      "4          45    117       148     406.0\n",
      "5          60    102       127     300.0\n",
      "6          60    110       136     374.0\n",
      "7          45    104       134     253.3\n",
      "8          30    109       133     195.1\n",
      "9          60     98       124     269.0\n",
      "10         60    103       147     329.3\n",
      "11         60    100       120     250.7\n",
      "12         60    106       128     345.3\n",
      "13         60    104       132     379.3\n",
      "14         60     98       123     275.0\n",
      "15         60     98       120     215.2\n",
      "16         60    100       120     300.0\n",
      "17         45     90       112       NaN\n",
      "18         60    103       123     323.0\n",
      "19         45     97       125     243.0\n",
      "20         60    108       131     364.2\n",
      "21         45    100       119     282.0\n",
      "22         60    130       101     300.0\n",
      "23         45    105       132     246.0\n",
      "24         60    102       126     334.5\n",
      "25         60    100       120     250.0\n",
      "26         60     92       118     241.0\n",
      "27         60    103       132       NaN\n",
      "28         60    100       132     280.0\n",
      "29         60    102       129     380.3\n",
      "30         60     92       115     243.0\n",
      "31         45     90       112     180.1\n",
      "32         60    101       124     299.0\n",
      "33         60     93       113     223.0\n",
      "34         60    107       136     361.0\n",
      "35         60    114       140     415.0\n",
      "36         60    102       127     300.0\n",
      "37         60    100       120     300.0\n",
      "38         60    100       120     300.0\n",
      "39         45    104       129     266.0\n",
      "40         45     90       112     180.1\n",
      "41         60     98       126     286.0\n",
      "42         60    100       122     329.4\n",
      "43         60    111       138     400.0\n",
      "44         60    111       131     397.0\n",
      "45         60     99       119     273.0\n",
      "46         60    109       153     387.6\n",
      "47         45    111       136     300.0\n",
      "48         45    108       129     298.0\n",
      "49         60    111       139     397.6\n",
      "50         60    107       136     380.2\n",
      "51         80    123       146     643.1\n",
      "52         60    106       130     263.0\n",
      "53         60    118       151     486.0\n",
      "54         30    136       175     238.0\n",
      "55         60    121       146     450.7\n",
      "56         60    118       121     413.0\n",
      "57         45    115       144     305.0\n",
      "58         20    153       172     226.4\n",
      "59         45    123       152     321.0\n",
      "60        210    108       160    1376.0\n",
      "61        160    110       137    1034.4\n",
      "62        160    109       135     853.0\n",
      "63         45    118       141     341.0\n",
      "64         20    110       130     131.4\n",
      "65        180     90       130     800.4\n",
      "66        150    105       135     873.4\n",
      "67        150    107       130     816.0\n",
      "68         20    106       136     110.4\n",
      "69        300    108       143    1500.2\n",
      "70        150     97       129    1115.0\n",
      "71         60    109       153     387.6\n",
      "72         90    100       127     700.0\n",
      "73        150     97       127     953.2\n",
      "74         45    114       146     304.0\n",
      "75         90     98       125     563.2\n",
      "76         45    105       134     251.0\n",
      "77         45    110       141     300.0\n",
      "78        120    100       130     500.4\n",
      "79        270    100       131    1729.0\n",
      "80         30    159       182     319.2\n",
      "81         45    149       169     344.0\n",
      "82         30    103       139     151.1\n",
      "83        120    100       130     500.0\n",
      "84         45    100       120     225.3\n",
      "85         30    151       170     300.0\n",
      "86         45    102       136     234.0\n",
      "87        120    100       157    1000.1\n",
      "88         45    129       103     242.0\n",
      "89         20     83       107      50.3\n",
      "90        180    101       127     600.1\n",
      "91         45    107       137       NaN\n",
      "92         30     90       107     105.3\n",
      "93         15     80       100      50.5\n",
      "94         20    150       171     127.4\n",
      "95         20    151       168     229.4\n",
      "96         30     95       128     128.2\n",
      "97         25    152       168     244.2\n",
      "98         30    109       131     188.2\n",
      "99         90     93       124     604.1\n",
      "100        20     95       112      77.7\n",
      "101        90     90       110     500.0\n",
      "102        90     90       100     500.0\n",
      "103        90     90       100     500.4\n",
      "104        30     92       108      92.7\n",
      "105        30     93       128     124.0\n",
      "106       180     90       120     800.3\n",
      "107        30     90       120      86.2\n",
      "108        90     90       120     500.3\n",
      "109       210    137       184    1860.4\n",
      "110        60    102       124     325.2\n",
      "111        45    107       124     275.0\n",
      "112        15    124       139     124.2\n",
      "113        45    100       120     225.3\n",
      "114        60    108       131     367.6\n",
      "115        60    108       151     351.7\n",
      "116        60    116       141     443.0\n",
      "117        60     97       122     277.4\n",
      "118        60    105       125       NaN\n",
      "119        60    103       124     332.7\n",
      "120        30    112       137     193.9\n",
      "121        45    100       120     100.7\n",
      "122        60    119       169     336.7\n",
      "123        60    107       127     344.9\n",
      "124        60    111       151     368.5\n",
      "125        60     98       122     271.0\n",
      "126        60     97       124     275.3\n",
      "127        60    109       127     382.0\n",
      "128        90     99       125     466.4\n",
      "129        60    114       151     384.0\n",
      "130        60    104       134     342.5\n",
      "131        60    107       138     357.5\n",
      "132        60    103       133     335.0\n",
      "133        60    106       132     327.5\n",
      "134        60    103       136     339.0\n",
      "135        20    136       156     189.0\n",
      "136        45    117       143     317.7\n",
      "137        45    115       137     318.0\n",
      "138        45    113       138     308.0\n",
      "139        20    141       162     222.4\n",
      "140        60    108       135     390.0\n",
      "141        60     97       127       NaN\n",
      "142        45    100       120     250.4\n",
      "143        45    122       149     335.4\n",
      "144        60    136       170     470.2\n",
      "145        45    106       126     270.8\n",
      "146        60    107       136     400.0\n",
      "147        60    112       146     361.9\n",
      "148        30    103       127     185.0\n",
      "149        60    110       150     409.4\n",
      "150        60    106       134     343.0\n",
      "151        60    109       129     353.2\n",
      "152        60    109       138     374.0\n",
      "153        30    150       167     275.8\n",
      "154        60    105       128     328.0\n",
      "155        60    111       151     368.5\n",
      "156        60     97       131     270.4\n",
      "157        60    100       120     270.4\n",
      "158        60    114       150     382.8\n",
      "159        30     80       120     240.9\n",
      "160        30     85       120     250.4\n",
      "161        45     90       130     260.4\n",
      "162        45     95       130     270.0\n",
      "163        45    100       140     280.9\n",
      "164        60    105       140     290.8\n",
      "165        60    110       145     300.0\n",
      "166        60    115       145     310.2\n",
      "167        75    120       150     320.4\n",
      "168        75    125       150     330.4\n"
     ]
    }
   ],
   "source": [
    "## To show entire datafrawe, use to_string()\n",
    "\n",
    "print(df.to_string())"
   ]
  },
  {
   "cell_type": "code",
   "execution_count": 20,
   "id": "fc2dad82",
   "metadata": {},
   "outputs": [
    {
     "name": "stdout",
     "output_type": "stream",
     "text": [
      "60\n"
     ]
    }
   ],
   "source": [
    "## To check how maximum number of rows that dataframe by default show\n",
    "## type ( pd.options.display.max_rows )\n",
    "\n",
    "import pandas as pd\n",
    "print(pd.options.display.max_rows)"
   ]
  },
  {
   "cell_type": "code",
   "execution_count": 21,
   "id": "d04d9900",
   "metadata": {},
   "outputs": [
    {
     "name": "stdout",
     "output_type": "stream",
     "text": [
      "    Duration  Pulse  Maxpulse  Calories\n",
      "0         60    110       130     409.1\n",
      "1         60    117       145     479.0\n",
      "2         60    103       135     340.0\n",
      "3         45    109       175     282.4\n",
      "4         45    117       148     406.0\n",
      "5         60    102       127     300.0\n",
      "6         60    110       136     374.0\n",
      "7         45    104       134     253.3\n",
      "8         30    109       133     195.1\n",
      "9         60     98       124     269.0\n",
      "10        60    103       147     329.3\n",
      "11        60    100       120     250.7\n",
      "12        60    106       128     345.3\n",
      "13        60    104       132     379.3\n",
      "14        60     98       123     275.0\n",
      "15        60     98       120     215.2\n",
      "16        60    100       120     300.0\n",
      "17        45     90       112       NaN\n",
      "18        60    103       123     323.0\n",
      "19        45     97       125     243.0\n",
      "20        60    108       131     364.2\n",
      "21        45    100       119     282.0\n",
      "22        60    130       101     300.0\n",
      "23        45    105       132     246.0\n",
      "24        60    102       126     334.5\n",
      "25        60    100       120     250.0\n",
      "26        60     92       118     241.0\n",
      "27        60    103       132       NaN\n",
      "28        60    100       132     280.0\n",
      "29        60    102       129     380.3\n",
      "30        60     92       115     243.0\n",
      "31        45     90       112     180.1\n",
      "32        60    101       124     299.0\n",
      "33        60     93       113     223.0\n",
      "34        60    107       136     361.0\n",
      "35        60    114       140     415.0\n",
      "36        60    102       127     300.0\n",
      "37        60    100       120     300.0\n",
      "38        60    100       120     300.0\n",
      "39        45    104       129     266.0\n",
      "40        45     90       112     180.1\n",
      "41        60     98       126     286.0\n",
      "42        60    100       122     329.4\n",
      "43        60    111       138     400.0\n",
      "44        60    111       131     397.0\n",
      "45        60     99       119     273.0\n",
      "46        60    109       153     387.6\n",
      "47        45    111       136     300.0\n",
      "48        45    108       129     298.0\n",
      "49        60    111       139     397.6\n",
      "50        60    107       136     380.2\n",
      "51        80    123       146     643.1\n",
      "52        60    106       130     263.0\n",
      "53        60    118       151     486.0\n",
      "54        30    136       175     238.0\n",
      "55        60    121       146     450.7\n",
      "56        60    118       121     413.0\n",
      "57        45    115       144     305.0\n",
      "58        20    153       172     226.4\n",
      "59        45    123       152     321.0\n"
     ]
    }
   ],
   "source": [
    "## Setting df_1 as 60 rows limit dataframe\n",
    "df_1 = df[:60]\n",
    "\n",
    "print(df_1)\n",
    "## It will print 60 rows, because df_1 has 60 rows only"
   ]
  },
  {
   "cell_type": "code",
   "execution_count": 22,
   "id": "5f72f0d8",
   "metadata": {},
   "outputs": [
    {
     "name": "stdout",
     "output_type": "stream",
     "text": [
      "    Duration  Pulse  Maxpulse  Calories\n",
      "0         60    110       130     409.1\n",
      "1         60    117       145     479.0\n",
      "2         60    103       135     340.0\n",
      "3         45    109       175     282.4\n",
      "4         45    117       148     406.0\n",
      "5         60    102       127     300.0\n",
      "6         60    110       136     374.0\n",
      "7         45    104       134     253.3\n",
      "8         30    109       133     195.1\n",
      "9         60     98       124     269.0\n",
      "10        60    103       147     329.3\n",
      "11        60    100       120     250.7\n",
      "12        60    106       128     345.3\n",
      "13        60    104       132     379.3\n",
      "14        60     98       123     275.0\n",
      "15        60     98       120     215.2\n",
      "16        60    100       120     300.0\n",
      "17        45     90       112       NaN\n",
      "18        60    103       123     323.0\n",
      "19        45     97       125     243.0\n",
      "20        60    108       131     364.2\n",
      "21        45    100       119     282.0\n",
      "22        60    130       101     300.0\n",
      "23        45    105       132     246.0\n",
      "24        60    102       126     334.5\n",
      "25        60    100       120     250.0\n",
      "26        60     92       118     241.0\n",
      "27        60    103       132       NaN\n",
      "28        60    100       132     280.0\n",
      "29        60    102       129     380.3\n",
      "30        60     92       115     243.0\n",
      "31        45     90       112     180.1\n",
      "32        60    101       124     299.0\n",
      "33        60     93       113     223.0\n",
      "34        60    107       136     361.0\n",
      "35        60    114       140     415.0\n",
      "36        60    102       127     300.0\n",
      "37        60    100       120     300.0\n",
      "38        60    100       120     300.0\n",
      "39        45    104       129     266.0\n",
      "40        45     90       112     180.1\n",
      "41        60     98       126     286.0\n",
      "42        60    100       122     329.4\n",
      "43        60    111       138     400.0\n",
      "44        60    111       131     397.0\n",
      "45        60     99       119     273.0\n",
      "46        60    109       153     387.6\n",
      "47        45    111       136     300.0\n",
      "48        45    108       129     298.0\n",
      "49        60    111       139     397.6\n",
      "50        60    107       136     380.2\n",
      "51        80    123       146     643.1\n",
      "52        60    106       130     263.0\n",
      "53        60    118       151     486.0\n",
      "54        30    136       175     238.0\n",
      "55        60    121       146     450.7\n",
      "56        60    118       121     413.0\n",
      "57        45    115       144     305.0\n",
      "58        20    153       172     226.4\n",
      "59        45    123       152     321.0\n",
      "60       210    108       160    1376.0\n",
      "61       160    110       137    1034.4\n",
      "62       160    109       135     853.0\n",
      "63        45    118       141     341.0\n",
      "64        20    110       130     131.4\n",
      "65       180     90       130     800.4\n",
      "66       150    105       135     873.4\n",
      "67       150    107       130     816.0\n",
      "68        20    106       136     110.4\n",
      "69       300    108       143    1500.2\n",
      "70       150     97       129    1115.0\n",
      "71        60    109       153     387.6\n",
      "72        90    100       127     700.0\n",
      "73       150     97       127     953.2\n",
      "74        45    114       146     304.0\n",
      "75        90     98       125     563.2\n",
      "76        45    105       134     251.0\n",
      "77        45    110       141     300.0\n",
      "78       120    100       130     500.4\n",
      "79       270    100       131    1729.0\n",
      "80        30    159       182     319.2\n",
      "81        45    149       169     344.0\n",
      "82        30    103       139     151.1\n",
      "83       120    100       130     500.0\n",
      "84        45    100       120     225.3\n",
      "85        30    151       170     300.0\n",
      "86        45    102       136     234.0\n",
      "87       120    100       157    1000.1\n",
      "88        45    129       103     242.0\n",
      "89        20     83       107      50.3\n",
      "90       180    101       127     600.1\n",
      "91        45    107       137       NaN\n",
      "92        30     90       107     105.3\n",
      "93        15     80       100      50.5\n",
      "94        20    150       171     127.4\n",
      "95        20    151       168     229.4\n",
      "96        30     95       128     128.2\n",
      "97        25    152       168     244.2\n",
      "98        30    109       131     188.2\n",
      "99        90     93       124     604.1\n"
     ]
    }
   ],
   "source": [
    "## To alter max_rows number :\n",
    "\n",
    "import pandas as pd\n",
    "\n",
    "## we have change max_rows limit according to our requirement.\n",
    "pd.options.display.max_rows = 100\n",
    "\n",
    "## Creating new dataframe of 100 rows\n",
    "df_2 = df[:100]\n",
    "\n",
    "## It will display all 100 rows mentioned in dataframe\n",
    "print(df_2)"
   ]
  },
  {
   "cell_type": "markdown",
   "id": "49abbc30",
   "metadata": {},
   "source": [
    "## Reader and Writer function to access the different file format"
   ]
  },
  {
   "attachments": {
    "Screenshot%20%28473%29.png": {
     "image/png": "[encoded data removed]"
    }
   },
   "cell_type": "markdown",
   "id": "11734edc",
   "metadata": {},
   "source": [
    "![Screenshot%20%28473%29.png](attachment:Screenshot%20%28473%29.png)"
   ]
  },
  {
   "attachments": {
    "Screenshot%20%28474%29.png": {
     "image/png": "[encoded data removed]"
    }
   },
   "cell_type": "markdown",
   "id": "55b1fe74",
   "metadata": {},
   "source": [
    "![Screenshot%20%28474%29.png](attachment:Screenshot%20%28474%29.png)"
   ]
  },
  {
   "cell_type": "code",
   "execution_count": 23,
   "id": "ee8a45a1",
   "metadata": {},
   "outputs": [
    {
     "name": "stdout",
     "output_type": "stream",
     "text": [
      "  Food  Calories  Protein  Fat\n",
      "0  ABC       430       25   43\n",
      "1  DEF       551       12   55\n",
      "2  GHI       110       10   11\n",
      "3  JKL       722       22   72\n",
      "4  MNO       267       17   26\n"
     ]
    }
   ],
   "source": [
    "## JSON file (python dictionary)\n",
    "## JSON has same format as python dictionaries\n",
    "\n",
    "json_dict = {\n",
    "    \"Food\":{\n",
    "        \"0\":\"ABC\",\n",
    "        \"1\":\"DEF\",\n",
    "        \"2\":\"GHI\",\n",
    "        \"3\":\"JKL\",\n",
    "        \"4\":\"MNO\"\n",
    "    },\n",
    "    \"Calories\":{\n",
    "        \"0\":430,\n",
    "        \"1\":551,\n",
    "        \"2\":110,\n",
    "        \"3\":722,\n",
    "        \"4\":267\n",
    "    },\n",
    "    \"Protein\":{\n",
    "        \"0\":25,\n",
    "        \"1\":12,\n",
    "        \"2\":10,\n",
    "        \"3\":22,\n",
    "        \"4\":17\n",
    "    },\n",
    "    \"Fat\":{\n",
    "        \"0\":43,\n",
    "        \"1\":55,\n",
    "        \"2\":11,\n",
    "        \"3\":72,\n",
    "        \"4\":26\n",
    "    },\n",
    "}\n",
    "\n",
    "## Coverting into dataframe\n",
    "import pandas as pd\n",
    "df = pd.DataFrame(json_dict)\n",
    "\n",
    "print(df)"
   ]
  },
  {
   "cell_type": "markdown",
   "id": "6b210c4b",
   "metadata": {},
   "source": [
    "### Head and Tail function\n"
   ]
  },
  {
   "cell_type": "code",
   "execution_count": 24,
   "id": "bcf45ad9",
   "metadata": {},
   "outputs": [],
   "source": [
    "## Head is used to return the headers and specified number of rows from starting,\n",
    "## Tail is used to return the headers along with specified number of rows from ending.\n",
    "## By-default head and tail returns 5 rows of dataframe "
   ]
  },
  {
   "cell_type": "code",
   "execution_count": 25,
   "id": "b5556396",
   "metadata": {},
   "outputs": [],
   "source": [
    "# Example \n",
    "\n",
    "import pandas as pd\n",
    "bank_df = pd.read_csv(r\"C:\\Users\\DELL\\Downloads\\archive (8)\\bank.csv\")\n",
    "\n",
    "## head\n",
    "head_df = bank_df.head()\n",
    "\n",
    "## tail\n",
    "tail_df = bank_df.tail()"
   ]
  },
  {
   "cell_type": "code",
   "execution_count": 26,
   "id": "ed48a581",
   "metadata": {},
   "outputs": [
    {
     "name": "stdout",
     "output_type": "stream",
     "text": [
      "   age          job  marital  education default  balance housing loan  \\\n",
      "0   30   unemployed  married    primary      no     1787      no   no   \n",
      "1   33     services  married  secondary      no     4789     yes  yes   \n",
      "2   35   management   single   tertiary      no     1350     yes   no   \n",
      "3   30   management  married   tertiary      no     1476     yes  yes   \n",
      "4   59  blue-collar  married  secondary      no        0     yes   no   \n",
      "\n",
      "    contact  day month  duration  campaign  pdays  previous poutcome   y  \n",
      "0  cellular   19   oct        79         1     -1         0  unknown  no  \n",
      "1  cellular   11   may       220         1    339         4  failure  no  \n",
      "2  cellular   16   apr       185         1    330         1  failure  no  \n",
      "3   unknown    3   jun       199         4     -1         0  unknown  no  \n",
      "4   unknown    5   may       226         1     -1         0  unknown  no  \n"
     ]
    }
   ],
   "source": [
    "print(head_df)"
   ]
  },
  {
   "cell_type": "code",
   "execution_count": 27,
   "id": "1d95985a",
   "metadata": {},
   "outputs": [
    {
     "name": "stdout",
     "output_type": "stream",
     "text": [
      "      age            job  marital  education default  balance housing loan  \\\n",
      "4516   33       services  married  secondary      no     -333     yes   no   \n",
      "4517   57  self-employed  married   tertiary     yes    -3313     yes  yes   \n",
      "4518   57     technician  married  secondary      no      295      no   no   \n",
      "4519   28    blue-collar  married  secondary      no     1137      no   no   \n",
      "4520   44   entrepreneur   single   tertiary      no     1136     yes  yes   \n",
      "\n",
      "       contact  day month  duration  campaign  pdays  previous poutcome   y  \n",
      "4516  cellular   30   jul       329         5     -1         0  unknown  no  \n",
      "4517   unknown    9   may       153         1     -1         0  unknown  no  \n",
      "4518  cellular   19   aug       151        11     -1         0  unknown  no  \n",
      "4519  cellular    6   feb       129         4    211         3    other  no  \n",
      "4520  cellular    3   apr       345         2    249         7    other  no  \n"
     ]
    }
   ],
   "source": [
    "print(tail_df)"
   ]
  },
  {
   "cell_type": "markdown",
   "id": "df64a9fd",
   "metadata": {},
   "source": [
    "### info() function"
   ]
  },
  {
   "cell_type": "code",
   "execution_count": 28,
   "id": "a1d4b717",
   "metadata": {},
   "outputs": [],
   "source": [
    "## It is used to extract the information about the dataframe.\n",
    "## Like number of columns, non-null count, datatypes of columns."
   ]
  },
  {
   "cell_type": "code",
   "execution_count": 29,
   "id": "b3a12ac0",
   "metadata": {},
   "outputs": [
    {
     "name": "stdout",
     "output_type": "stream",
     "text": [
      "<class 'pandas.core.frame.DataFrame'>\n",
      "RangeIndex: 4521 entries, 0 to 4520\n",
      "Data columns (total 17 columns):\n",
      " #   Column     Non-Null Count  Dtype \n",
      "---  ------     --------------  ----- \n",
      " 0   age        4521 non-null   int64 \n",
      " 1   job        4521 non-null   object\n",
      " 2   marital    4521 non-null   object\n",
      " 3   education  4521 non-null   object\n",
      " 4   default    4521 non-null   object\n",
      " 5   balance    4521 non-null   int64 \n",
      " 6   housing    4521 non-null   object\n",
      " 7   loan       4521 non-null   object\n",
      " 8   contact    4521 non-null   object\n",
      " 9   day        4521 non-null   int64 \n",
      " 10  month      4521 non-null   object\n",
      " 11  duration   4521 non-null   int64 \n",
      " 12  campaign   4521 non-null   int64 \n",
      " 13  pdays      4521 non-null   int64 \n",
      " 14  previous   4521 non-null   int64 \n",
      " 15  poutcome   4521 non-null   object\n",
      " 16  y          4521 non-null   object\n",
      "dtypes: int64(7), object(10)\n",
      "memory usage: 600.6+ KB\n",
      "None\n"
     ]
    }
   ],
   "source": [
    "## Example :\n",
    "## To know about the Non-Null values, datatypes of columns in bank_df\n",
    "\n",
    "import pandas as pd\n",
    "bank_df = pd.read_csv(r\"C:\\Users\\DELL\\Downloads\\archive (8)\\bank.csv\")\n",
    "print(bank_df.info())"
   ]
  },
  {
   "cell_type": "markdown",
   "id": "38fd2b67",
   "metadata": {},
   "source": [
    "### How to delete particular column"
   ]
  },
  {
   "cell_type": "code",
   "execution_count": 30,
   "id": "bddc83d3",
   "metadata": {},
   "outputs": [],
   "source": [
    "## using del ()\n",
    "\n",
    "# Deleting day from bank_df\n",
    "del bank_df['day']"
   ]
  },
  {
   "cell_type": "code",
   "execution_count": 31,
   "id": "d7f75afe",
   "metadata": {},
   "outputs": [
    {
     "data": {
      "text/html": [
       "<div>\n",
       "<style scoped>\n",
       "    .dataframe tbody tr th:only-of-type {\n",
       "        vertical-align: middle;\n",
       "    }\n",
       "\n",
       "    .dataframe tbody tr th {\n",
       "        vertical-align: top;\n",
       "    }\n",
       "\n",
       "    .dataframe thead th {\n",
       "        text-align: right;\n",
       "    }\n",
       "</style>\n",
       "<table border=\"1\" class=\"dataframe\">\n",
       "  <thead>\n",
       "    <tr style=\"text-align: right;\">\n",
       "      <th></th>\n",
       "      <th>age</th>\n",
       "      <th>job</th>\n",
       "      <th>marital</th>\n",
       "      <th>education</th>\n",
       "      <th>default</th>\n",
       "      <th>balance</th>\n",
       "      <th>housing</th>\n",
       "      <th>loan</th>\n",
       "      <th>contact</th>\n",
       "      <th>month</th>\n",
       "      <th>duration</th>\n",
       "      <th>campaign</th>\n",
       "      <th>pdays</th>\n",
       "      <th>previous</th>\n",
       "      <th>poutcome</th>\n",
       "      <th>y</th>\n",
       "    </tr>\n",
       "  </thead>\n",
       "  <tbody>\n",
       "    <tr>\n",
       "      <th>0</th>\n",
       "      <td>30</td>\n",
       "      <td>unemployed</td>\n",
       "      <td>married</td>\n",
       "      <td>primary</td>\n",
       "      <td>no</td>\n",
       "      <td>1787</td>\n",
       "      <td>no</td>\n",
       "      <td>no</td>\n",
       "      <td>cellular</td>\n",
       "      <td>oct</td>\n",
       "      <td>79</td>\n",
       "      <td>1</td>\n",
       "      <td>-1</td>\n",
       "      <td>0</td>\n",
       "      <td>unknown</td>\n",
       "      <td>no</td>\n",
       "    </tr>\n",
       "    <tr>\n",
       "      <th>1</th>\n",
       "      <td>33</td>\n",
       "      <td>services</td>\n",
       "      <td>married</td>\n",
       "      <td>secondary</td>\n",
       "      <td>no</td>\n",
       "      <td>4789</td>\n",
       "      <td>yes</td>\n",
       "      <td>yes</td>\n",
       "      <td>cellular</td>\n",
       "      <td>may</td>\n",
       "      <td>220</td>\n",
       "      <td>1</td>\n",
       "      <td>339</td>\n",
       "      <td>4</td>\n",
       "      <td>failure</td>\n",
       "      <td>no</td>\n",
       "    </tr>\n",
       "    <tr>\n",
       "      <th>2</th>\n",
       "      <td>35</td>\n",
       "      <td>management</td>\n",
       "      <td>single</td>\n",
       "      <td>tertiary</td>\n",
       "      <td>no</td>\n",
       "      <td>1350</td>\n",
       "      <td>yes</td>\n",
       "      <td>no</td>\n",
       "      <td>cellular</td>\n",
       "      <td>apr</td>\n",
       "      <td>185</td>\n",
       "      <td>1</td>\n",
       "      <td>330</td>\n",
       "      <td>1</td>\n",
       "      <td>failure</td>\n",
       "      <td>no</td>\n",
       "    </tr>\n",
       "    <tr>\n",
       "      <th>3</th>\n",
       "      <td>30</td>\n",
       "      <td>management</td>\n",
       "      <td>married</td>\n",
       "      <td>tertiary</td>\n",
       "      <td>no</td>\n",
       "      <td>1476</td>\n",
       "      <td>yes</td>\n",
       "      <td>yes</td>\n",
       "      <td>unknown</td>\n",
       "      <td>jun</td>\n",
       "      <td>199</td>\n",
       "      <td>4</td>\n",
       "      <td>-1</td>\n",
       "      <td>0</td>\n",
       "      <td>unknown</td>\n",
       "      <td>no</td>\n",
       "    </tr>\n",
       "    <tr>\n",
       "      <th>4</th>\n",
       "      <td>59</td>\n",
       "      <td>blue-collar</td>\n",
       "      <td>married</td>\n",
       "      <td>secondary</td>\n",
       "      <td>no</td>\n",
       "      <td>0</td>\n",
       "      <td>yes</td>\n",
       "      <td>no</td>\n",
       "      <td>unknown</td>\n",
       "      <td>may</td>\n",
       "      <td>226</td>\n",
       "      <td>1</td>\n",
       "      <td>-1</td>\n",
       "      <td>0</td>\n",
       "      <td>unknown</td>\n",
       "      <td>no</td>\n",
       "    </tr>\n",
       "    <tr>\n",
       "      <th>...</th>\n",
       "      <td>...</td>\n",
       "      <td>...</td>\n",
       "      <td>...</td>\n",
       "      <td>...</td>\n",
       "      <td>...</td>\n",
       "      <td>...</td>\n",
       "      <td>...</td>\n",
       "      <td>...</td>\n",
       "      <td>...</td>\n",
       "      <td>...</td>\n",
       "      <td>...</td>\n",
       "      <td>...</td>\n",
       "      <td>...</td>\n",
       "      <td>...</td>\n",
       "      <td>...</td>\n",
       "      <td>...</td>\n",
       "    </tr>\n",
       "    <tr>\n",
       "      <th>4516</th>\n",
       "      <td>33</td>\n",
       "      <td>services</td>\n",
       "      <td>married</td>\n",
       "      <td>secondary</td>\n",
       "      <td>no</td>\n",
       "      <td>-333</td>\n",
       "      <td>yes</td>\n",
       "      <td>no</td>\n",
       "      <td>cellular</td>\n",
       "      <td>jul</td>\n",
       "      <td>329</td>\n",
       "      <td>5</td>\n",
       "      <td>-1</td>\n",
       "      <td>0</td>\n",
       "      <td>unknown</td>\n",
       "      <td>no</td>\n",
       "    </tr>\n",
       "    <tr>\n",
       "      <th>4517</th>\n",
       "      <td>57</td>\n",
       "      <td>self-employed</td>\n",
       "      <td>married</td>\n",
       "      <td>tertiary</td>\n",
       "      <td>yes</td>\n",
       "      <td>-3313</td>\n",
       "      <td>yes</td>\n",
       "      <td>yes</td>\n",
       "      <td>unknown</td>\n",
       "      <td>may</td>\n",
       "      <td>153</td>\n",
       "      <td>1</td>\n",
       "      <td>-1</td>\n",
       "      <td>0</td>\n",
       "      <td>unknown</td>\n",
       "      <td>no</td>\n",
       "    </tr>\n",
       "    <tr>\n",
       "      <th>4518</th>\n",
       "      <td>57</td>\n",
       "      <td>technician</td>\n",
       "      <td>married</td>\n",
       "      <td>secondary</td>\n",
       "      <td>no</td>\n",
       "      <td>295</td>\n",
       "      <td>no</td>\n",
       "      <td>no</td>\n",
       "      <td>cellular</td>\n",
       "      <td>aug</td>\n",
       "      <td>151</td>\n",
       "      <td>11</td>\n",
       "      <td>-1</td>\n",
       "      <td>0</td>\n",
       "      <td>unknown</td>\n",
       "      <td>no</td>\n",
       "    </tr>\n",
       "    <tr>\n",
       "      <th>4519</th>\n",
       "      <td>28</td>\n",
       "      <td>blue-collar</td>\n",
       "      <td>married</td>\n",
       "      <td>secondary</td>\n",
       "      <td>no</td>\n",
       "      <td>1137</td>\n",
       "      <td>no</td>\n",
       "      <td>no</td>\n",
       "      <td>cellular</td>\n",
       "      <td>feb</td>\n",
       "      <td>129</td>\n",
       "      <td>4</td>\n",
       "      <td>211</td>\n",
       "      <td>3</td>\n",
       "      <td>other</td>\n",
       "      <td>no</td>\n",
       "    </tr>\n",
       "    <tr>\n",
       "      <th>4520</th>\n",
       "      <td>44</td>\n",
       "      <td>entrepreneur</td>\n",
       "      <td>single</td>\n",
       "      <td>tertiary</td>\n",
       "      <td>no</td>\n",
       "      <td>1136</td>\n",
       "      <td>yes</td>\n",
       "      <td>yes</td>\n",
       "      <td>cellular</td>\n",
       "      <td>apr</td>\n",
       "      <td>345</td>\n",
       "      <td>2</td>\n",
       "      <td>249</td>\n",
       "      <td>7</td>\n",
       "      <td>other</td>\n",
       "      <td>no</td>\n",
       "    </tr>\n",
       "  </tbody>\n",
       "</table>\n",
       "<p>4521 rows × 16 columns</p>\n",
       "</div>"
      ],
      "text/plain": [
       "      age            job  marital  education default  balance housing loan  \\\n",
       "0      30     unemployed  married    primary      no     1787      no   no   \n",
       "1      33       services  married  secondary      no     4789     yes  yes   \n",
       "2      35     management   single   tertiary      no     1350     yes   no   \n",
       "3      30     management  married   tertiary      no     1476     yes  yes   \n",
       "4      59    blue-collar  married  secondary      no        0     yes   no   \n",
       "...   ...            ...      ...        ...     ...      ...     ...  ...   \n",
       "4516   33       services  married  secondary      no     -333     yes   no   \n",
       "4517   57  self-employed  married   tertiary     yes    -3313     yes  yes   \n",
       "4518   57     technician  married  secondary      no      295      no   no   \n",
       "4519   28    blue-collar  married  secondary      no     1137      no   no   \n",
       "4520   44   entrepreneur   single   tertiary      no     1136     yes  yes   \n",
       "\n",
       "       contact month  duration  campaign  pdays  previous poutcome   y  \n",
       "0     cellular   oct        79         1     -1         0  unknown  no  \n",
       "1     cellular   may       220         1    339         4  failure  no  \n",
       "2     cellular   apr       185         1    330         1  failure  no  \n",
       "3      unknown   jun       199         4     -1         0  unknown  no  \n",
       "4      unknown   may       226         1     -1         0  unknown  no  \n",
       "...        ...   ...       ...       ...    ...       ...      ...  ..  \n",
       "4516  cellular   jul       329         5     -1         0  unknown  no  \n",
       "4517   unknown   may       153         1     -1         0  unknown  no  \n",
       "4518  cellular   aug       151        11     -1         0  unknown  no  \n",
       "4519  cellular   feb       129         4    211         3    other  no  \n",
       "4520  cellular   apr       345         2    249         7    other  no  \n",
       "\n",
       "[4521 rows x 16 columns]"
      ]
     },
     "execution_count": 31,
     "metadata": {},
     "output_type": "execute_result"
    }
   ],
   "source": [
    "bank_df"
   ]
  },
  {
   "cell_type": "code",
   "execution_count": 32,
   "id": "5852f67e",
   "metadata": {},
   "outputs": [
    {
     "data": {
      "text/plain": [
       "0       unknown\n",
       "1       failure\n",
       "2       failure\n",
       "3       unknown\n",
       "4       unknown\n",
       "         ...   \n",
       "4516    unknown\n",
       "4517    unknown\n",
       "4518    unknown\n",
       "4519      other\n",
       "4520      other\n",
       "Name: poutcome, Length: 4521, dtype: object"
      ]
     },
     "execution_count": 32,
     "metadata": {},
     "output_type": "execute_result"
    }
   ],
   "source": [
    "## using pop() \n",
    "\n",
    "# Deleting 'poutcome' from the bank_df\n",
    "bank_df.pop('poutcome')"
   ]
  },
  {
   "cell_type": "code",
   "execution_count": 33,
   "id": "bc7ee3bd",
   "metadata": {},
   "outputs": [
    {
     "data": {
      "text/html": [
       "<div>\n",
       "<style scoped>\n",
       "    .dataframe tbody tr th:only-of-type {\n",
       "        vertical-align: middle;\n",
       "    }\n",
       "\n",
       "    .dataframe tbody tr th {\n",
       "        vertical-align: top;\n",
       "    }\n",
       "\n",
       "    .dataframe thead th {\n",
       "        text-align: right;\n",
       "    }\n",
       "</style>\n",
       "<table border=\"1\" class=\"dataframe\">\n",
       "  <thead>\n",
       "    <tr style=\"text-align: right;\">\n",
       "      <th></th>\n",
       "      <th>age</th>\n",
       "      <th>job</th>\n",
       "      <th>marital</th>\n",
       "      <th>education</th>\n",
       "      <th>default</th>\n",
       "      <th>balance</th>\n",
       "      <th>housing</th>\n",
       "      <th>loan</th>\n",
       "      <th>contact</th>\n",
       "      <th>month</th>\n",
       "      <th>duration</th>\n",
       "      <th>campaign</th>\n",
       "      <th>pdays</th>\n",
       "      <th>previous</th>\n",
       "      <th>y</th>\n",
       "    </tr>\n",
       "  </thead>\n",
       "  <tbody>\n",
       "    <tr>\n",
       "      <th>0</th>\n",
       "      <td>30</td>\n",
       "      <td>unemployed</td>\n",
       "      <td>married</td>\n",
       "      <td>primary</td>\n",
       "      <td>no</td>\n",
       "      <td>1787</td>\n",
       "      <td>no</td>\n",
       "      <td>no</td>\n",
       "      <td>cellular</td>\n",
       "      <td>oct</td>\n",
       "      <td>79</td>\n",
       "      <td>1</td>\n",
       "      <td>-1</td>\n",
       "      <td>0</td>\n",
       "      <td>no</td>\n",
       "    </tr>\n",
       "    <tr>\n",
       "      <th>1</th>\n",
       "      <td>33</td>\n",
       "      <td>services</td>\n",
       "      <td>married</td>\n",
       "      <td>secondary</td>\n",
       "      <td>no</td>\n",
       "      <td>4789</td>\n",
       "      <td>yes</td>\n",
       "      <td>yes</td>\n",
       "      <td>cellular</td>\n",
       "      <td>may</td>\n",
       "      <td>220</td>\n",
       "      <td>1</td>\n",
       "      <td>339</td>\n",
       "      <td>4</td>\n",
       "      <td>no</td>\n",
       "    </tr>\n",
       "    <tr>\n",
       "      <th>2</th>\n",
       "      <td>35</td>\n",
       "      <td>management</td>\n",
       "      <td>single</td>\n",
       "      <td>tertiary</td>\n",
       "      <td>no</td>\n",
       "      <td>1350</td>\n",
       "      <td>yes</td>\n",
       "      <td>no</td>\n",
       "      <td>cellular</td>\n",
       "      <td>apr</td>\n",
       "      <td>185</td>\n",
       "      <td>1</td>\n",
       "      <td>330</td>\n",
       "      <td>1</td>\n",
       "      <td>no</td>\n",
       "    </tr>\n",
       "    <tr>\n",
       "      <th>3</th>\n",
       "      <td>30</td>\n",
       "      <td>management</td>\n",
       "      <td>married</td>\n",
       "      <td>tertiary</td>\n",
       "      <td>no</td>\n",
       "      <td>1476</td>\n",
       "      <td>yes</td>\n",
       "      <td>yes</td>\n",
       "      <td>unknown</td>\n",
       "      <td>jun</td>\n",
       "      <td>199</td>\n",
       "      <td>4</td>\n",
       "      <td>-1</td>\n",
       "      <td>0</td>\n",
       "      <td>no</td>\n",
       "    </tr>\n",
       "    <tr>\n",
       "      <th>4</th>\n",
       "      <td>59</td>\n",
       "      <td>blue-collar</td>\n",
       "      <td>married</td>\n",
       "      <td>secondary</td>\n",
       "      <td>no</td>\n",
       "      <td>0</td>\n",
       "      <td>yes</td>\n",
       "      <td>no</td>\n",
       "      <td>unknown</td>\n",
       "      <td>may</td>\n",
       "      <td>226</td>\n",
       "      <td>1</td>\n",
       "      <td>-1</td>\n",
       "      <td>0</td>\n",
       "      <td>no</td>\n",
       "    </tr>\n",
       "  </tbody>\n",
       "</table>\n",
       "</div>"
      ],
      "text/plain": [
       "   age          job  marital  education default  balance housing loan  \\\n",
       "0   30   unemployed  married    primary      no     1787      no   no   \n",
       "1   33     services  married  secondary      no     4789     yes  yes   \n",
       "2   35   management   single   tertiary      no     1350     yes   no   \n",
       "3   30   management  married   tertiary      no     1476     yes  yes   \n",
       "4   59  blue-collar  married  secondary      no        0     yes   no   \n",
       "\n",
       "    contact month  duration  campaign  pdays  previous   y  \n",
       "0  cellular   oct        79         1     -1         0  no  \n",
       "1  cellular   may       220         1    339         4  no  \n",
       "2  cellular   apr       185         1    330         1  no  \n",
       "3   unknown   jun       199         4     -1         0  no  \n",
       "4   unknown   may       226         1     -1         0  no  "
      ]
     },
     "execution_count": 33,
     "metadata": {},
     "output_type": "execute_result"
    }
   ],
   "source": [
    "bank_df.head()"
   ]
  },
  {
   "cell_type": "markdown",
   "id": "e87bd6b4",
   "metadata": {},
   "source": [
    "### Inserting the columns in Dataframe"
   ]
  },
  {
   "cell_type": "code",
   "execution_count": 34,
   "id": "3585d5fe",
   "metadata": {},
   "outputs": [
    {
     "data": {
      "text/html": [
       "<div>\n",
       "<style scoped>\n",
       "    .dataframe tbody tr th:only-of-type {\n",
       "        vertical-align: middle;\n",
       "    }\n",
       "\n",
       "    .dataframe tbody tr th {\n",
       "        vertical-align: top;\n",
       "    }\n",
       "\n",
       "    .dataframe thead th {\n",
       "        text-align: right;\n",
       "    }\n",
       "</style>\n",
       "<table border=\"1\" class=\"dataframe\">\n",
       "  <thead>\n",
       "    <tr style=\"text-align: right;\">\n",
       "      <th></th>\n",
       "      <th>Id</th>\n",
       "      <th>SepalLengthCm</th>\n",
       "      <th>SepalWidthCm</th>\n",
       "      <th>PetalLengthCm</th>\n",
       "      <th>PetalWidthCm</th>\n",
       "      <th>spe</th>\n",
       "      <th>Species</th>\n",
       "    </tr>\n",
       "  </thead>\n",
       "  <tbody>\n",
       "    <tr>\n",
       "      <th>0</th>\n",
       "      <td>1</td>\n",
       "      <td>5.1</td>\n",
       "      <td>3.5</td>\n",
       "      <td>1.4</td>\n",
       "      <td>0.2</td>\n",
       "      <td>Iris-setosa</td>\n",
       "      <td>Iris-setosa</td>\n",
       "    </tr>\n",
       "    <tr>\n",
       "      <th>1</th>\n",
       "      <td>2</td>\n",
       "      <td>4.9</td>\n",
       "      <td>3.0</td>\n",
       "      <td>1.4</td>\n",
       "      <td>0.2</td>\n",
       "      <td>Iris-setosa</td>\n",
       "      <td>Iris-setosa</td>\n",
       "    </tr>\n",
       "    <tr>\n",
       "      <th>2</th>\n",
       "      <td>3</td>\n",
       "      <td>4.7</td>\n",
       "      <td>3.2</td>\n",
       "      <td>1.3</td>\n",
       "      <td>0.2</td>\n",
       "      <td>Iris-setosa</td>\n",
       "      <td>Iris-setosa</td>\n",
       "    </tr>\n",
       "    <tr>\n",
       "      <th>3</th>\n",
       "      <td>4</td>\n",
       "      <td>4.6</td>\n",
       "      <td>3.1</td>\n",
       "      <td>1.5</td>\n",
       "      <td>0.2</td>\n",
       "      <td>Iris-setosa</td>\n",
       "      <td>Iris-setosa</td>\n",
       "    </tr>\n",
       "    <tr>\n",
       "      <th>4</th>\n",
       "      <td>5</td>\n",
       "      <td>5.0</td>\n",
       "      <td>3.6</td>\n",
       "      <td>1.4</td>\n",
       "      <td>0.2</td>\n",
       "      <td>Iris-setosa</td>\n",
       "      <td>Iris-setosa</td>\n",
       "    </tr>\n",
       "  </tbody>\n",
       "</table>\n",
       "</div>"
      ],
      "text/plain": [
       "   Id  SepalLengthCm  SepalWidthCm  PetalLengthCm  PetalWidthCm          spe  \\\n",
       "0   1            5.1           3.5            1.4           0.2  Iris-setosa   \n",
       "1   2            4.9           3.0            1.4           0.2  Iris-setosa   \n",
       "2   3            4.7           3.2            1.3           0.2  Iris-setosa   \n",
       "3   4            4.6           3.1            1.5           0.2  Iris-setosa   \n",
       "4   5            5.0           3.6            1.4           0.2  Iris-setosa   \n",
       "\n",
       "       Species  \n",
       "0  Iris-setosa  \n",
       "1  Iris-setosa  \n",
       "2  Iris-setosa  \n",
       "3  Iris-setosa  \n",
       "4  Iris-setosa  "
      ]
     },
     "execution_count": 34,
     "metadata": {},
     "output_type": "execute_result"
    }
   ],
   "source": [
    "## importing iris dataset from system\n",
    "iris = pd.read_csv(r\"C:\\Users\\DELL\\Downloads\\archive (9)\\Iris.csv\")\n",
    "\n",
    "## inserting the column \"Spe\" using insert at 5th index\n",
    "iris.insert(5, \"spe\", iris[\"Species\"])\n",
    "\n",
    "## overviewing the change\n",
    "iris.head()"
   ]
  },
  {
   "cell_type": "code",
   "execution_count": 35,
   "id": "f6cfbeb9",
   "metadata": {},
   "outputs": [
    {
     "data": {
      "text/html": [
       "<div>\n",
       "<style scoped>\n",
       "    .dataframe tbody tr th:only-of-type {\n",
       "        vertical-align: middle;\n",
       "    }\n",
       "\n",
       "    .dataframe tbody tr th {\n",
       "        vertical-align: top;\n",
       "    }\n",
       "\n",
       "    .dataframe thead th {\n",
       "        text-align: right;\n",
       "    }\n",
       "</style>\n",
       "<table border=\"1\" class=\"dataframe\">\n",
       "  <thead>\n",
       "    <tr style=\"text-align: right;\">\n",
       "      <th></th>\n",
       "      <th>Id</th>\n",
       "      <th>SepalLengthCm</th>\n",
       "      <th>SepalWidthCm</th>\n",
       "      <th>PetalLengthCm</th>\n",
       "      <th>PetalWidthCm</th>\n",
       "      <th>spe</th>\n",
       "      <th>Species</th>\n",
       "      <th>sepal_ratio</th>\n",
       "    </tr>\n",
       "  </thead>\n",
       "  <tbody>\n",
       "    <tr>\n",
       "      <th>0</th>\n",
       "      <td>1</td>\n",
       "      <td>5.1</td>\n",
       "      <td>3.5</td>\n",
       "      <td>1.4</td>\n",
       "      <td>0.2</td>\n",
       "      <td>Iris-setosa</td>\n",
       "      <td>Iris-setosa</td>\n",
       "      <td>0.686275</td>\n",
       "    </tr>\n",
       "    <tr>\n",
       "      <th>1</th>\n",
       "      <td>2</td>\n",
       "      <td>4.9</td>\n",
       "      <td>3.0</td>\n",
       "      <td>1.4</td>\n",
       "      <td>0.2</td>\n",
       "      <td>Iris-setosa</td>\n",
       "      <td>Iris-setosa</td>\n",
       "      <td>0.612245</td>\n",
       "    </tr>\n",
       "    <tr>\n",
       "      <th>2</th>\n",
       "      <td>3</td>\n",
       "      <td>4.7</td>\n",
       "      <td>3.2</td>\n",
       "      <td>1.3</td>\n",
       "      <td>0.2</td>\n",
       "      <td>Iris-setosa</td>\n",
       "      <td>Iris-setosa</td>\n",
       "      <td>0.680851</td>\n",
       "    </tr>\n",
       "    <tr>\n",
       "      <th>3</th>\n",
       "      <td>4</td>\n",
       "      <td>4.6</td>\n",
       "      <td>3.1</td>\n",
       "      <td>1.5</td>\n",
       "      <td>0.2</td>\n",
       "      <td>Iris-setosa</td>\n",
       "      <td>Iris-setosa</td>\n",
       "      <td>0.673913</td>\n",
       "    </tr>\n",
       "    <tr>\n",
       "      <th>4</th>\n",
       "      <td>5</td>\n",
       "      <td>5.0</td>\n",
       "      <td>3.6</td>\n",
       "      <td>1.4</td>\n",
       "      <td>0.2</td>\n",
       "      <td>Iris-setosa</td>\n",
       "      <td>Iris-setosa</td>\n",
       "      <td>0.720000</td>\n",
       "    </tr>\n",
       "  </tbody>\n",
       "</table>\n",
       "</div>"
      ],
      "text/plain": [
       "   Id  SepalLengthCm  SepalWidthCm  PetalLengthCm  PetalWidthCm          spe  \\\n",
       "0   1            5.1           3.5            1.4           0.2  Iris-setosa   \n",
       "1   2            4.9           3.0            1.4           0.2  Iris-setosa   \n",
       "2   3            4.7           3.2            1.3           0.2  Iris-setosa   \n",
       "3   4            4.6           3.1            1.5           0.2  Iris-setosa   \n",
       "4   5            5.0           3.6            1.4           0.2  Iris-setosa   \n",
       "\n",
       "       Species  sepal_ratio  \n",
       "0  Iris-setosa     0.686275  \n",
       "1  Iris-setosa     0.612245  \n",
       "2  Iris-setosa     0.680851  \n",
       "3  Iris-setosa     0.673913  \n",
       "4  Iris-setosa     0.720000  "
      ]
     },
     "execution_count": 35,
     "metadata": {},
     "output_type": "execute_result"
    }
   ],
   "source": [
    "## inserting the column using assign function\n",
    "iris.assign(sepal_ratio = lambda x : (x['SepalWidthCm']/x['SepalLengthCm'])).head()"
   ]
  },
  {
   "cell_type": "code",
   "execution_count": 36,
   "id": "7b5e11f9",
   "metadata": {},
   "outputs": [],
   "source": [
    "## Note: assign creates copy of data, original data remains unchanged\n",
    "## Above example: assign creates the \"sepal_ratio\" column at the end of dataframe"
   ]
  },
  {
   "cell_type": "markdown",
   "id": "67e3f7ef",
   "metadata": {},
   "source": [
    "## Indexing and Slicing"
   ]
  },
  {
   "attachments": {
    "Screenshot%20%28443%29.png": {
     "image/png": "[encoded data removed]"
    }
   },
   "cell_type": "markdown",
   "id": "fdb88687",
   "metadata": {},
   "source": [
    "![Screenshot%20%28443%29.png](attachment:Screenshot%20%28443%29.png)"
   ]
  },
  {
   "cell_type": "code",
   "execution_count": 37,
   "id": "d07156f6",
   "metadata": {},
   "outputs": [
    {
     "name": "stdout",
     "output_type": "stream",
     "text": [
      "0    Iris-setosa\n",
      "1    Iris-setosa\n",
      "2    Iris-setosa\n",
      "3    Iris-setosa\n",
      "4    Iris-setosa\n",
      "Name: Species, dtype: object \n",
      "\n",
      "Id                        25\n",
      "SepalLengthCm            4.8\n",
      "SepalWidthCm             3.4\n",
      "PetalLengthCm            1.9\n",
      "PetalWidthCm             0.2\n",
      "spe              Iris-setosa\n",
      "Species          Iris-setosa\n",
      "Name: 24, dtype: object \n",
      "\n",
      "Id                        11\n",
      "SepalLengthCm            5.4\n",
      "SepalWidthCm             3.7\n",
      "PetalLengthCm            1.5\n",
      "PetalWidthCm             0.2\n",
      "spe              Iris-setosa\n",
      "Species          Iris-setosa\n",
      "Name: 10, dtype: object \n",
      "\n",
      "    Id  SepalLengthCm  SepalWidthCm  PetalLengthCm  PetalWidthCm          spe  \\\n",
      "20  21            5.4           3.4            1.7           0.2  Iris-setosa   \n",
      "21  22            5.1           3.7            1.5           0.4  Iris-setosa   \n",
      "22  23            4.6           3.6            1.0           0.2  Iris-setosa   \n",
      "23  24            5.1           3.3            1.7           0.5  Iris-setosa   \n",
      "24  25            4.8           3.4            1.9           0.2  Iris-setosa   \n",
      "\n",
      "        Species  \n",
      "20  Iris-setosa  \n",
      "21  Iris-setosa  \n",
      "22  Iris-setosa  \n",
      "23  Iris-setosa  \n",
      "24  Iris-setosa  \n"
     ]
    }
   ],
   "source": [
    "## Examples :-\n",
    "\n",
    "# Selecting species column from iris dataframe\n",
    "s = iris['Species']\n",
    "print(s.head(),\"\\n\")\n",
    "\n",
    "# Selecting row \"24\" from the iris dataframe\n",
    "r_l = iris.loc[24]\n",
    "r_il = iris.iloc[10]\n",
    "print(r_l,\"\\n\")\n",
    "print(r_il,\"\\n\")\n",
    "\n",
    "# Selcting rows 20-25 from iris dataframe\n",
    "s_r = iris[20:26]\n",
    "print(s_r.head())"
   ]
  },
  {
   "cell_type": "markdown",
   "id": "09ffeb86",
   "metadata": {},
   "source": [
    "## Data Alignment and Arithmetic"
   ]
  },
  {
   "cell_type": "code",
   "execution_count": 38,
   "id": "da18f097",
   "metadata": {},
   "outputs": [],
   "source": [
    "## Creating two different size dataframe\n",
    "\n",
    "import pandas as pd\n",
    "import numpy as np\n",
    "\n",
    "df_1 = pd.DataFrame(np.random.randn(10,4), columns = ['A','B','C','D'])\n",
    "df_2 = pd.DataFrame(np.random.randn(6,3), columns = ['A','B','C'])"
   ]
  },
  {
   "cell_type": "code",
   "execution_count": 39,
   "id": "f1076a4e",
   "metadata": {},
   "outputs": [
    {
     "name": "stdout",
     "output_type": "stream",
     "text": [
      "          A         B         C         D\n",
      "0 -1.359359 -0.170486 -1.906408  0.817494\n",
      "1  0.098393  0.485012  2.335157 -1.373575\n",
      "2  0.758175  1.506155 -0.167465  0.283145\n",
      "3 -0.886038 -0.515343 -2.276621  0.050509\n",
      "4  0.507994 -0.306941 -1.625152 -1.150044\n",
      "5 -1.199306  2.378198  1.358234 -1.144442\n",
      "6 -1.567311 -0.944532 -0.779131  1.029529\n",
      "7  0.645782 -1.597994 -0.882370 -1.302787\n",
      "8  1.575478 -0.510129  0.793616 -0.090749\n",
      "9 -0.736840  0.446280  0.913159  0.287220\n"
     ]
    }
   ],
   "source": [
    "print(df_1)"
   ]
  },
  {
   "cell_type": "code",
   "execution_count": 40,
   "id": "a5bf6861",
   "metadata": {},
   "outputs": [
    {
     "name": "stdout",
     "output_type": "stream",
     "text": [
      "          A         B         C\n",
      "0  0.964942  1.066473  0.865810\n",
      "1 -0.482227  0.340944 -0.421468\n",
      "2 -0.967221 -0.277863 -0.422649\n",
      "3  1.494731  0.696731 -0.976822\n",
      "4  1.273717  0.912336  1.130845\n",
      "5  0.820866 -0.274170 -0.810875\n"
     ]
    }
   ],
   "source": [
    "print(df_2)"
   ]
  },
  {
   "cell_type": "code",
   "execution_count": 41,
   "id": "8c6da100",
   "metadata": {},
   "outputs": [
    {
     "data": {
      "text/html": [
       "<div>\n",
       "<style scoped>\n",
       "    .dataframe tbody tr th:only-of-type {\n",
       "        vertical-align: middle;\n",
       "    }\n",
       "\n",
       "    .dataframe tbody tr th {\n",
       "        vertical-align: top;\n",
       "    }\n",
       "\n",
       "    .dataframe thead th {\n",
       "        text-align: right;\n",
       "    }\n",
       "</style>\n",
       "<table border=\"1\" class=\"dataframe\">\n",
       "  <thead>\n",
       "    <tr style=\"text-align: right;\">\n",
       "      <th></th>\n",
       "      <th>A</th>\n",
       "      <th>B</th>\n",
       "      <th>C</th>\n",
       "      <th>D</th>\n",
       "    </tr>\n",
       "  </thead>\n",
       "  <tbody>\n",
       "    <tr>\n",
       "      <th>0</th>\n",
       "      <td>-0.394417</td>\n",
       "      <td>0.895987</td>\n",
       "      <td>-1.040598</td>\n",
       "      <td>NaN</td>\n",
       "    </tr>\n",
       "    <tr>\n",
       "      <th>1</th>\n",
       "      <td>-0.383835</td>\n",
       "      <td>0.825956</td>\n",
       "      <td>1.913689</td>\n",
       "      <td>NaN</td>\n",
       "    </tr>\n",
       "    <tr>\n",
       "      <th>2</th>\n",
       "      <td>-0.209046</td>\n",
       "      <td>1.228292</td>\n",
       "      <td>-0.590114</td>\n",
       "      <td>NaN</td>\n",
       "    </tr>\n",
       "    <tr>\n",
       "      <th>3</th>\n",
       "      <td>0.608693</td>\n",
       "      <td>0.181388</td>\n",
       "      <td>-3.253443</td>\n",
       "      <td>NaN</td>\n",
       "    </tr>\n",
       "    <tr>\n",
       "      <th>4</th>\n",
       "      <td>1.781711</td>\n",
       "      <td>0.605395</td>\n",
       "      <td>-0.494308</td>\n",
       "      <td>NaN</td>\n",
       "    </tr>\n",
       "    <tr>\n",
       "      <th>5</th>\n",
       "      <td>-0.378440</td>\n",
       "      <td>2.104029</td>\n",
       "      <td>0.547360</td>\n",
       "      <td>NaN</td>\n",
       "    </tr>\n",
       "    <tr>\n",
       "      <th>6</th>\n",
       "      <td>NaN</td>\n",
       "      <td>NaN</td>\n",
       "      <td>NaN</td>\n",
       "      <td>NaN</td>\n",
       "    </tr>\n",
       "    <tr>\n",
       "      <th>7</th>\n",
       "      <td>NaN</td>\n",
       "      <td>NaN</td>\n",
       "      <td>NaN</td>\n",
       "      <td>NaN</td>\n",
       "    </tr>\n",
       "    <tr>\n",
       "      <th>8</th>\n",
       "      <td>NaN</td>\n",
       "      <td>NaN</td>\n",
       "      <td>NaN</td>\n",
       "      <td>NaN</td>\n",
       "    </tr>\n",
       "    <tr>\n",
       "      <th>9</th>\n",
       "      <td>NaN</td>\n",
       "      <td>NaN</td>\n",
       "      <td>NaN</td>\n",
       "      <td>NaN</td>\n",
       "    </tr>\n",
       "  </tbody>\n",
       "</table>\n",
       "</div>"
      ],
      "text/plain": [
       "          A         B         C   D\n",
       "0 -0.394417  0.895987 -1.040598 NaN\n",
       "1 -0.383835  0.825956  1.913689 NaN\n",
       "2 -0.209046  1.228292 -0.590114 NaN\n",
       "3  0.608693  0.181388 -3.253443 NaN\n",
       "4  1.781711  0.605395 -0.494308 NaN\n",
       "5 -0.378440  2.104029  0.547360 NaN\n",
       "6       NaN       NaN       NaN NaN\n",
       "7       NaN       NaN       NaN NaN\n",
       "8       NaN       NaN       NaN NaN\n",
       "9       NaN       NaN       NaN NaN"
      ]
     },
     "execution_count": 41,
     "metadata": {},
     "output_type": "execute_result"
    }
   ],
   "source": [
    "# lets join both the dataframe using + operator\n",
    "df_1 + df_2"
   ]
  },
  {
   "cell_type": "code",
   "execution_count": 42,
   "id": "bced6846",
   "metadata": {},
   "outputs": [],
   "source": [
    "## In above example, we join two dataframe with different size\n",
    "## df_2 filled up its place according to df_1, rest size remains 'NaN'"
   ]
  },
  {
   "cell_type": "code",
   "execution_count": 43,
   "id": "58b5bb4d",
   "metadata": {},
   "outputs": [
    {
     "name": "stdout",
     "output_type": "stream",
     "text": [
      "       a      b\n",
      "0   True  False\n",
      "1  False   True\n",
      "2  False  False \n",
      "\n",
      "       a      b\n",
      "0  False  False\n",
      "1   True   True\n",
      "2  False   True \n",
      "\n",
      "And operation result\n",
      "        a      b\n",
      "0  False  False\n",
      "1  False   True\n",
      "2  False  False \n",
      "\n",
      "Or operation result\n",
      "        a      b\n",
      "0   True  False\n",
      "1   True   True\n",
      "2  False   True\n"
     ]
    }
   ],
   "source": [
    "### Boolean operation\n",
    "\n",
    "import pandas as pd\n",
    "df_1 = pd.DataFrame({\"a\": [1,0,0], \"b\" : [0,1,0]}, dtype=bool)\n",
    "df_2 = pd.DataFrame({\"a\": [0,1,0], \"b\" : [0,1,1]}, dtype=bool)\n",
    "\n",
    "# applying and(&) operator\n",
    "and_op = df_1 & df_2\n",
    "\n",
    "# applying or(|) operator\n",
    "or_op = df_1 | df_2\n",
    "\n",
    "print(df_1,\"\\n\")\n",
    "print(df_2,\"\\n\")\n",
    "print(\"And operation result\\n\",and_op,\"\\n\")\n",
    "print(\"Or operation result\\n\",or_op)"
   ]
  },
  {
   "cell_type": "code",
   "execution_count": 44,
   "id": "3412235a",
   "metadata": {},
   "outputs": [
    {
     "name": "stdout",
     "output_type": "stream",
     "text": [
      "Dataframe df:\n",
      "        a      b\n",
      "0   True  False\n",
      "1  False   True\n",
      "2  False  False\n",
      "\n",
      "Transpose of df:\n",
      "        0      1      2\n",
      "a   True  False  False\n",
      "b  False   True  False\n"
     ]
    }
   ],
   "source": [
    "## Transposing columns and rows of dataframe\n",
    "## Transposing in pandas is done by using 'T' function\n",
    "\n",
    "df = pd.DataFrame({\"a\": [1,0,0], \"b\" : [0,1,0]}, dtype=bool)\n",
    "print(\"Dataframe df:\\n\",df)\n",
    "\n",
    "## Transpose of df is \n",
    "trans = df.T\n",
    "print(\"\\nTranspose of df:\\n\",trans)"
   ]
  },
  {
   "cell_type": "code",
   "execution_count": 45,
   "id": "ac7bd01f",
   "metadata": {},
   "outputs": [
    {
     "name": "stdout",
     "output_type": "stream",
     "text": [
      "       0      1  \\\n",
      "a   True  False   \n",
      "b  False   True   \n",
      "\n",
      "       2  \n",
      "a  False  \n",
      "b  False  \n"
     ]
    }
   ],
   "source": [
    "## Imp :-\n",
    "# There is concept in python where we can set the width of the column using 'set_option' property\n",
    "\n",
    "# Example :\n",
    "pd.set_option(\"display.width\", 20)\n",
    "print(trans)"
   ]
  },
  {
   "cell_type": "code",
   "execution_count": 46,
   "id": "e1a34f29",
   "metadata": {},
   "outputs": [],
   "source": [
    "## Lets assume we have two different dataframe of same dimensions but different values.\n",
    "\n",
    "import pandas as pd\n",
    "import numpy as np\n",
    "\n",
    "df_1 = pd.DataFrame({\n",
    "    \"a\":[np.nan,1.0,2.6],\n",
    "    \"b\":[4.4,5.6,6.0],\n",
    "    \"c\":[7.8,3.2,np.nan]\n",
    "})\n",
    "\n",
    "df_2 = pd.DataFrame(np.random.randn(3,3), columns = (\"a\",\"b\",\"c\"))"
   ]
  },
  {
   "cell_type": "code",
   "execution_count": 47,
   "id": "b921eb26",
   "metadata": {},
   "outputs": [
    {
     "data": {
      "text/html": [
       "<div>\n",
       "<style scoped>\n",
       "    .dataframe tbody tr th:only-of-type {\n",
       "        vertical-align: middle;\n",
       "    }\n",
       "\n",
       "    .dataframe tbody tr th {\n",
       "        vertical-align: top;\n",
       "    }\n",
       "\n",
       "    .dataframe thead th {\n",
       "        text-align: right;\n",
       "    }\n",
       "</style>\n",
       "<table border=\"1\" class=\"dataframe\">\n",
       "  <thead>\n",
       "    <tr style=\"text-align: right;\">\n",
       "      <th></th>\n",
       "      <th>a</th>\n",
       "      <th>b</th>\n",
       "      <th>c</th>\n",
       "    </tr>\n",
       "  </thead>\n",
       "  <tbody>\n",
       "    <tr>\n",
       "      <th>0</th>\n",
       "      <td>NaN</td>\n",
       "      <td>5.702634</td>\n",
       "      <td>7.616468</td>\n",
       "    </tr>\n",
       "    <tr>\n",
       "      <th>1</th>\n",
       "      <td>1.129152</td>\n",
       "      <td>6.846408</td>\n",
       "      <td>4.731456</td>\n",
       "    </tr>\n",
       "    <tr>\n",
       "      <th>2</th>\n",
       "      <td>1.156403</td>\n",
       "      <td>4.573991</td>\n",
       "      <td>NaN</td>\n",
       "    </tr>\n",
       "  </tbody>\n",
       "</table>\n",
       "</div>"
      ],
      "text/plain": [
       "          a  \\\n",
       "0       NaN   \n",
       "1  1.129152   \n",
       "2  1.156403   \n",
       "\n",
       "          b  \\\n",
       "0  5.702634   \n",
       "1  6.846408   \n",
       "2  4.573991   \n",
       "\n",
       "          c  \n",
       "0  7.616468  \n",
       "1  4.731456  \n",
       "2       NaN  "
      ]
     },
     "execution_count": 47,
     "metadata": {},
     "output_type": "execute_result"
    }
   ],
   "source": [
    "## if we add them normally\n",
    "df_1.add(df_2)"
   ]
  },
  {
   "cell_type": "code",
   "execution_count": 48,
   "id": "c7b35c2f",
   "metadata": {},
   "outputs": [],
   "source": [
    "## Since df_1 has 'NaN' in its structure, so while adding both dataframe, resultant showed 'NaN'"
   ]
  },
  {
   "cell_type": "code",
   "execution_count": 49,
   "id": "c270b538",
   "metadata": {},
   "outputs": [
    {
     "data": {
      "text/html": [
       "<div>\n",
       "<style scoped>\n",
       "    .dataframe tbody tr th:only-of-type {\n",
       "        vertical-align: middle;\n",
       "    }\n",
       "\n",
       "    .dataframe tbody tr th {\n",
       "        vertical-align: top;\n",
       "    }\n",
       "\n",
       "    .dataframe thead th {\n",
       "        text-align: right;\n",
       "    }\n",
       "</style>\n",
       "<table border=\"1\" class=\"dataframe\">\n",
       "  <thead>\n",
       "    <tr style=\"text-align: right;\">\n",
       "      <th></th>\n",
       "      <th>a</th>\n",
       "      <th>b</th>\n",
       "      <th>c</th>\n",
       "    </tr>\n",
       "  </thead>\n",
       "  <tbody>\n",
       "    <tr>\n",
       "      <th>0</th>\n",
       "      <td>-1.371282</td>\n",
       "      <td>5.702634</td>\n",
       "      <td>7.616468</td>\n",
       "    </tr>\n",
       "    <tr>\n",
       "      <th>1</th>\n",
       "      <td>1.129152</td>\n",
       "      <td>6.846408</td>\n",
       "      <td>4.731456</td>\n",
       "    </tr>\n",
       "    <tr>\n",
       "      <th>2</th>\n",
       "      <td>1.156403</td>\n",
       "      <td>4.573991</td>\n",
       "      <td>0.755900</td>\n",
       "    </tr>\n",
       "  </tbody>\n",
       "</table>\n",
       "</div>"
      ],
      "text/plain": [
       "          a  \\\n",
       "0 -1.371282   \n",
       "1  1.129152   \n",
       "2  1.156403   \n",
       "\n",
       "          b  \\\n",
       "0  5.702634   \n",
       "1  6.846408   \n",
       "2  4.573991   \n",
       "\n",
       "          c  \n",
       "0  7.616468  \n",
       "1  4.731456  \n",
       "2  0.755900  "
      ]
     },
     "execution_count": 49,
     "metadata": {},
     "output_type": "execute_result"
    }
   ],
   "source": [
    "## But if we use 'fill_value = 0', we can put other value from another dataframe inplace of 'NaN'\n",
    "\n",
    "df_1.add(df_2, fill_value = 0)"
   ]
  },
  {
   "cell_type": "markdown",
   "id": "774c68d4",
   "metadata": {},
   "source": [
    "### Descriptive statistics"
   ]
  },
  {
   "cell_type": "code",
   "execution_count": 50,
   "id": "7ad65238",
   "metadata": {},
   "outputs": [],
   "source": [
    "## There are operation used to do some statistical calculations:\n",
    "## axis = 0,1 calculating value row and column wise respectively. "
   ]
  },
  {
   "cell_type": "code",
   "execution_count": 51,
   "id": "c831dd90",
   "metadata": {},
   "outputs": [],
   "source": [
    "import pandas as pd\n",
    "import numpy as np\n",
    "\n",
    "# dataframe\n",
    "df = df_1.copy()"
   ]
  },
  {
   "cell_type": "code",
   "execution_count": 52,
   "id": "78cec7a9",
   "metadata": {},
   "outputs": [
    {
     "data": {
      "text/html": [
       "<div>\n",
       "<style scoped>\n",
       "    .dataframe tbody tr th:only-of-type {\n",
       "        vertical-align: middle;\n",
       "    }\n",
       "\n",
       "    .dataframe tbody tr th {\n",
       "        vertical-align: top;\n",
       "    }\n",
       "\n",
       "    .dataframe thead th {\n",
       "        text-align: right;\n",
       "    }\n",
       "</style>\n",
       "<table border=\"1\" class=\"dataframe\">\n",
       "  <thead>\n",
       "    <tr style=\"text-align: right;\">\n",
       "      <th></th>\n",
       "      <th>a</th>\n",
       "      <th>b</th>\n",
       "      <th>c</th>\n",
       "    </tr>\n",
       "  </thead>\n",
       "  <tbody>\n",
       "    <tr>\n",
       "      <th>0</th>\n",
       "      <td>NaN</td>\n",
       "      <td>4.4</td>\n",
       "      <td>7.8</td>\n",
       "    </tr>\n",
       "    <tr>\n",
       "      <th>1</th>\n",
       "      <td>1.0</td>\n",
       "      <td>5.6</td>\n",
       "      <td>3.2</td>\n",
       "    </tr>\n",
       "    <tr>\n",
       "      <th>2</th>\n",
       "      <td>2.6</td>\n",
       "      <td>6.0</td>\n",
       "      <td>NaN</td>\n",
       "    </tr>\n",
       "  </tbody>\n",
       "</table>\n",
       "</div>"
      ],
      "text/plain": [
       "     a    b    c\n",
       "0  NaN  4.4  7.8\n",
       "1  1.0  5.6  3.2\n",
       "2  2.6  6.0  NaN"
      ]
     },
     "execution_count": 52,
     "metadata": {},
     "output_type": "execute_result"
    }
   ],
   "source": [
    "df"
   ]
  },
  {
   "cell_type": "code",
   "execution_count": 53,
   "id": "f9da2f1a",
   "metadata": {},
   "outputs": [
    {
     "data": {
      "text/plain": [
       "a    1.800000\n",
       "b    5.333333\n",
       "c    5.500000\n",
       "dtype: float64"
      ]
     },
     "execution_count": 53,
     "metadata": {},
     "output_type": "execute_result"
    }
   ],
   "source": [
    "# Calculating mean of dataframe row wise\n",
    "df.mean(0)"
   ]
  },
  {
   "cell_type": "code",
   "execution_count": 54,
   "id": "8342a356",
   "metadata": {},
   "outputs": [
    {
     "data": {
      "text/plain": [
       "0    6.100000\n",
       "1    3.266667\n",
       "2    4.300000\n",
       "dtype: float64"
      ]
     },
     "execution_count": 54,
     "metadata": {},
     "output_type": "execute_result"
    }
   ],
   "source": [
    "df.mean(1) # column wise"
   ]
  },
  {
   "cell_type": "code",
   "execution_count": 55,
   "id": "e7196528",
   "metadata": {},
   "outputs": [
    {
     "data": {
      "text/plain": [
       "a     3.6\n",
       "b    16.0\n",
       "c    11.0\n",
       "dtype: float64"
      ]
     },
     "execution_count": 55,
     "metadata": {},
     "output_type": "execute_result"
    }
   ],
   "source": [
    "# calculating sum of dataframe\n",
    "df.sum(0)"
   ]
  },
  {
   "cell_type": "code",
   "execution_count": 56,
   "id": "349e9992",
   "metadata": {},
   "outputs": [
    {
     "data": {
      "text/plain": [
       "a     NaN\n",
       "b    16.0\n",
       "c     NaN\n",
       "dtype: float64"
      ]
     },
     "execution_count": 56,
     "metadata": {},
     "output_type": "execute_result"
    }
   ],
   "source": [
    "# skipna() is the function used to either include or exclude NaN value.\n",
    "# By default its 'True'.\n",
    "\n",
    "# Example:\n",
    "df.sum(skipna=False)"
   ]
  },
  {
   "cell_type": "code",
   "execution_count": 57,
   "id": "3f8c0726",
   "metadata": {},
   "outputs": [
    {
     "data": {
      "text/plain": [
       "0    12.2\n",
       "1     9.8\n",
       "2     8.6\n",
       "dtype: float64"
      ]
     },
     "execution_count": 57,
     "metadata": {},
     "output_type": "execute_result"
    }
   ],
   "source": [
    "df.sum(axis=1, skipna=True)"
   ]
  },
  {
   "cell_type": "code",
   "execution_count": 58,
   "id": "057e5d13",
   "metadata": {},
   "outputs": [
    {
     "name": "stdout",
     "output_type": "stream",
     "text": [
      "     a    b    c\n",
      "0  NaN  4.4  7.8\n",
      "1  1.0  5.6  3.2\n",
      "2  2.6  6.0  NaN \n",
      "\n"
     ]
    },
    {
     "data": {
      "text/html": [
       "<div>\n",
       "<style scoped>\n",
       "    .dataframe tbody tr th:only-of-type {\n",
       "        vertical-align: middle;\n",
       "    }\n",
       "\n",
       "    .dataframe tbody tr th {\n",
       "        vertical-align: top;\n",
       "    }\n",
       "\n",
       "    .dataframe thead th {\n",
       "        text-align: right;\n",
       "    }\n",
       "</style>\n",
       "<table border=\"1\" class=\"dataframe\">\n",
       "  <thead>\n",
       "    <tr style=\"text-align: right;\">\n",
       "      <th></th>\n",
       "      <th>a</th>\n",
       "      <th>b</th>\n",
       "      <th>c</th>\n",
       "    </tr>\n",
       "  </thead>\n",
       "  <tbody>\n",
       "    <tr>\n",
       "      <th>0</th>\n",
       "      <td>NaN</td>\n",
       "      <td>4.4</td>\n",
       "      <td>12.2</td>\n",
       "    </tr>\n",
       "    <tr>\n",
       "      <th>1</th>\n",
       "      <td>1.0</td>\n",
       "      <td>6.6</td>\n",
       "      <td>9.8</td>\n",
       "    </tr>\n",
       "    <tr>\n",
       "      <th>2</th>\n",
       "      <td>2.6</td>\n",
       "      <td>8.6</td>\n",
       "      <td>NaN</td>\n",
       "    </tr>\n",
       "  </tbody>\n",
       "</table>\n",
       "</div>"
      ],
      "text/plain": [
       "     a    b     c\n",
       "0  NaN  4.4  12.2\n",
       "1  1.0  6.6   9.8\n",
       "2  2.6  8.6   NaN"
      ]
     },
     "execution_count": 58,
     "metadata": {},
     "output_type": "execute_result"
    }
   ],
   "source": [
    "# cumulative sum in dataframe\n",
    "# column wise\n",
    "print(df,\"\\n\")\n",
    "df.cumsum(axis = 1)"
   ]
  },
  {
   "cell_type": "code",
   "execution_count": 59,
   "id": "36e5b0ca",
   "metadata": {},
   "outputs": [],
   "source": [
    "## Some more functions used in DataFrame and Seriesand their description:-"
   ]
  },
  {
   "attachments": {
    "Screenshot%20%28452%29.png": {
     "image/png": "[encoded data removed]"
    }
   },
   "cell_type": "markdown",
   "id": "5f522302",
   "metadata": {},
   "source": [
    "![Screenshot%20%28452%29.png](attachment:Screenshot%20%28452%29.png)"
   ]
  },
  {
   "attachments": {
    "Screenshot%20%28453%29.png": {
     "image/png": "[encoded data removed]"
    }
   },
   "cell_type": "markdown",
   "id": "8f3374a2",
   "metadata": {},
   "source": [
    "![Screenshot%20%28453%29.png](attachment:Screenshot%20%28453%29.png)"
   ]
  },
  {
   "cell_type": "code",
   "execution_count": 60,
   "id": "78d025dd",
   "metadata": {},
   "outputs": [],
   "source": [
    "## Summarizing Data:\n",
    "## There is unique function used to computes a variety of summary statistics about columns in DataFrame."
   ]
  },
  {
   "cell_type": "code",
   "execution_count": 61,
   "id": "4d69dddf",
   "metadata": {},
   "outputs": [],
   "source": [
    "df = pd.DataFrame(np.random.randn(100,5),columns = (\"a\",\"b\",\"c\",\"d\",\"e\"))"
   ]
  },
  {
   "cell_type": "code",
   "execution_count": 62,
   "id": "5b08ef74",
   "metadata": {},
   "outputs": [
    {
     "data": {
      "text/html": [
       "<div>\n",
       "<style scoped>\n",
       "    .dataframe tbody tr th:only-of-type {\n",
       "        vertical-align: middle;\n",
       "    }\n",
       "\n",
       "    .dataframe tbody tr th {\n",
       "        vertical-align: top;\n",
       "    }\n",
       "\n",
       "    .dataframe thead th {\n",
       "        text-align: right;\n",
       "    }\n",
       "</style>\n",
       "<table border=\"1\" class=\"dataframe\">\n",
       "  <thead>\n",
       "    <tr style=\"text-align: right;\">\n",
       "      <th></th>\n",
       "      <th>a</th>\n",
       "      <th>b</th>\n",
       "      <th>c</th>\n",
       "      <th>d</th>\n",
       "      <th>e</th>\n",
       "    </tr>\n",
       "  </thead>\n",
       "  <tbody>\n",
       "    <tr>\n",
       "      <th>0</th>\n",
       "      <td>1.419063</td>\n",
       "      <td>1.019744</td>\n",
       "      <td>1.862996</td>\n",
       "      <td>-1.924236</td>\n",
       "      <td>0.567781</td>\n",
       "    </tr>\n",
       "    <tr>\n",
       "      <th>1</th>\n",
       "      <td>-0.514014</td>\n",
       "      <td>-0.407224</td>\n",
       "      <td>-0.179811</td>\n",
       "      <td>-1.753837</td>\n",
       "      <td>-0.844099</td>\n",
       "    </tr>\n",
       "    <tr>\n",
       "      <th>2</th>\n",
       "      <td>-1.092317</td>\n",
       "      <td>-1.177641</td>\n",
       "      <td>-2.055856</td>\n",
       "      <td>0.674887</td>\n",
       "      <td>0.886548</td>\n",
       "    </tr>\n",
       "    <tr>\n",
       "      <th>3</th>\n",
       "      <td>0.748333</td>\n",
       "      <td>0.484667</td>\n",
       "      <td>1.188074</td>\n",
       "      <td>-0.548325</td>\n",
       "      <td>1.866397</td>\n",
       "    </tr>\n",
       "    <tr>\n",
       "      <th>4</th>\n",
       "      <td>0.643939</td>\n",
       "      <td>-1.199148</td>\n",
       "      <td>1.451669</td>\n",
       "      <td>1.272489</td>\n",
       "      <td>-0.329793</td>\n",
       "    </tr>\n",
       "  </tbody>\n",
       "</table>\n",
       "</div>"
      ],
      "text/plain": [
       "          a  \\\n",
       "0  1.419063   \n",
       "1 -0.514014   \n",
       "2 -1.092317   \n",
       "3  0.748333   \n",
       "4  0.643939   \n",
       "\n",
       "          b  \\\n",
       "0  1.019744   \n",
       "1 -0.407224   \n",
       "2 -1.177641   \n",
       "3  0.484667   \n",
       "4 -1.199148   \n",
       "\n",
       "          c  \\\n",
       "0  1.862996   \n",
       "1 -0.179811   \n",
       "2 -2.055856   \n",
       "3  1.188074   \n",
       "4  1.451669   \n",
       "\n",
       "          d  \\\n",
       "0 -1.924236   \n",
       "1 -1.753837   \n",
       "2  0.674887   \n",
       "3 -0.548325   \n",
       "4  1.272489   \n",
       "\n",
       "          e  \n",
       "0  0.567781  \n",
       "1 -0.844099  \n",
       "2  0.886548  \n",
       "3  1.866397  \n",
       "4 -0.329793  "
      ]
     },
     "execution_count": 62,
     "metadata": {},
     "output_type": "execute_result"
    }
   ],
   "source": [
    "df.head()"
   ]
  },
  {
   "cell_type": "code",
   "execution_count": 63,
   "id": "9c263713",
   "metadata": {},
   "outputs": [
    {
     "data": {
      "text/html": [
       "<div>\n",
       "<style scoped>\n",
       "    .dataframe tbody tr th:only-of-type {\n",
       "        vertical-align: middle;\n",
       "    }\n",
       "\n",
       "    .dataframe tbody tr th {\n",
       "        vertical-align: top;\n",
       "    }\n",
       "\n",
       "    .dataframe thead th {\n",
       "        text-align: right;\n",
       "    }\n",
       "</style>\n",
       "<table border=\"1\" class=\"dataframe\">\n",
       "  <thead>\n",
       "    <tr style=\"text-align: right;\">\n",
       "      <th></th>\n",
       "      <th>a</th>\n",
       "      <th>b</th>\n",
       "      <th>c</th>\n",
       "      <th>d</th>\n",
       "      <th>e</th>\n",
       "    </tr>\n",
       "  </thead>\n",
       "  <tbody>\n",
       "    <tr>\n",
       "      <th>count</th>\n",
       "      <td>100.000000</td>\n",
       "      <td>100.000000</td>\n",
       "      <td>100.000000</td>\n",
       "      <td>100.000000</td>\n",
       "      <td>100.000000</td>\n",
       "    </tr>\n",
       "    <tr>\n",
       "      <th>mean</th>\n",
       "      <td>0.098803</td>\n",
       "      <td>-0.174010</td>\n",
       "      <td>0.025274</td>\n",
       "      <td>-0.038643</td>\n",
       "      <td>0.011867</td>\n",
       "    </tr>\n",
       "    <tr>\n",
       "      <th>std</th>\n",
       "      <td>0.985278</td>\n",
       "      <td>0.905050</td>\n",
       "      <td>0.998860</td>\n",
       "      <td>0.972079</td>\n",
       "      <td>0.953816</td>\n",
       "    </tr>\n",
       "    <tr>\n",
       "      <th>min</th>\n",
       "      <td>-2.115647</td>\n",
       "      <td>-2.053817</td>\n",
       "      <td>-2.055856</td>\n",
       "      <td>-2.267414</td>\n",
       "      <td>-2.966562</td>\n",
       "    </tr>\n",
       "    <tr>\n",
       "      <th>25%</th>\n",
       "      <td>-0.614980</td>\n",
       "      <td>-0.857997</td>\n",
       "      <td>-0.724571</td>\n",
       "      <td>-0.757710</td>\n",
       "      <td>-0.604385</td>\n",
       "    </tr>\n",
       "    <tr>\n",
       "      <th>50%</th>\n",
       "      <td>0.019807</td>\n",
       "      <td>-0.174372</td>\n",
       "      <td>-0.091785</td>\n",
       "      <td>-0.016910</td>\n",
       "      <td>-0.028085</td>\n",
       "    </tr>\n",
       "    <tr>\n",
       "      <th>75%</th>\n",
       "      <td>0.791716</td>\n",
       "      <td>0.481836</td>\n",
       "      <td>0.669316</td>\n",
       "      <td>0.645178</td>\n",
       "      <td>0.632026</td>\n",
       "    </tr>\n",
       "    <tr>\n",
       "      <th>max</th>\n",
       "      <td>2.344977</td>\n",
       "      <td>1.754283</td>\n",
       "      <td>2.761769</td>\n",
       "      <td>2.822875</td>\n",
       "      <td>2.275665</td>\n",
       "    </tr>\n",
       "  </tbody>\n",
       "</table>\n",
       "</div>"
      ],
      "text/plain": [
       "                a  \\\n",
       "count  100.000000   \n",
       "mean     0.098803   \n",
       "std      0.985278   \n",
       "min     -2.115647   \n",
       "25%     -0.614980   \n",
       "50%      0.019807   \n",
       "75%      0.791716   \n",
       "max      2.344977   \n",
       "\n",
       "                b  \\\n",
       "count  100.000000   \n",
       "mean    -0.174010   \n",
       "std      0.905050   \n",
       "min     -2.053817   \n",
       "25%     -0.857997   \n",
       "50%     -0.174372   \n",
       "75%      0.481836   \n",
       "max      1.754283   \n",
       "\n",
       "                c  \\\n",
       "count  100.000000   \n",
       "mean     0.025274   \n",
       "std      0.998860   \n",
       "min     -2.055856   \n",
       "25%     -0.724571   \n",
       "50%     -0.091785   \n",
       "75%      0.669316   \n",
       "max      2.761769   \n",
       "\n",
       "                d  \\\n",
       "count  100.000000   \n",
       "mean    -0.038643   \n",
       "std      0.972079   \n",
       "min     -2.267414   \n",
       "25%     -0.757710   \n",
       "50%     -0.016910   \n",
       "75%      0.645178   \n",
       "max      2.822875   \n",
       "\n",
       "                e  \n",
       "count  100.000000  \n",
       "mean     0.011867  \n",
       "std      0.953816  \n",
       "min     -2.966562  \n",
       "25%     -0.604385  \n",
       "50%     -0.028085  \n",
       "75%      0.632026  \n",
       "max      2.275665  "
      ]
     },
     "execution_count": 63,
     "metadata": {},
     "output_type": "execute_result"
    }
   ],
   "source": [
    "df.describe()"
   ]
  },
  {
   "cell_type": "code",
   "execution_count": 64,
   "id": "f0abe499",
   "metadata": {},
   "outputs": [],
   "source": [
    "frame = pd.DataFrame({\"a\":[1,0,0,1,0], \"b\":[0,1,1,0,0], \"c\":[1,1,1,0,0]}, dtype = bool)"
   ]
  },
  {
   "cell_type": "code",
   "execution_count": 65,
   "id": "07417a9b",
   "metadata": {},
   "outputs": [
    {
     "data": {
      "text/html": [
       "<div>\n",
       "<style scoped>\n",
       "    .dataframe tbody tr th:only-of-type {\n",
       "        vertical-align: middle;\n",
       "    }\n",
       "\n",
       "    .dataframe tbody tr th {\n",
       "        vertical-align: top;\n",
       "    }\n",
       "\n",
       "    .dataframe thead th {\n",
       "        text-align: right;\n",
       "    }\n",
       "</style>\n",
       "<table border=\"1\" class=\"dataframe\">\n",
       "  <thead>\n",
       "    <tr style=\"text-align: right;\">\n",
       "      <th></th>\n",
       "      <th>a</th>\n",
       "      <th>b</th>\n",
       "      <th>c</th>\n",
       "    </tr>\n",
       "  </thead>\n",
       "  <tbody>\n",
       "    <tr>\n",
       "      <th>0</th>\n",
       "      <td>True</td>\n",
       "      <td>False</td>\n",
       "      <td>True</td>\n",
       "    </tr>\n",
       "    <tr>\n",
       "      <th>1</th>\n",
       "      <td>False</td>\n",
       "      <td>True</td>\n",
       "      <td>True</td>\n",
       "    </tr>\n",
       "    <tr>\n",
       "      <th>2</th>\n",
       "      <td>False</td>\n",
       "      <td>True</td>\n",
       "      <td>True</td>\n",
       "    </tr>\n",
       "    <tr>\n",
       "      <th>3</th>\n",
       "      <td>True</td>\n",
       "      <td>False</td>\n",
       "      <td>False</td>\n",
       "    </tr>\n",
       "    <tr>\n",
       "      <th>4</th>\n",
       "      <td>False</td>\n",
       "      <td>False</td>\n",
       "      <td>False</td>\n",
       "    </tr>\n",
       "  </tbody>\n",
       "</table>\n",
       "</div>"
      ],
      "text/plain": [
       "       a      b  \\\n",
       "0   True  False   \n",
       "1  False   True   \n",
       "2  False   True   \n",
       "3   True  False   \n",
       "4  False  False   \n",
       "\n",
       "       c  \n",
       "0   True  \n",
       "1   True  \n",
       "2   True  \n",
       "3  False  \n",
       "4  False  "
      ]
     },
     "execution_count": 65,
     "metadata": {},
     "output_type": "execute_result"
    }
   ],
   "source": [
    "frame.head()"
   ]
  },
  {
   "cell_type": "code",
   "execution_count": 66,
   "id": "0cc9edd4",
   "metadata": {},
   "outputs": [
    {
     "data": {
      "text/html": [
       "<div>\n",
       "<style scoped>\n",
       "    .dataframe tbody tr th:only-of-type {\n",
       "        vertical-align: middle;\n",
       "    }\n",
       "\n",
       "    .dataframe tbody tr th {\n",
       "        vertical-align: top;\n",
       "    }\n",
       "\n",
       "    .dataframe thead th {\n",
       "        text-align: right;\n",
       "    }\n",
       "</style>\n",
       "<table border=\"1\" class=\"dataframe\">\n",
       "  <thead>\n",
       "    <tr style=\"text-align: right;\">\n",
       "      <th></th>\n",
       "      <th>a</th>\n",
       "      <th>b</th>\n",
       "      <th>c</th>\n",
       "    </tr>\n",
       "  </thead>\n",
       "  <tbody>\n",
       "    <tr>\n",
       "      <th>count</th>\n",
       "      <td>5</td>\n",
       "      <td>5</td>\n",
       "      <td>5</td>\n",
       "    </tr>\n",
       "    <tr>\n",
       "      <th>unique</th>\n",
       "      <td>2</td>\n",
       "      <td>2</td>\n",
       "      <td>2</td>\n",
       "    </tr>\n",
       "    <tr>\n",
       "      <th>top</th>\n",
       "      <td>False</td>\n",
       "      <td>False</td>\n",
       "      <td>True</td>\n",
       "    </tr>\n",
       "    <tr>\n",
       "      <th>freq</th>\n",
       "      <td>3</td>\n",
       "      <td>3</td>\n",
       "      <td>3</td>\n",
       "    </tr>\n",
       "  </tbody>\n",
       "</table>\n",
       "</div>"
      ],
      "text/plain": [
       "            a  \\\n",
       "count       5   \n",
       "unique      2   \n",
       "top     False   \n",
       "freq        3   \n",
       "\n",
       "            b  \\\n",
       "count       5   \n",
       "unique      2   \n",
       "top     False   \n",
       "freq        3   \n",
       "\n",
       "           c  \n",
       "count      5  \n",
       "unique     2  \n",
       "top     True  \n",
       "freq       3  "
      ]
     },
     "execution_count": 66,
     "metadata": {},
     "output_type": "execute_result"
    }
   ],
   "source": [
    "frame.describe()"
   ]
  },
  {
   "cell_type": "code",
   "execution_count": 67,
   "id": "3c8299fc",
   "metadata": {},
   "outputs": [],
   "source": [
    "## Note :\n",
    "## For numerical data, describe displays the mean, std, min types of information.\n",
    "## For categorical data, describe displays the count, unique, freq types of information."
   ]
  },
  {
   "cell_type": "code",
   "execution_count": 68,
   "id": "0472e554",
   "metadata": {},
   "outputs": [],
   "source": [
    "## There is \"include\" feature where we can change the behavior 'describe' works.\n",
    "\n",
    "# Example\n",
    "df = pd.DataFrame({\"A\":[\"Yes\",\"Yes\",\"No\",\"Yes\",\"No\"],\"B\":range(5)})"
   ]
  },
  {
   "cell_type": "code",
   "execution_count": 69,
   "id": "7c94331a",
   "metadata": {},
   "outputs": [
    {
     "data": {
      "text/html": [
       "<div>\n",
       "<style scoped>\n",
       "    .dataframe tbody tr th:only-of-type {\n",
       "        vertical-align: middle;\n",
       "    }\n",
       "\n",
       "    .dataframe tbody tr th {\n",
       "        vertical-align: top;\n",
       "    }\n",
       "\n",
       "    .dataframe thead th {\n",
       "        text-align: right;\n",
       "    }\n",
       "</style>\n",
       "<table border=\"1\" class=\"dataframe\">\n",
       "  <thead>\n",
       "    <tr style=\"text-align: right;\">\n",
       "      <th></th>\n",
       "      <th>B</th>\n",
       "    </tr>\n",
       "  </thead>\n",
       "  <tbody>\n",
       "    <tr>\n",
       "      <th>count</th>\n",
       "      <td>5.000000</td>\n",
       "    </tr>\n",
       "    <tr>\n",
       "      <th>mean</th>\n",
       "      <td>2.000000</td>\n",
       "    </tr>\n",
       "    <tr>\n",
       "      <th>std</th>\n",
       "      <td>1.581139</td>\n",
       "    </tr>\n",
       "    <tr>\n",
       "      <th>min</th>\n",
       "      <td>0.000000</td>\n",
       "    </tr>\n",
       "    <tr>\n",
       "      <th>25%</th>\n",
       "      <td>1.000000</td>\n",
       "    </tr>\n",
       "    <tr>\n",
       "      <th>50%</th>\n",
       "      <td>2.000000</td>\n",
       "    </tr>\n",
       "    <tr>\n",
       "      <th>75%</th>\n",
       "      <td>3.000000</td>\n",
       "    </tr>\n",
       "    <tr>\n",
       "      <th>max</th>\n",
       "      <td>4.000000</td>\n",
       "    </tr>\n",
       "  </tbody>\n",
       "</table>\n",
       "</div>"
      ],
      "text/plain": [
       "              B\n",
       "count  5.000000\n",
       "mean   2.000000\n",
       "std    1.581139\n",
       "min    0.000000\n",
       "25%    1.000000\n",
       "50%    2.000000\n",
       "75%    3.000000\n",
       "max    4.000000"
      ]
     },
     "execution_count": 69,
     "metadata": {},
     "output_type": "execute_result"
    }
   ],
   "source": [
    "# numerical description\n",
    "df.describe(include=[\"number\"])"
   ]
  },
  {
   "cell_type": "code",
   "execution_count": 70,
   "id": "fa5a6249",
   "metadata": {},
   "outputs": [
    {
     "data": {
      "text/html": [
       "<div>\n",
       "<style scoped>\n",
       "    .dataframe tbody tr th:only-of-type {\n",
       "        vertical-align: middle;\n",
       "    }\n",
       "\n",
       "    .dataframe tbody tr th {\n",
       "        vertical-align: top;\n",
       "    }\n",
       "\n",
       "    .dataframe thead th {\n",
       "        text-align: right;\n",
       "    }\n",
       "</style>\n",
       "<table border=\"1\" class=\"dataframe\">\n",
       "  <thead>\n",
       "    <tr style=\"text-align: right;\">\n",
       "      <th></th>\n",
       "      <th>A</th>\n",
       "    </tr>\n",
       "  </thead>\n",
       "  <tbody>\n",
       "    <tr>\n",
       "      <th>count</th>\n",
       "      <td>5</td>\n",
       "    </tr>\n",
       "    <tr>\n",
       "      <th>unique</th>\n",
       "      <td>2</td>\n",
       "    </tr>\n",
       "    <tr>\n",
       "      <th>top</th>\n",
       "      <td>Yes</td>\n",
       "    </tr>\n",
       "    <tr>\n",
       "      <th>freq</th>\n",
       "      <td>3</td>\n",
       "    </tr>\n",
       "  </tbody>\n",
       "</table>\n",
       "</div>"
      ],
      "text/plain": [
       "          A\n",
       "count     5\n",
       "unique    2\n",
       "top     Yes\n",
       "freq      3"
      ]
     },
     "execution_count": 70,
     "metadata": {},
     "output_type": "execute_result"
    }
   ],
   "source": [
    "# object description\n",
    "df.describe(include=['object'])"
   ]
  },
  {
   "cell_type": "code",
   "execution_count": 71,
   "id": "e854de99",
   "metadata": {},
   "outputs": [
    {
     "data": {
      "text/html": [
       "<div>\n",
       "<style scoped>\n",
       "    .dataframe tbody tr th:only-of-type {\n",
       "        vertical-align: middle;\n",
       "    }\n",
       "\n",
       "    .dataframe tbody tr th {\n",
       "        vertical-align: top;\n",
       "    }\n",
       "\n",
       "    .dataframe thead th {\n",
       "        text-align: right;\n",
       "    }\n",
       "</style>\n",
       "<table border=\"1\" class=\"dataframe\">\n",
       "  <thead>\n",
       "    <tr style=\"text-align: right;\">\n",
       "      <th></th>\n",
       "      <th>A</th>\n",
       "      <th>B</th>\n",
       "    </tr>\n",
       "  </thead>\n",
       "  <tbody>\n",
       "    <tr>\n",
       "      <th>count</th>\n",
       "      <td>5</td>\n",
       "      <td>5.000000</td>\n",
       "    </tr>\n",
       "    <tr>\n",
       "      <th>unique</th>\n",
       "      <td>2</td>\n",
       "      <td>NaN</td>\n",
       "    </tr>\n",
       "    <tr>\n",
       "      <th>top</th>\n",
       "      <td>Yes</td>\n",
       "      <td>NaN</td>\n",
       "    </tr>\n",
       "    <tr>\n",
       "      <th>freq</th>\n",
       "      <td>3</td>\n",
       "      <td>NaN</td>\n",
       "    </tr>\n",
       "    <tr>\n",
       "      <th>mean</th>\n",
       "      <td>NaN</td>\n",
       "      <td>2.000000</td>\n",
       "    </tr>\n",
       "    <tr>\n",
       "      <th>std</th>\n",
       "      <td>NaN</td>\n",
       "      <td>1.581139</td>\n",
       "    </tr>\n",
       "    <tr>\n",
       "      <th>min</th>\n",
       "      <td>NaN</td>\n",
       "      <td>0.000000</td>\n",
       "    </tr>\n",
       "    <tr>\n",
       "      <th>25%</th>\n",
       "      <td>NaN</td>\n",
       "      <td>1.000000</td>\n",
       "    </tr>\n",
       "    <tr>\n",
       "      <th>50%</th>\n",
       "      <td>NaN</td>\n",
       "      <td>2.000000</td>\n",
       "    </tr>\n",
       "    <tr>\n",
       "      <th>75%</th>\n",
       "      <td>NaN</td>\n",
       "      <td>3.000000</td>\n",
       "    </tr>\n",
       "    <tr>\n",
       "      <th>max</th>\n",
       "      <td>NaN</td>\n",
       "      <td>4.000000</td>\n",
       "    </tr>\n",
       "  </tbody>\n",
       "</table>\n",
       "</div>"
      ],
      "text/plain": [
       "          A  \\\n",
       "count     5   \n",
       "unique    2   \n",
       "top     Yes   \n",
       "freq      3   \n",
       "mean    NaN   \n",
       "std     NaN   \n",
       "min     NaN   \n",
       "25%     NaN   \n",
       "50%     NaN   \n",
       "75%     NaN   \n",
       "max     NaN   \n",
       "\n",
       "               B  \n",
       "count   5.000000  \n",
       "unique       NaN  \n",
       "top          NaN  \n",
       "freq         NaN  \n",
       "mean    2.000000  \n",
       "std     1.581139  \n",
       "min     0.000000  \n",
       "25%     1.000000  \n",
       "50%     2.000000  \n",
       "75%     3.000000  \n",
       "max     4.000000  "
      ]
     },
     "execution_count": 71,
     "metadata": {},
     "output_type": "execute_result"
    }
   ],
   "source": [
    "# all description : All information are displayed in single result\n",
    "df.describe(include='all')"
   ]
  },
  {
   "cell_type": "code",
   "execution_count": 72,
   "id": "f27408a1",
   "metadata": {},
   "outputs": [],
   "source": [
    "## To find the index of max and min number from columns in dataframe.\n",
    "## use \"idxmax\" and \"idxmin\" to find to index of maximum and minimum number from columns."
   ]
  },
  {
   "cell_type": "code",
   "execution_count": 73,
   "id": "07c85115",
   "metadata": {},
   "outputs": [
    {
     "data": {
      "text/html": [
       "<div>\n",
       "<style scoped>\n",
       "    .dataframe tbody tr th:only-of-type {\n",
       "        vertical-align: middle;\n",
       "    }\n",
       "\n",
       "    .dataframe tbody tr th {\n",
       "        vertical-align: top;\n",
       "    }\n",
       "\n",
       "    .dataframe thead th {\n",
       "        text-align: right;\n",
       "    }\n",
       "</style>\n",
       "<table border=\"1\" class=\"dataframe\">\n",
       "  <thead>\n",
       "    <tr style=\"text-align: right;\">\n",
       "      <th></th>\n",
       "      <th>a</th>\n",
       "      <th>b</th>\n",
       "      <th>c</th>\n",
       "      <th>d</th>\n",
       "      <th>e</th>\n",
       "    </tr>\n",
       "  </thead>\n",
       "  <tbody>\n",
       "    <tr>\n",
       "      <th>0</th>\n",
       "      <td>-1.310190</td>\n",
       "      <td>1.275894</td>\n",
       "      <td>1.162814</td>\n",
       "      <td>1.855207</td>\n",
       "      <td>1.281744</td>\n",
       "    </tr>\n",
       "    <tr>\n",
       "      <th>1</th>\n",
       "      <td>0.461570</td>\n",
       "      <td>1.983368</td>\n",
       "      <td>2.406380</td>\n",
       "      <td>-1.338864</td>\n",
       "      <td>-0.173242</td>\n",
       "    </tr>\n",
       "    <tr>\n",
       "      <th>2</th>\n",
       "      <td>-1.099910</td>\n",
       "      <td>1.482309</td>\n",
       "      <td>0.010974</td>\n",
       "      <td>0.260326</td>\n",
       "      <td>-2.702063</td>\n",
       "    </tr>\n",
       "    <tr>\n",
       "      <th>3</th>\n",
       "      <td>0.195668</td>\n",
       "      <td>0.113790</td>\n",
       "      <td>-1.117330</td>\n",
       "      <td>-0.102891</td>\n",
       "      <td>-0.969728</td>\n",
       "    </tr>\n",
       "    <tr>\n",
       "      <th>4</th>\n",
       "      <td>-0.759877</td>\n",
       "      <td>-2.086699</td>\n",
       "      <td>0.578219</td>\n",
       "      <td>0.894572</td>\n",
       "      <td>-0.034332</td>\n",
       "    </tr>\n",
       "  </tbody>\n",
       "</table>\n",
       "</div>"
      ],
      "text/plain": [
       "          a  \\\n",
       "0 -1.310190   \n",
       "1  0.461570   \n",
       "2 -1.099910   \n",
       "3  0.195668   \n",
       "4 -0.759877   \n",
       "\n",
       "          b  \\\n",
       "0  1.275894   \n",
       "1  1.983368   \n",
       "2  1.482309   \n",
       "3  0.113790   \n",
       "4 -2.086699   \n",
       "\n",
       "          c  \\\n",
       "0  1.162814   \n",
       "1  2.406380   \n",
       "2  0.010974   \n",
       "3 -1.117330   \n",
       "4  0.578219   \n",
       "\n",
       "          d  \\\n",
       "0  1.855207   \n",
       "1 -1.338864   \n",
       "2  0.260326   \n",
       "3 -0.102891   \n",
       "4  0.894572   \n",
       "\n",
       "          e  \n",
       "0  1.281744  \n",
       "1 -0.173242  \n",
       "2 -2.702063  \n",
       "3 -0.969728  \n",
       "4 -0.034332  "
      ]
     },
     "execution_count": 73,
     "metadata": {},
     "output_type": "execute_result"
    }
   ],
   "source": [
    "df = pd.DataFrame(np.random.randn(100,5),columns = (\"a\",\"b\",\"c\",\"d\",\"e\"))\n",
    "df.head()"
   ]
  },
  {
   "cell_type": "code",
   "execution_count": 74,
   "id": "93adbe87",
   "metadata": {},
   "outputs": [
    {
     "data": {
      "text/plain": [
       "a    53\n",
       "b    17\n",
       "c    65\n",
       "d    68\n",
       "e    93\n",
       "dtype: int64"
      ]
     },
     "execution_count": 74,
     "metadata": {},
     "output_type": "execute_result"
    }
   ],
   "source": [
    "df.idxmax()"
   ]
  },
  {
   "cell_type": "code",
   "execution_count": 75,
   "id": "e480d99e",
   "metadata": {},
   "outputs": [
    {
     "data": {
      "text/plain": [
       "a    92\n",
       "b    77\n",
       "c    90\n",
       "d     7\n",
       "e    17\n",
       "dtype: int64"
      ]
     },
     "execution_count": 75,
     "metadata": {},
     "output_type": "execute_result"
    }
   ],
   "source": [
    "df.idxmin()"
   ]
  },
  {
   "cell_type": "code",
   "execution_count": 76,
   "id": "26ff9e6b",
   "metadata": {},
   "outputs": [],
   "source": [
    "## Note :\n",
    "## If there are more than 1 maximum and minimum value, function will return the index of first occuring number."
   ]
  },
  {
   "cell_type": "code",
   "execution_count": 77,
   "id": "750f6b59",
   "metadata": {},
   "outputs": [],
   "source": [
    "## value_counts()\n",
    "## It is used to count the combinations across all the columns"
   ]
  },
  {
   "cell_type": "code",
   "execution_count": 78,
   "id": "fc87d5f5",
   "metadata": {},
   "outputs": [
    {
     "data": {
      "text/plain": [
       "a  b  c  d\n",
       "2  5  3  4    2\n",
       "1  5  4  3    1\n",
       "3  8  2  2    1\n",
       "4  1  2  3    1\n",
       "5  2  5  4    1\n",
       "Name: count, dtype: int64"
      ]
     },
     "execution_count": 78,
     "metadata": {},
     "output_type": "execute_result"
    }
   ],
   "source": [
    "# Example \n",
    "data = {\"a\":[1,2,2,3,4,5],\"b\":[5,5,5,8,1,2],\"c\":[4,3,3,2,2,5,],\"d\":[3,4,4,2,3,4]}\n",
    "df = pd.DataFrame(data)\n",
    "df.value_counts()"
   ]
  },
  {
   "cell_type": "code",
   "execution_count": 79,
   "id": "4455cb55",
   "metadata": {},
   "outputs": [],
   "source": [
    "## reindex function\n",
    "## It is used to change/customize the order of rows and columns"
   ]
  },
  {
   "cell_type": "code",
   "execution_count": 80,
   "id": "2933a210",
   "metadata": {},
   "outputs": [
    {
     "data": {
      "text/html": [
       "<div>\n",
       "<style scoped>\n",
       "    .dataframe tbody tr th:only-of-type {\n",
       "        vertical-align: middle;\n",
       "    }\n",
       "\n",
       "    .dataframe tbody tr th {\n",
       "        vertical-align: top;\n",
       "    }\n",
       "\n",
       "    .dataframe thead th {\n",
       "        text-align: right;\n",
       "    }\n",
       "</style>\n",
       "<table border=\"1\" class=\"dataframe\">\n",
       "  <thead>\n",
       "    <tr style=\"text-align: right;\">\n",
       "      <th></th>\n",
       "      <th>a</th>\n",
       "      <th>b</th>\n",
       "      <th>c</th>\n",
       "      <th>d</th>\n",
       "    </tr>\n",
       "  </thead>\n",
       "  <tbody>\n",
       "    <tr>\n",
       "      <th>0</th>\n",
       "      <td>1</td>\n",
       "      <td>5</td>\n",
       "      <td>4</td>\n",
       "      <td>3</td>\n",
       "    </tr>\n",
       "    <tr>\n",
       "      <th>1</th>\n",
       "      <td>2</td>\n",
       "      <td>5</td>\n",
       "      <td>3</td>\n",
       "      <td>4</td>\n",
       "    </tr>\n",
       "    <tr>\n",
       "      <th>2</th>\n",
       "      <td>2</td>\n",
       "      <td>5</td>\n",
       "      <td>3</td>\n",
       "      <td>4</td>\n",
       "    </tr>\n",
       "    <tr>\n",
       "      <th>3</th>\n",
       "      <td>3</td>\n",
       "      <td>8</td>\n",
       "      <td>2</td>\n",
       "      <td>2</td>\n",
       "    </tr>\n",
       "    <tr>\n",
       "      <th>4</th>\n",
       "      <td>4</td>\n",
       "      <td>1</td>\n",
       "      <td>2</td>\n",
       "      <td>3</td>\n",
       "    </tr>\n",
       "    <tr>\n",
       "      <th>5</th>\n",
       "      <td>5</td>\n",
       "      <td>2</td>\n",
       "      <td>5</td>\n",
       "      <td>4</td>\n",
       "    </tr>\n",
       "  </tbody>\n",
       "</table>\n",
       "</div>"
      ],
      "text/plain": [
       "   a  b  c  d\n",
       "0  1  5  4  3\n",
       "1  2  5  3  4\n",
       "2  2  5  3  4\n",
       "3  3  8  2  2\n",
       "4  4  1  2  3\n",
       "5  5  2  5  4"
      ]
     },
     "execution_count": 80,
     "metadata": {},
     "output_type": "execute_result"
    }
   ],
   "source": [
    "# Example :\n",
    "\n",
    "df # lets df be our dataframe"
   ]
  },
  {
   "cell_type": "code",
   "execution_count": 81,
   "id": "527d3296",
   "metadata": {},
   "outputs": [
    {
     "data": {
      "text/html": [
       "<div>\n",
       "<style scoped>\n",
       "    .dataframe tbody tr th:only-of-type {\n",
       "        vertical-align: middle;\n",
       "    }\n",
       "\n",
       "    .dataframe tbody tr th {\n",
       "        vertical-align: top;\n",
       "    }\n",
       "\n",
       "    .dataframe thead th {\n",
       "        text-align: right;\n",
       "    }\n",
       "</style>\n",
       "<table border=\"1\" class=\"dataframe\">\n",
       "  <thead>\n",
       "    <tr style=\"text-align: right;\">\n",
       "      <th></th>\n",
       "      <th>d</th>\n",
       "      <th>e</th>\n",
       "      <th>c</th>\n",
       "      <th>b</th>\n",
       "    </tr>\n",
       "  </thead>\n",
       "  <tbody>\n",
       "    <tr>\n",
       "      <th>2</th>\n",
       "      <td>4.0</td>\n",
       "      <td>NaN</td>\n",
       "      <td>3.0</td>\n",
       "      <td>5.0</td>\n",
       "    </tr>\n",
       "    <tr>\n",
       "      <th>3</th>\n",
       "      <td>2.0</td>\n",
       "      <td>NaN</td>\n",
       "      <td>2.0</td>\n",
       "      <td>8.0</td>\n",
       "    </tr>\n",
       "    <tr>\n",
       "      <th>6</th>\n",
       "      <td>NaN</td>\n",
       "      <td>NaN</td>\n",
       "      <td>NaN</td>\n",
       "      <td>NaN</td>\n",
       "    </tr>\n",
       "    <tr>\n",
       "      <th>1</th>\n",
       "      <td>4.0</td>\n",
       "      <td>NaN</td>\n",
       "      <td>3.0</td>\n",
       "      <td>5.0</td>\n",
       "    </tr>\n",
       "  </tbody>\n",
       "</table>\n",
       "</div>"
      ],
      "text/plain": [
       "     d   e    c  \\\n",
       "2  4.0 NaN  3.0   \n",
       "3  2.0 NaN  2.0   \n",
       "6  NaN NaN  NaN   \n",
       "1  4.0 NaN  3.0   \n",
       "\n",
       "     b  \n",
       "2  5.0  \n",
       "3  8.0  \n",
       "6  NaN  \n",
       "1  5.0  "
      ]
     },
     "execution_count": 81,
     "metadata": {},
     "output_type": "execute_result"
    }
   ],
   "source": [
    "# changing order of column \n",
    "df.reindex(index = [2,3,6,1], columns = ['d','e','c','b'])"
   ]
  },
  {
   "cell_type": "code",
   "execution_count": 82,
   "id": "79a5542c",
   "metadata": {},
   "outputs": [],
   "source": [
    "# Since \"e\" column was not there in dataframe, so reindex created new column with \"NaN\" value \n",
    "# since '6' row was not there in dataframe, reindex created new row with 'NaN' value. "
   ]
  },
  {
   "cell_type": "code",
   "execution_count": 83,
   "id": "4098aceb",
   "metadata": {},
   "outputs": [
    {
     "name": "stdout",
     "output_type": "stream",
     "text": [
      "   a  b  c  d\n",
      "0  1  5  4  3\n",
      "1  2  5  3  4\n",
      "2  2  5  3  4\n",
      "3  3  8  2  2\n",
      "4  4  1  2  3\n",
      "5  5  2  5  4\n"
     ]
    }
   ],
   "source": [
    "# using 'axis' we can change the order of either row or column.\n",
    "# Example : let df be dataframe\n",
    "print(df) "
   ]
  },
  {
   "cell_type": "code",
   "execution_count": 84,
   "id": "45dc3b62",
   "metadata": {},
   "outputs": [
    {
     "data": {
      "text/html": [
       "<div>\n",
       "<style scoped>\n",
       "    .dataframe tbody tr th:only-of-type {\n",
       "        vertical-align: middle;\n",
       "    }\n",
       "\n",
       "    .dataframe tbody tr th {\n",
       "        vertical-align: top;\n",
       "    }\n",
       "\n",
       "    .dataframe thead th {\n",
       "        text-align: right;\n",
       "    }\n",
       "</style>\n",
       "<table border=\"1\" class=\"dataframe\">\n",
       "  <thead>\n",
       "    <tr style=\"text-align: right;\">\n",
       "      <th></th>\n",
       "      <th>5</th>\n",
       "      <th>4</th>\n",
       "      <th>b</th>\n",
       "      <th>a</th>\n",
       "    </tr>\n",
       "  </thead>\n",
       "  <tbody>\n",
       "    <tr>\n",
       "      <th>0</th>\n",
       "      <td>NaN</td>\n",
       "      <td>NaN</td>\n",
       "      <td>5</td>\n",
       "      <td>1</td>\n",
       "    </tr>\n",
       "    <tr>\n",
       "      <th>1</th>\n",
       "      <td>NaN</td>\n",
       "      <td>NaN</td>\n",
       "      <td>5</td>\n",
       "      <td>2</td>\n",
       "    </tr>\n",
       "    <tr>\n",
       "      <th>2</th>\n",
       "      <td>NaN</td>\n",
       "      <td>NaN</td>\n",
       "      <td>5</td>\n",
       "      <td>2</td>\n",
       "    </tr>\n",
       "    <tr>\n",
       "      <th>3</th>\n",
       "      <td>NaN</td>\n",
       "      <td>NaN</td>\n",
       "      <td>8</td>\n",
       "      <td>3</td>\n",
       "    </tr>\n",
       "    <tr>\n",
       "      <th>4</th>\n",
       "      <td>NaN</td>\n",
       "      <td>NaN</td>\n",
       "      <td>1</td>\n",
       "      <td>4</td>\n",
       "    </tr>\n",
       "    <tr>\n",
       "      <th>5</th>\n",
       "      <td>NaN</td>\n",
       "      <td>NaN</td>\n",
       "      <td>2</td>\n",
       "      <td>5</td>\n",
       "    </tr>\n",
       "  </tbody>\n",
       "</table>\n",
       "</div>"
      ],
      "text/plain": [
       "    5   4  b  a\n",
       "0 NaN NaN  5  1\n",
       "1 NaN NaN  5  2\n",
       "2 NaN NaN  5  2\n",
       "3 NaN NaN  8  3\n",
       "4 NaN NaN  1  4\n",
       "5 NaN NaN  2  5"
      ]
     },
     "execution_count": 84,
     "metadata": {},
     "output_type": "execute_result"
    }
   ],
   "source": [
    "df.reindex([5,4,'b','a'], axis = 'columns')"
   ]
  },
  {
   "cell_type": "code",
   "execution_count": 85,
   "id": "31704a57",
   "metadata": {},
   "outputs": [
    {
     "data": {
      "text/html": [
       "<div>\n",
       "<style scoped>\n",
       "    .dataframe tbody tr th:only-of-type {\n",
       "        vertical-align: middle;\n",
       "    }\n",
       "\n",
       "    .dataframe tbody tr th {\n",
       "        vertical-align: top;\n",
       "    }\n",
       "\n",
       "    .dataframe thead th {\n",
       "        text-align: right;\n",
       "    }\n",
       "</style>\n",
       "<table border=\"1\" class=\"dataframe\">\n",
       "  <thead>\n",
       "    <tr style=\"text-align: right;\">\n",
       "      <th></th>\n",
       "      <th>a</th>\n",
       "      <th>b</th>\n",
       "      <th>c</th>\n",
       "      <th>d</th>\n",
       "    </tr>\n",
       "  </thead>\n",
       "  <tbody>\n",
       "    <tr>\n",
       "      <th>a</th>\n",
       "      <td>NaN</td>\n",
       "      <td>NaN</td>\n",
       "      <td>NaN</td>\n",
       "      <td>NaN</td>\n",
       "    </tr>\n",
       "    <tr>\n",
       "      <th>2</th>\n",
       "      <td>NaN</td>\n",
       "      <td>NaN</td>\n",
       "      <td>NaN</td>\n",
       "      <td>NaN</td>\n",
       "    </tr>\n",
       "    <tr>\n",
       "      <th>1</th>\n",
       "      <td>NaN</td>\n",
       "      <td>NaN</td>\n",
       "      <td>NaN</td>\n",
       "      <td>NaN</td>\n",
       "    </tr>\n",
       "  </tbody>\n",
       "</table>\n",
       "</div>"
      ],
      "text/plain": [
       "    a   b   c   d\n",
       "a NaN NaN NaN NaN\n",
       "2 NaN NaN NaN NaN\n",
       "1 NaN NaN NaN NaN"
      ]
     },
     "execution_count": 85,
     "metadata": {},
     "output_type": "execute_result"
    }
   ],
   "source": [
    "df.reindex(['a','2','1'], axis='index')"
   ]
  },
  {
   "cell_type": "markdown",
   "id": "e8dab4fe",
   "metadata": {},
   "source": [
    "### Aligning object using align() and join()"
   ]
  },
  {
   "cell_type": "code",
   "execution_count": 86,
   "id": "11917cc9",
   "metadata": {},
   "outputs": [],
   "source": [
    "s = pd.Series(np.random.randn(5), index = ['a','b','c','d','e'])"
   ]
  },
  {
   "cell_type": "code",
   "execution_count": 87,
   "id": "ac544522",
   "metadata": {},
   "outputs": [
    {
     "data": {
      "text/plain": [
       "a   -0.979647\n",
       "b   -1.320981\n",
       "c    0.903650\n",
       "d   -0.220523\n",
       "e   -0.077152\n",
       "dtype: float64"
      ]
     },
     "execution_count": 87,
     "metadata": {},
     "output_type": "execute_result"
    }
   ],
   "source": [
    "s"
   ]
  },
  {
   "cell_type": "code",
   "execution_count": 88,
   "id": "768f9b3d",
   "metadata": {},
   "outputs": [
    {
     "name": "stdout",
     "output_type": "stream",
     "text": [
      "b   -1.320981\n",
      "c    0.903650\n",
      "d   -0.220523\n",
      "e   -0.077152\n",
      "dtype: float64\n"
     ]
    }
   ],
   "source": [
    "s1 = s[1:]\n",
    "print(s1)"
   ]
  },
  {
   "cell_type": "code",
   "execution_count": 89,
   "id": "f4188230",
   "metadata": {},
   "outputs": [
    {
     "name": "stdout",
     "output_type": "stream",
     "text": [
      "a   -0.979647\n",
      "b   -1.320981\n",
      "c    0.903650\n",
      "dtype: float64\n"
     ]
    }
   ],
   "source": [
    "s2 = s[:3]\n",
    "print(s2)"
   ]
  },
  {
   "cell_type": "code",
   "execution_count": 90,
   "id": "1cf04cc1",
   "metadata": {},
   "outputs": [
    {
     "data": {
      "text/plain": [
       "(a         NaN\n",
       " b   -1.320981\n",
       " c    0.903650\n",
       " d   -0.220523\n",
       " e   -0.077152\n",
       " dtype: float64,\n",
       " a   -0.979647\n",
       " b   -1.320981\n",
       " c    0.903650\n",
       " d         NaN\n",
       " e         NaN\n",
       " dtype: float64)"
      ]
     },
     "execution_count": 90,
     "metadata": {},
     "output_type": "execute_result"
    }
   ],
   "source": [
    "s1.align(s2)"
   ]
  },
  {
   "cell_type": "code",
   "execution_count": 91,
   "id": "da5fd588",
   "metadata": {},
   "outputs": [],
   "source": [
    "# In align, it check the index, \n",
    "# it make sure that index are common in both, if index not present, it creates that index and assign value."
   ]
  },
  {
   "cell_type": "code",
   "execution_count": 92,
   "id": "527cc80d",
   "metadata": {},
   "outputs": [],
   "source": [
    "## Join argument in align"
   ]
  },
  {
   "attachments": {
    "Screenshot%20%28454%29.png": {
     "image/png": "[encoded data removed]"
    }
   },
   "cell_type": "markdown",
   "id": "a85b4fa9",
   "metadata": {},
   "source": [
    "![Screenshot%20%28454%29.png](attachment:Screenshot%20%28454%29.png)"
   ]
  },
  {
   "cell_type": "code",
   "execution_count": 93,
   "id": "fbdd2d45",
   "metadata": {},
   "outputs": [],
   "source": [
    "## outer join\n",
    "outer_join = s1.align(s2,join='outer')\n",
    "\n",
    "## inner join\n",
    "inner_join = s1.align(s2,join='inner')\n",
    "\n",
    "## left join\n",
    "left_join = s1.align(s2,join='left')\n",
    "\n",
    "## right join\n",
    "right_join = s1.align(s2, join='right')"
   ]
  },
  {
   "cell_type": "code",
   "execution_count": 94,
   "id": "adbf6699",
   "metadata": {},
   "outputs": [
    {
     "data": {
      "text/plain": [
       "(a         NaN\n",
       " b   -1.320981\n",
       " c    0.903650\n",
       " d   -0.220523\n",
       " e   -0.077152\n",
       " dtype: float64,\n",
       " a   -0.979647\n",
       " b   -1.320981\n",
       " c    0.903650\n",
       " d         NaN\n",
       " e         NaN\n",
       " dtype: float64)"
      ]
     },
     "execution_count": 94,
     "metadata": {},
     "output_type": "execute_result"
    }
   ],
   "source": [
    "outer_join"
   ]
  },
  {
   "cell_type": "code",
   "execution_count": 95,
   "id": "b4788775",
   "metadata": {},
   "outputs": [
    {
     "data": {
      "text/plain": [
       "(b   -1.320981\n",
       " c    0.903650\n",
       " dtype: float64,\n",
       " b   -1.320981\n",
       " c    0.903650\n",
       " dtype: float64)"
      ]
     },
     "execution_count": 95,
     "metadata": {},
     "output_type": "execute_result"
    }
   ],
   "source": [
    "inner_join"
   ]
  },
  {
   "cell_type": "code",
   "execution_count": 96,
   "id": "417f67f2",
   "metadata": {},
   "outputs": [
    {
     "data": {
      "text/plain": [
       "(b   -1.320981\n",
       " c    0.903650\n",
       " d   -0.220523\n",
       " e   -0.077152\n",
       " dtype: float64,\n",
       " b   -1.320981\n",
       " c    0.903650\n",
       " d         NaN\n",
       " e         NaN\n",
       " dtype: float64)"
      ]
     },
     "execution_count": 96,
     "metadata": {},
     "output_type": "execute_result"
    }
   ],
   "source": [
    "left_join"
   ]
  },
  {
   "cell_type": "code",
   "execution_count": 97,
   "id": "3cf6e59f",
   "metadata": {},
   "outputs": [
    {
     "data": {
      "text/plain": [
       "(a         NaN\n",
       " b   -1.320981\n",
       " c    0.903650\n",
       " dtype: float64,\n",
       " a   -0.979647\n",
       " b   -1.320981\n",
       " c    0.903650\n",
       " dtype: float64)"
      ]
     },
     "execution_count": 97,
     "metadata": {},
     "output_type": "execute_result"
    }
   ],
   "source": [
    "right_join"
   ]
  },
  {
   "cell_type": "markdown",
   "id": "fd3dd161",
   "metadata": {},
   "source": [
    "### drop()"
   ]
  },
  {
   "cell_type": "code",
   "execution_count": 98,
   "id": "946f9674",
   "metadata": {},
   "outputs": [],
   "source": [
    "# Drop() function is used to remove the particular column from the DataFrame\n",
    "# By default drop will remove rows (axis=0)"
   ]
  },
  {
   "cell_type": "code",
   "execution_count": 99,
   "id": "5caf5195",
   "metadata": {},
   "outputs": [
    {
     "data": {
      "text/html": [
       "<div>\n",
       "<style scoped>\n",
       "    .dataframe tbody tr th:only-of-type {\n",
       "        vertical-align: middle;\n",
       "    }\n",
       "\n",
       "    .dataframe tbody tr th {\n",
       "        vertical-align: top;\n",
       "    }\n",
       "\n",
       "    .dataframe thead th {\n",
       "        text-align: right;\n",
       "    }\n",
       "</style>\n",
       "<table border=\"1\" class=\"dataframe\">\n",
       "  <thead>\n",
       "    <tr style=\"text-align: right;\">\n",
       "      <th></th>\n",
       "      <th>a</th>\n",
       "      <th>b</th>\n",
       "      <th>c</th>\n",
       "      <th>d</th>\n",
       "    </tr>\n",
       "  </thead>\n",
       "  <tbody>\n",
       "    <tr>\n",
       "      <th>0</th>\n",
       "      <td>1</td>\n",
       "      <td>5</td>\n",
       "      <td>4</td>\n",
       "      <td>3</td>\n",
       "    </tr>\n",
       "    <tr>\n",
       "      <th>1</th>\n",
       "      <td>2</td>\n",
       "      <td>5</td>\n",
       "      <td>3</td>\n",
       "      <td>4</td>\n",
       "    </tr>\n",
       "    <tr>\n",
       "      <th>2</th>\n",
       "      <td>2</td>\n",
       "      <td>5</td>\n",
       "      <td>3</td>\n",
       "      <td>4</td>\n",
       "    </tr>\n",
       "    <tr>\n",
       "      <th>3</th>\n",
       "      <td>3</td>\n",
       "      <td>8</td>\n",
       "      <td>2</td>\n",
       "      <td>2</td>\n",
       "    </tr>\n",
       "    <tr>\n",
       "      <th>4</th>\n",
       "      <td>4</td>\n",
       "      <td>1</td>\n",
       "      <td>2</td>\n",
       "      <td>3</td>\n",
       "    </tr>\n",
       "    <tr>\n",
       "      <th>5</th>\n",
       "      <td>5</td>\n",
       "      <td>2</td>\n",
       "      <td>5</td>\n",
       "      <td>4</td>\n",
       "    </tr>\n",
       "  </tbody>\n",
       "</table>\n",
       "</div>"
      ],
      "text/plain": [
       "   a  b  c  d\n",
       "0  1  5  4  3\n",
       "1  2  5  3  4\n",
       "2  2  5  3  4\n",
       "3  3  8  2  2\n",
       "4  4  1  2  3\n",
       "5  5  2  5  4"
      ]
     },
     "execution_count": 99,
     "metadata": {},
     "output_type": "execute_result"
    }
   ],
   "source": [
    "df # let df be our dataframe"
   ]
  },
  {
   "cell_type": "code",
   "execution_count": 100,
   "id": "c57f5351",
   "metadata": {},
   "outputs": [
    {
     "data": {
      "text/html": [
       "<div>\n",
       "<style scoped>\n",
       "    .dataframe tbody tr th:only-of-type {\n",
       "        vertical-align: middle;\n",
       "    }\n",
       "\n",
       "    .dataframe tbody tr th {\n",
       "        vertical-align: top;\n",
       "    }\n",
       "\n",
       "    .dataframe thead th {\n",
       "        text-align: right;\n",
       "    }\n",
       "</style>\n",
       "<table border=\"1\" class=\"dataframe\">\n",
       "  <thead>\n",
       "    <tr style=\"text-align: right;\">\n",
       "      <th></th>\n",
       "      <th>a</th>\n",
       "      <th>b</th>\n",
       "      <th>d</th>\n",
       "    </tr>\n",
       "  </thead>\n",
       "  <tbody>\n",
       "    <tr>\n",
       "      <th>0</th>\n",
       "      <td>1</td>\n",
       "      <td>5</td>\n",
       "      <td>3</td>\n",
       "    </tr>\n",
       "    <tr>\n",
       "      <th>1</th>\n",
       "      <td>2</td>\n",
       "      <td>5</td>\n",
       "      <td>4</td>\n",
       "    </tr>\n",
       "    <tr>\n",
       "      <th>2</th>\n",
       "      <td>2</td>\n",
       "      <td>5</td>\n",
       "      <td>4</td>\n",
       "    </tr>\n",
       "    <tr>\n",
       "      <th>3</th>\n",
       "      <td>3</td>\n",
       "      <td>8</td>\n",
       "      <td>2</td>\n",
       "    </tr>\n",
       "    <tr>\n",
       "      <th>4</th>\n",
       "      <td>4</td>\n",
       "      <td>1</td>\n",
       "      <td>3</td>\n",
       "    </tr>\n",
       "    <tr>\n",
       "      <th>5</th>\n",
       "      <td>5</td>\n",
       "      <td>2</td>\n",
       "      <td>4</td>\n",
       "    </tr>\n",
       "  </tbody>\n",
       "</table>\n",
       "</div>"
      ],
      "text/plain": [
       "   a  b  d\n",
       "0  1  5  3\n",
       "1  2  5  4\n",
       "2  2  5  4\n",
       "3  3  8  2\n",
       "4  4  1  3\n",
       "5  5  2  4"
      ]
     },
     "execution_count": 100,
     "metadata": {},
     "output_type": "execute_result"
    }
   ],
   "source": [
    "# if you want to remove 'c' column from df\n",
    "df.drop(['c'],axis=1)"
   ]
  },
  {
   "cell_type": "code",
   "execution_count": 101,
   "id": "067c9691",
   "metadata": {},
   "outputs": [
    {
     "data": {
      "text/html": [
       "<div>\n",
       "<style scoped>\n",
       "    .dataframe tbody tr th:only-of-type {\n",
       "        vertical-align: middle;\n",
       "    }\n",
       "\n",
       "    .dataframe tbody tr th {\n",
       "        vertical-align: top;\n",
       "    }\n",
       "\n",
       "    .dataframe thead th {\n",
       "        text-align: right;\n",
       "    }\n",
       "</style>\n",
       "<table border=\"1\" class=\"dataframe\">\n",
       "  <thead>\n",
       "    <tr style=\"text-align: right;\">\n",
       "      <th></th>\n",
       "      <th>a</th>\n",
       "      <th>b</th>\n",
       "      <th>c</th>\n",
       "      <th>d</th>\n",
       "    </tr>\n",
       "  </thead>\n",
       "  <tbody>\n",
       "    <tr>\n",
       "      <th>0</th>\n",
       "      <td>1</td>\n",
       "      <td>5</td>\n",
       "      <td>4</td>\n",
       "      <td>3</td>\n",
       "    </tr>\n",
       "    <tr>\n",
       "      <th>1</th>\n",
       "      <td>2</td>\n",
       "      <td>5</td>\n",
       "      <td>3</td>\n",
       "      <td>4</td>\n",
       "    </tr>\n",
       "    <tr>\n",
       "      <th>2</th>\n",
       "      <td>2</td>\n",
       "      <td>5</td>\n",
       "      <td>3</td>\n",
       "      <td>4</td>\n",
       "    </tr>\n",
       "    <tr>\n",
       "      <th>5</th>\n",
       "      <td>5</td>\n",
       "      <td>2</td>\n",
       "      <td>5</td>\n",
       "      <td>4</td>\n",
       "    </tr>\n",
       "  </tbody>\n",
       "</table>\n",
       "</div>"
      ],
      "text/plain": [
       "   a  b  c  d\n",
       "0  1  5  4  3\n",
       "1  2  5  3  4\n",
       "2  2  5  3  4\n",
       "5  5  2  5  4"
      ]
     },
     "execution_count": 101,
     "metadata": {},
     "output_type": "execute_result"
    }
   ],
   "source": [
    "# to drop row (3,4)\n",
    "df.drop([3,4])"
   ]
  },
  {
   "cell_type": "markdown",
   "id": "fad1fa36",
   "metadata": {},
   "source": [
    "### Renaming indexes"
   ]
  },
  {
   "cell_type": "code",
   "execution_count": 102,
   "id": "ecf744de",
   "metadata": {},
   "outputs": [
    {
     "data": {
      "text/html": [
       "<div>\n",
       "<style scoped>\n",
       "    .dataframe tbody tr th:only-of-type {\n",
       "        vertical-align: middle;\n",
       "    }\n",
       "\n",
       "    .dataframe tbody tr th {\n",
       "        vertical-align: top;\n",
       "    }\n",
       "\n",
       "    .dataframe thead th {\n",
       "        text-align: right;\n",
       "    }\n",
       "</style>\n",
       "<table border=\"1\" class=\"dataframe\">\n",
       "  <thead>\n",
       "    <tr style=\"text-align: right;\">\n",
       "      <th></th>\n",
       "      <th>A</th>\n",
       "      <th>B</th>\n",
       "      <th>C</th>\n",
       "      <th>D</th>\n",
       "    </tr>\n",
       "  </thead>\n",
       "  <tbody>\n",
       "    <tr>\n",
       "      <th>0</th>\n",
       "      <td>1</td>\n",
       "      <td>5</td>\n",
       "      <td>4</td>\n",
       "      <td>3</td>\n",
       "    </tr>\n",
       "    <tr>\n",
       "      <th>1</th>\n",
       "      <td>2</td>\n",
       "      <td>5</td>\n",
       "      <td>3</td>\n",
       "      <td>4</td>\n",
       "    </tr>\n",
       "    <tr>\n",
       "      <th>2</th>\n",
       "      <td>2</td>\n",
       "      <td>5</td>\n",
       "      <td>3</td>\n",
       "      <td>4</td>\n",
       "    </tr>\n",
       "    <tr>\n",
       "      <th>3</th>\n",
       "      <td>3</td>\n",
       "      <td>8</td>\n",
       "      <td>2</td>\n",
       "      <td>2</td>\n",
       "    </tr>\n",
       "    <tr>\n",
       "      <th>4</th>\n",
       "      <td>4</td>\n",
       "      <td>1</td>\n",
       "      <td>2</td>\n",
       "      <td>3</td>\n",
       "    </tr>\n",
       "    <tr>\n",
       "      <th>5</th>\n",
       "      <td>5</td>\n",
       "      <td>2</td>\n",
       "      <td>5</td>\n",
       "      <td>4</td>\n",
       "    </tr>\n",
       "  </tbody>\n",
       "</table>\n",
       "</div>"
      ],
      "text/plain": [
       "   A  B  C  D\n",
       "0  1  5  4  3\n",
       "1  2  5  3  4\n",
       "2  2  5  3  4\n",
       "3  3  8  2  2\n",
       "4  4  1  2  3\n",
       "5  5  2  5  4"
      ]
     },
     "execution_count": 102,
     "metadata": {},
     "output_type": "execute_result"
    }
   ],
   "source": [
    "# Upper caps the column name\n",
    "df.rename(str.upper,axis=1)"
   ]
  },
  {
   "cell_type": "code",
   "execution_count": 103,
   "id": "39ef8cd8",
   "metadata": {},
   "outputs": [
    {
     "data": {
      "text/html": [
       "<div>\n",
       "<style scoped>\n",
       "    .dataframe tbody tr th:only-of-type {\n",
       "        vertical-align: middle;\n",
       "    }\n",
       "\n",
       "    .dataframe tbody tr th {\n",
       "        vertical-align: top;\n",
       "    }\n",
       "\n",
       "    .dataframe thead th {\n",
       "        text-align: right;\n",
       "    }\n",
       "</style>\n",
       "<table border=\"1\" class=\"dataframe\">\n",
       "  <thead>\n",
       "    <tr style=\"text-align: right;\">\n",
       "      <th></th>\n",
       "      <th>1</th>\n",
       "      <th>b</th>\n",
       "      <th>3</th>\n",
       "      <th>d</th>\n",
       "    </tr>\n",
       "  </thead>\n",
       "  <tbody>\n",
       "    <tr>\n",
       "      <th>P</th>\n",
       "      <td>1</td>\n",
       "      <td>5</td>\n",
       "      <td>4</td>\n",
       "      <td>3</td>\n",
       "    </tr>\n",
       "    <tr>\n",
       "      <th>1</th>\n",
       "      <td>2</td>\n",
       "      <td>5</td>\n",
       "      <td>3</td>\n",
       "      <td>4</td>\n",
       "    </tr>\n",
       "    <tr>\n",
       "      <th>2</th>\n",
       "      <td>2</td>\n",
       "      <td>5</td>\n",
       "      <td>3</td>\n",
       "      <td>4</td>\n",
       "    </tr>\n",
       "    <tr>\n",
       "      <th>3</th>\n",
       "      <td>3</td>\n",
       "      <td>8</td>\n",
       "      <td>2</td>\n",
       "      <td>2</td>\n",
       "    </tr>\n",
       "    <tr>\n",
       "      <th>4</th>\n",
       "      <td>4</td>\n",
       "      <td>1</td>\n",
       "      <td>2</td>\n",
       "      <td>3</td>\n",
       "    </tr>\n",
       "    <tr>\n",
       "      <th>R</th>\n",
       "      <td>5</td>\n",
       "      <td>2</td>\n",
       "      <td>5</td>\n",
       "      <td>4</td>\n",
       "    </tr>\n",
       "  </tbody>\n",
       "</table>\n",
       "</div>"
      ],
      "text/plain": [
       "   1  b  3  d\n",
       "P  1  5  4  3\n",
       "1  2  5  3  4\n",
       "2  2  5  3  4\n",
       "3  3  8  2  2\n",
       "4  4  1  2  3\n",
       "R  5  2  5  4"
      ]
     },
     "execution_count": 103,
     "metadata": {},
     "output_type": "execute_result"
    }
   ],
   "source": [
    "# Using dict we can change any row or column name.\n",
    "df.rename(index = {0:'P', 5:'R'},\n",
    "         columns = {'a':1,'c':3})"
   ]
  },
  {
   "cell_type": "markdown",
   "id": "0fb8ec5f",
   "metadata": {},
   "source": [
    "### Sorting"
   ]
  },
  {
   "cell_type": "code",
   "execution_count": 104,
   "id": "3a39325e",
   "metadata": {},
   "outputs": [],
   "source": [
    "# In pandas we can sort the structure by using values, indexes or both."
   ]
  },
  {
   "cell_type": "code",
   "execution_count": 105,
   "id": "a7dfd208",
   "metadata": {},
   "outputs": [],
   "source": [
    "## Sorting by values\n",
    "# pandas as sort_value() function where dataframe/series can be sorted by values.\n",
    "# 'by' optional parameter is there to specify the columns to use to determine the sorted value."
   ]
  },
  {
   "cell_type": "code",
   "execution_count": 106,
   "id": "1cee1e70",
   "metadata": {},
   "outputs": [
    {
     "data": {
      "text/html": [
       "<div>\n",
       "<style scoped>\n",
       "    .dataframe tbody tr th:only-of-type {\n",
       "        vertical-align: middle;\n",
       "    }\n",
       "\n",
       "    .dataframe tbody tr th {\n",
       "        vertical-align: top;\n",
       "    }\n",
       "\n",
       "    .dataframe thead th {\n",
       "        text-align: right;\n",
       "    }\n",
       "</style>\n",
       "<table border=\"1\" class=\"dataframe\">\n",
       "  <thead>\n",
       "    <tr style=\"text-align: right;\">\n",
       "      <th></th>\n",
       "      <th>a</th>\n",
       "      <th>b</th>\n",
       "      <th>c</th>\n",
       "    </tr>\n",
       "  </thead>\n",
       "  <tbody>\n",
       "    <tr>\n",
       "      <th>2</th>\n",
       "      <td>2</td>\n",
       "      <td>1</td>\n",
       "      <td>2.0</td>\n",
       "    </tr>\n",
       "    <tr>\n",
       "      <th>1</th>\n",
       "      <td>4</td>\n",
       "      <td>2</td>\n",
       "      <td>1.0</td>\n",
       "    </tr>\n",
       "    <tr>\n",
       "      <th>0</th>\n",
       "      <td>1</td>\n",
       "      <td>3</td>\n",
       "      <td>NaN</td>\n",
       "    </tr>\n",
       "    <tr>\n",
       "      <th>3</th>\n",
       "      <td>3</td>\n",
       "      <td>4</td>\n",
       "      <td>3.0</td>\n",
       "    </tr>\n",
       "  </tbody>\n",
       "</table>\n",
       "</div>"
      ],
      "text/plain": [
       "   a  b    c\n",
       "2  2  1  2.0\n",
       "1  4  2  1.0\n",
       "0  1  3  NaN\n",
       "3  3  4  3.0"
      ]
     },
     "execution_count": 106,
     "metadata": {},
     "output_type": "execute_result"
    }
   ],
   "source": [
    "# Example :\n",
    "\n",
    "import pandas as pd\n",
    "import numpy as np\n",
    "\n",
    "df = pd.DataFrame({\"a\":[1,4,2,3], 'b':[3,2,1,4], 'c':[np.nan, 1,2,3]})\n",
    "\n",
    "df.sort_values(by='b')"
   ]
  },
  {
   "cell_type": "code",
   "execution_count": 107,
   "id": "6cb4576a",
   "metadata": {},
   "outputs": [],
   "source": [
    "# In above example we have sorted values of 'b' column in 'df'. "
   ]
  },
  {
   "cell_type": "code",
   "execution_count": 108,
   "id": "e3db7ac2",
   "metadata": {},
   "outputs": [
    {
     "data": {
      "text/html": [
       "<div>\n",
       "<style scoped>\n",
       "    .dataframe tbody tr th:only-of-type {\n",
       "        vertical-align: middle;\n",
       "    }\n",
       "\n",
       "    .dataframe tbody tr th {\n",
       "        vertical-align: top;\n",
       "    }\n",
       "\n",
       "    .dataframe thead th {\n",
       "        text-align: right;\n",
       "    }\n",
       "</style>\n",
       "<table border=\"1\" class=\"dataframe\">\n",
       "  <thead>\n",
       "    <tr style=\"text-align: right;\">\n",
       "      <th></th>\n",
       "      <th>a</th>\n",
       "      <th>b</th>\n",
       "      <th>c</th>\n",
       "    </tr>\n",
       "  </thead>\n",
       "  <tbody>\n",
       "    <tr>\n",
       "      <th>1</th>\n",
       "      <td>1</td>\n",
       "      <td>1</td>\n",
       "      <td>NaN</td>\n",
       "    </tr>\n",
       "    <tr>\n",
       "      <th>0</th>\n",
       "      <td>1</td>\n",
       "      <td>2</td>\n",
       "      <td>3.0</td>\n",
       "    </tr>\n",
       "    <tr>\n",
       "      <th>2</th>\n",
       "      <td>2</td>\n",
       "      <td>2</td>\n",
       "      <td>1.0</td>\n",
       "    </tr>\n",
       "    <tr>\n",
       "      <th>3</th>\n",
       "      <td>3</td>\n",
       "      <td>3</td>\n",
       "      <td>NaN</td>\n",
       "    </tr>\n",
       "  </tbody>\n",
       "</table>\n",
       "</div>"
      ],
      "text/plain": [
       "   a  b    c\n",
       "1  1  1  NaN\n",
       "0  1  2  3.0\n",
       "2  2  2  1.0\n",
       "3  3  3  NaN"
      ]
     },
     "execution_count": 108,
     "metadata": {},
     "output_type": "execute_result"
    }
   ],
   "source": [
    "## Note:\n",
    "# 'by' can take multiple columns in list form\n",
    "\n",
    "# Example :\n",
    "pd.DataFrame({\"a\":[1,1,2,3],'b':[2,1,2,3],'c':[3,np.nan,1,np.nan]}).sort_values(by=['a','b'])"
   ]
  },
  {
   "cell_type": "code",
   "execution_count": 109,
   "id": "f3f595d2",
   "metadata": {},
   "outputs": [
    {
     "data": {
      "text/html": [
       "<div>\n",
       "<style scoped>\n",
       "    .dataframe tbody tr th:only-of-type {\n",
       "        vertical-align: middle;\n",
       "    }\n",
       "\n",
       "    .dataframe tbody tr th {\n",
       "        vertical-align: top;\n",
       "    }\n",
       "\n",
       "    .dataframe thead th {\n",
       "        text-align: right;\n",
       "    }\n",
       "</style>\n",
       "<table border=\"1\" class=\"dataframe\">\n",
       "  <thead>\n",
       "    <tr style=\"text-align: right;\">\n",
       "      <th></th>\n",
       "      <th>a</th>\n",
       "      <th>b</th>\n",
       "      <th>c</th>\n",
       "    </tr>\n",
       "  </thead>\n",
       "  <tbody>\n",
       "    <tr>\n",
       "      <th>1</th>\n",
       "      <td>1</td>\n",
       "      <td>1</td>\n",
       "      <td>NaN</td>\n",
       "    </tr>\n",
       "    <tr>\n",
       "      <th>3</th>\n",
       "      <td>3</td>\n",
       "      <td>3</td>\n",
       "      <td>NaN</td>\n",
       "    </tr>\n",
       "    <tr>\n",
       "      <th>2</th>\n",
       "      <td>2</td>\n",
       "      <td>2</td>\n",
       "      <td>1.0</td>\n",
       "    </tr>\n",
       "    <tr>\n",
       "      <th>0</th>\n",
       "      <td>1</td>\n",
       "      <td>2</td>\n",
       "      <td>3.0</td>\n",
       "    </tr>\n",
       "  </tbody>\n",
       "</table>\n",
       "</div>"
      ],
      "text/plain": [
       "   a  b    c\n",
       "1  1  1  NaN\n",
       "3  3  3  NaN\n",
       "2  2  2  1.0\n",
       "0  1  2  3.0"
      ]
     },
     "execution_count": 109,
     "metadata": {},
     "output_type": "execute_result"
    }
   ],
   "source": [
    "## Sorted by 'NAN' values\n",
    "\n",
    "pd.DataFrame({\"a\":[1,1,2,3],'b':[2,1,2,3],'c':[3,np.nan,1,np.nan]}).sort_values(by='c', na_position='first')"
   ]
  },
  {
   "cell_type": "code",
   "execution_count": 110,
   "id": "33c4eb66",
   "metadata": {},
   "outputs": [],
   "source": [
    "### Sorted by index\n",
    "## using \"sort_index\" we can sort the index of unsorted structure. "
   ]
  },
  {
   "cell_type": "code",
   "execution_count": 111,
   "id": "fa7dcb2a",
   "metadata": {},
   "outputs": [],
   "source": [
    "# Example :\n",
    "\n",
    "import pandas as pd\n",
    "import numpy as np\n",
    "\n",
    "# df be the dataframe\n",
    "df = pd.DataFrame(\n",
    "    {\n",
    "        \"one\": pd.Series(np.random.randn(3), index=[\"a\", \"b\", \"c\"]),\n",
    "        \"two\": pd.Series(np.random.randn(4), index=[\"a\", \"b\", \"c\", \"d\"]),\n",
    "        \"three\": pd.Series(np.random.randn(3), index=[\"b\", \"c\", \"d\"]),\n",
    "    }\n",
    ")\n",
    "\n",
    "# unsorted order\n",
    "unsorted_df = df.reindex(\n",
    "    index=[\"a\", \"d\", \"c\", \"b\"], columns=[\"three\", \"two\", \"one\"]\n",
    ")"
   ]
  },
  {
   "cell_type": "code",
   "execution_count": 112,
   "id": "4cf10ca4",
   "metadata": {},
   "outputs": [
    {
     "data": {
      "text/html": [
       "<div>\n",
       "<style scoped>\n",
       "    .dataframe tbody tr th:only-of-type {\n",
       "        vertical-align: middle;\n",
       "    }\n",
       "\n",
       "    .dataframe tbody tr th {\n",
       "        vertical-align: top;\n",
       "    }\n",
       "\n",
       "    .dataframe thead th {\n",
       "        text-align: right;\n",
       "    }\n",
       "</style>\n",
       "<table border=\"1\" class=\"dataframe\">\n",
       "  <thead>\n",
       "    <tr style=\"text-align: right;\">\n",
       "      <th></th>\n",
       "      <th>three</th>\n",
       "      <th>two</th>\n",
       "      <th>one</th>\n",
       "    </tr>\n",
       "  </thead>\n",
       "  <tbody>\n",
       "    <tr>\n",
       "      <th>a</th>\n",
       "      <td>NaN</td>\n",
       "      <td>0.663314</td>\n",
       "      <td>-0.177913</td>\n",
       "    </tr>\n",
       "    <tr>\n",
       "      <th>b</th>\n",
       "      <td>1.270997</td>\n",
       "      <td>0.851208</td>\n",
       "      <td>0.063846</td>\n",
       "    </tr>\n",
       "    <tr>\n",
       "      <th>c</th>\n",
       "      <td>0.836215</td>\n",
       "      <td>0.637680</td>\n",
       "      <td>0.371392</td>\n",
       "    </tr>\n",
       "    <tr>\n",
       "      <th>d</th>\n",
       "      <td>-0.146813</td>\n",
       "      <td>-2.237396</td>\n",
       "      <td>NaN</td>\n",
       "    </tr>\n",
       "  </tbody>\n",
       "</table>\n",
       "</div>"
      ],
      "text/plain": [
       "      three  \\\n",
       "a       NaN   \n",
       "b  1.270997   \n",
       "c  0.836215   \n",
       "d -0.146813   \n",
       "\n",
       "        two  \\\n",
       "a  0.663314   \n",
       "b  0.851208   \n",
       "c  0.637680   \n",
       "d -2.237396   \n",
       "\n",
       "        one  \n",
       "a -0.177913  \n",
       "b  0.063846  \n",
       "c  0.371392  \n",
       "d       NaN  "
      ]
     },
     "execution_count": 112,
     "metadata": {},
     "output_type": "execute_result"
    }
   ],
   "source": [
    "# sorting 'df' by rows\n",
    "unsorted_df.sort_index()"
   ]
  },
  {
   "cell_type": "code",
   "execution_count": 113,
   "id": "799cf0aa",
   "metadata": {},
   "outputs": [
    {
     "data": {
      "text/html": [
       "<div>\n",
       "<style scoped>\n",
       "    .dataframe tbody tr th:only-of-type {\n",
       "        vertical-align: middle;\n",
       "    }\n",
       "\n",
       "    .dataframe tbody tr th {\n",
       "        vertical-align: top;\n",
       "    }\n",
       "\n",
       "    .dataframe thead th {\n",
       "        text-align: right;\n",
       "    }\n",
       "</style>\n",
       "<table border=\"1\" class=\"dataframe\">\n",
       "  <thead>\n",
       "    <tr style=\"text-align: right;\">\n",
       "      <th></th>\n",
       "      <th>one</th>\n",
       "      <th>three</th>\n",
       "      <th>two</th>\n",
       "    </tr>\n",
       "  </thead>\n",
       "  <tbody>\n",
       "    <tr>\n",
       "      <th>a</th>\n",
       "      <td>-0.177913</td>\n",
       "      <td>NaN</td>\n",
       "      <td>0.663314</td>\n",
       "    </tr>\n",
       "    <tr>\n",
       "      <th>d</th>\n",
       "      <td>NaN</td>\n",
       "      <td>-0.146813</td>\n",
       "      <td>-2.237396</td>\n",
       "    </tr>\n",
       "    <tr>\n",
       "      <th>c</th>\n",
       "      <td>0.371392</td>\n",
       "      <td>0.836215</td>\n",
       "      <td>0.637680</td>\n",
       "    </tr>\n",
       "    <tr>\n",
       "      <th>b</th>\n",
       "      <td>0.063846</td>\n",
       "      <td>1.270997</td>\n",
       "      <td>0.851208</td>\n",
       "    </tr>\n",
       "  </tbody>\n",
       "</table>\n",
       "</div>"
      ],
      "text/plain": [
       "        one  \\\n",
       "a -0.177913   \n",
       "d       NaN   \n",
       "c  0.371392   \n",
       "b  0.063846   \n",
       "\n",
       "      three  \\\n",
       "a       NaN   \n",
       "d -0.146813   \n",
       "c  0.836215   \n",
       "b  1.270997   \n",
       "\n",
       "        two  \n",
       "a  0.663314  \n",
       "d -2.237396  \n",
       "c  0.637680  \n",
       "b  0.851208  "
      ]
     },
     "execution_count": 113,
     "metadata": {},
     "output_type": "execute_result"
    }
   ],
   "source": [
    "# sorting 'df' by column\n",
    "unsorted_df.sort_index(axis=1)"
   ]
  },
  {
   "cell_type": "code",
   "execution_count": 114,
   "id": "f7e61451",
   "metadata": {},
   "outputs": [
    {
     "data": {
      "text/html": [
       "<div>\n",
       "<style scoped>\n",
       "    .dataframe tbody tr th:only-of-type {\n",
       "        vertical-align: middle;\n",
       "    }\n",
       "\n",
       "    .dataframe tbody tr th {\n",
       "        vertical-align: top;\n",
       "    }\n",
       "\n",
       "    .dataframe thead th {\n",
       "        text-align: right;\n",
       "    }\n",
       "</style>\n",
       "<table border=\"1\" class=\"dataframe\">\n",
       "  <thead>\n",
       "    <tr style=\"text-align: right;\">\n",
       "      <th></th>\n",
       "      <th>three</th>\n",
       "      <th>two</th>\n",
       "      <th>one</th>\n",
       "    </tr>\n",
       "  </thead>\n",
       "  <tbody>\n",
       "    <tr>\n",
       "      <th>d</th>\n",
       "      <td>-0.146813</td>\n",
       "      <td>-2.237396</td>\n",
       "      <td>NaN</td>\n",
       "    </tr>\n",
       "    <tr>\n",
       "      <th>c</th>\n",
       "      <td>0.836215</td>\n",
       "      <td>0.637680</td>\n",
       "      <td>0.371392</td>\n",
       "    </tr>\n",
       "    <tr>\n",
       "      <th>b</th>\n",
       "      <td>1.270997</td>\n",
       "      <td>0.851208</td>\n",
       "      <td>0.063846</td>\n",
       "    </tr>\n",
       "    <tr>\n",
       "      <th>a</th>\n",
       "      <td>NaN</td>\n",
       "      <td>0.663314</td>\n",
       "      <td>-0.177913</td>\n",
       "    </tr>\n",
       "  </tbody>\n",
       "</table>\n",
       "</div>"
      ],
      "text/plain": [
       "      three  \\\n",
       "d -0.146813   \n",
       "c  0.836215   \n",
       "b  1.270997   \n",
       "a       NaN   \n",
       "\n",
       "        two  \\\n",
       "d -2.237396   \n",
       "c  0.637680   \n",
       "b  0.851208   \n",
       "a  0.663314   \n",
       "\n",
       "        one  \n",
       "d       NaN  \n",
       "c  0.371392  \n",
       "b  0.063846  \n",
       "a -0.177913  "
      ]
     },
     "execution_count": 114,
     "metadata": {},
     "output_type": "execute_result"
    }
   ],
   "source": [
    "# sorting 'df' by rows in desending order\n",
    "unsorted_df.sort_index(ascending=False)"
   ]
  },
  {
   "cell_type": "code",
   "execution_count": 115,
   "id": "b1a82f3b",
   "metadata": {},
   "outputs": [],
   "source": [
    "### Finding 'n' number of smallest or largest values from structure.\n",
    "\n",
    "# Example :\n",
    "\n",
    "import pandas as pd\n",
    "import numpy as np\n",
    "df = pd.DataFrame({\n",
    "    'a':np.random.randn(8),\n",
    "    'b':np.random.randn(8),\n",
    "})"
   ]
  },
  {
   "cell_type": "code",
   "execution_count": 116,
   "id": "5a8f95be",
   "metadata": {},
   "outputs": [
    {
     "data": {
      "text/html": [
       "<div>\n",
       "<style scoped>\n",
       "    .dataframe tbody tr th:only-of-type {\n",
       "        vertical-align: middle;\n",
       "    }\n",
       "\n",
       "    .dataframe tbody tr th {\n",
       "        vertical-align: top;\n",
       "    }\n",
       "\n",
       "    .dataframe thead th {\n",
       "        text-align: right;\n",
       "    }\n",
       "</style>\n",
       "<table border=\"1\" class=\"dataframe\">\n",
       "  <thead>\n",
       "    <tr style=\"text-align: right;\">\n",
       "      <th></th>\n",
       "      <th>a</th>\n",
       "      <th>b</th>\n",
       "    </tr>\n",
       "  </thead>\n",
       "  <tbody>\n",
       "    <tr>\n",
       "      <th>0</th>\n",
       "      <td>0.178884</td>\n",
       "      <td>0.040283</td>\n",
       "    </tr>\n",
       "    <tr>\n",
       "      <th>1</th>\n",
       "      <td>-1.200403</td>\n",
       "      <td>-1.470490</td>\n",
       "    </tr>\n",
       "    <tr>\n",
       "      <th>2</th>\n",
       "      <td>-0.884403</td>\n",
       "      <td>0.269638</td>\n",
       "    </tr>\n",
       "    <tr>\n",
       "      <th>3</th>\n",
       "      <td>-0.529820</td>\n",
       "      <td>-0.800989</td>\n",
       "    </tr>\n",
       "    <tr>\n",
       "      <th>4</th>\n",
       "      <td>0.743613</td>\n",
       "      <td>0.004361</td>\n",
       "    </tr>\n",
       "    <tr>\n",
       "      <th>5</th>\n",
       "      <td>1.760731</td>\n",
       "      <td>1.779927</td>\n",
       "    </tr>\n",
       "    <tr>\n",
       "      <th>6</th>\n",
       "      <td>0.900610</td>\n",
       "      <td>0.442161</td>\n",
       "    </tr>\n",
       "    <tr>\n",
       "      <th>7</th>\n",
       "      <td>0.405665</td>\n",
       "      <td>1.451484</td>\n",
       "    </tr>\n",
       "  </tbody>\n",
       "</table>\n",
       "</div>"
      ],
      "text/plain": [
       "          a  \\\n",
       "0  0.178884   \n",
       "1 -1.200403   \n",
       "2 -0.884403   \n",
       "3 -0.529820   \n",
       "4  0.743613   \n",
       "5  1.760731   \n",
       "6  0.900610   \n",
       "7  0.405665   \n",
       "\n",
       "          b  \n",
       "0  0.040283  \n",
       "1 -1.470490  \n",
       "2  0.269638  \n",
       "3 -0.800989  \n",
       "4  0.004361  \n",
       "5  1.779927  \n",
       "6  0.442161  \n",
       "7  1.451484  "
      ]
     },
     "execution_count": 116,
     "metadata": {},
     "output_type": "execute_result"
    }
   ],
   "source": [
    "df"
   ]
  },
  {
   "cell_type": "code",
   "execution_count": 117,
   "id": "914c6482",
   "metadata": {},
   "outputs": [
    {
     "data": {
      "text/html": [
       "<div>\n",
       "<style scoped>\n",
       "    .dataframe tbody tr th:only-of-type {\n",
       "        vertical-align: middle;\n",
       "    }\n",
       "\n",
       "    .dataframe tbody tr th {\n",
       "        vertical-align: top;\n",
       "    }\n",
       "\n",
       "    .dataframe thead th {\n",
       "        text-align: right;\n",
       "    }\n",
       "</style>\n",
       "<table border=\"1\" class=\"dataframe\">\n",
       "  <thead>\n",
       "    <tr style=\"text-align: right;\">\n",
       "      <th></th>\n",
       "      <th>a</th>\n",
       "      <th>b</th>\n",
       "    </tr>\n",
       "  </thead>\n",
       "  <tbody>\n",
       "    <tr>\n",
       "      <th>5</th>\n",
       "      <td>1.760731</td>\n",
       "      <td>1.779927</td>\n",
       "    </tr>\n",
       "    <tr>\n",
       "      <th>7</th>\n",
       "      <td>0.405665</td>\n",
       "      <td>1.451484</td>\n",
       "    </tr>\n",
       "    <tr>\n",
       "      <th>6</th>\n",
       "      <td>0.900610</td>\n",
       "      <td>0.442161</td>\n",
       "    </tr>\n",
       "  </tbody>\n",
       "</table>\n",
       "</div>"
      ],
      "text/plain": [
       "          a  \\\n",
       "5  1.760731   \n",
       "7  0.405665   \n",
       "6  0.900610   \n",
       "\n",
       "          b  \n",
       "5  1.779927  \n",
       "7  1.451484  \n",
       "6  0.442161  "
      ]
     },
     "execution_count": 117,
     "metadata": {},
     "output_type": "execute_result"
    }
   ],
   "source": [
    "# Printing 3 largest number from 'b' column in 'df'\n",
    "df.nlargest(3,'b')"
   ]
  },
  {
   "cell_type": "code",
   "execution_count": 118,
   "id": "ecb3ee6e",
   "metadata": {},
   "outputs": [
    {
     "data": {
      "text/html": [
       "<div>\n",
       "<style scoped>\n",
       "    .dataframe tbody tr th:only-of-type {\n",
       "        vertical-align: middle;\n",
       "    }\n",
       "\n",
       "    .dataframe tbody tr th {\n",
       "        vertical-align: top;\n",
       "    }\n",
       "\n",
       "    .dataframe thead th {\n",
       "        text-align: right;\n",
       "    }\n",
       "</style>\n",
       "<table border=\"1\" class=\"dataframe\">\n",
       "  <thead>\n",
       "    <tr style=\"text-align: right;\">\n",
       "      <th></th>\n",
       "      <th>a</th>\n",
       "      <th>b</th>\n",
       "    </tr>\n",
       "  </thead>\n",
       "  <tbody>\n",
       "    <tr>\n",
       "      <th>1</th>\n",
       "      <td>-1.200403</td>\n",
       "      <td>-1.470490</td>\n",
       "    </tr>\n",
       "    <tr>\n",
       "      <th>2</th>\n",
       "      <td>-0.884403</td>\n",
       "      <td>0.269638</td>\n",
       "    </tr>\n",
       "    <tr>\n",
       "      <th>3</th>\n",
       "      <td>-0.529820</td>\n",
       "      <td>-0.800989</td>\n",
       "    </tr>\n",
       "  </tbody>\n",
       "</table>\n",
       "</div>"
      ],
      "text/plain": [
       "          a  \\\n",
       "1 -1.200403   \n",
       "2 -0.884403   \n",
       "3 -0.529820   \n",
       "\n",
       "          b  \n",
       "1 -1.470490  \n",
       "2  0.269638  \n",
       "3 -0.800989  "
      ]
     },
     "execution_count": 118,
     "metadata": {},
     "output_type": "execute_result"
    }
   ],
   "source": [
    "# Printing 3 smallest number from 'a' column in 'df'\n",
    "df.nsmallest(3,'a')"
   ]
  },
  {
   "cell_type": "code",
   "execution_count": 119,
   "id": "5f9dfde8",
   "metadata": {},
   "outputs": [
    {
     "data": {
      "text/html": [
       "<div>\n",
       "<style scoped>\n",
       "    .dataframe tbody tr th:only-of-type {\n",
       "        vertical-align: middle;\n",
       "    }\n",
       "\n",
       "    .dataframe tbody tr th {\n",
       "        vertical-align: top;\n",
       "    }\n",
       "\n",
       "    .dataframe thead th {\n",
       "        text-align: right;\n",
       "    }\n",
       "</style>\n",
       "<table border=\"1\" class=\"dataframe\">\n",
       "  <thead>\n",
       "    <tr style=\"text-align: right;\">\n",
       "      <th></th>\n",
       "      <th>a</th>\n",
       "      <th>b</th>\n",
       "    </tr>\n",
       "  </thead>\n",
       "  <tbody>\n",
       "    <tr>\n",
       "      <th>5</th>\n",
       "      <td>1.760731</td>\n",
       "      <td>1.779927</td>\n",
       "    </tr>\n",
       "    <tr>\n",
       "      <th>6</th>\n",
       "      <td>0.900610</td>\n",
       "      <td>0.442161</td>\n",
       "    </tr>\n",
       "    <tr>\n",
       "      <th>4</th>\n",
       "      <td>0.743613</td>\n",
       "      <td>0.004361</td>\n",
       "    </tr>\n",
       "  </tbody>\n",
       "</table>\n",
       "</div>"
      ],
      "text/plain": [
       "          a  \\\n",
       "5  1.760731   \n",
       "6  0.900610   \n",
       "4  0.743613   \n",
       "\n",
       "          b  \n",
       "5  1.779927  \n",
       "6  0.442161  \n",
       "4  0.004361  "
      ]
     },
     "execution_count": 119,
     "metadata": {},
     "output_type": "execute_result"
    }
   ],
   "source": [
    "# Printing 3 largest number from 'a'and 'b' column in 'df'\n",
    "df.nlargest(3,['a','b'])"
   ]
  },
  {
   "cell_type": "code",
   "execution_count": null,
   "id": "ad2b3fe9",
   "metadata": {},
   "outputs": [],
   "source": []
  },
  {
   "cell_type": "code",
   "execution_count": null,
   "id": "35da65a1",
   "metadata": {},
   "outputs": [],
   "source": []
  },
  {
   "cell_type": "code",
   "execution_count": null,
   "id": "0862ea16",
   "metadata": {},
   "outputs": [],
   "source": []
  },
  {
   "cell_type": "code",
   "execution_count": null,
   "id": "3b8a64c4",
   "metadata": {},
   "outputs": [],
   "source": []
  },
  {
   "cell_type": "code",
   "execution_count": null,
   "id": "720cb75b",
   "metadata": {},
   "outputs": [],
   "source": []
  },
  {
   "cell_type": "code",
   "execution_count": null,
   "id": "3ef4cad5",
   "metadata": {},
   "outputs": [],
   "source": []
  },
  {
   "cell_type": "code",
   "execution_count": null,
   "id": "548feca4",
   "metadata": {},
   "outputs": [],
   "source": []
  },
  {
   "cell_type": "code",
   "execution_count": null,
   "id": "b8156c94",
   "metadata": {},
   "outputs": [],
   "source": []
  },
  {
   "cell_type": "code",
   "execution_count": null,
   "id": "5a0344e4",
   "metadata": {},
   "outputs": [],
   "source": []
  },
  {
   "cell_type": "code",
   "execution_count": null,
   "id": "3027011d",
   "metadata": {},
   "outputs": [],
   "source": []
  }
 ],
 "metadata": {
  "celltoolbar": "Raw Cell Format",
  "kernelspec": {
   "display_name": "Python 3 (ipykernel)",
   "language": "python",
   "name": "python3"
  },
  "language_info": {
   "codemirror_mode": {
    "name": "ipython",
    "version": 3
   },
   "file_extension": ".py",
   "mimetype": "text/x-python",
   "name": "python",
   "nbconvert_exporter": "python",
   "pygments_lexer": "ipython3",
   "version": "3.9.13"
  }
 },
 "nbformat": 4,
 "nbformat_minor": 5
}
