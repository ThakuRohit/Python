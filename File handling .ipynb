{
 "cells": [
  {
   "cell_type": "markdown",
   "id": "5e22403a",
   "metadata": {},
   "source": [
    "## File Handling"
   ]
  },
  {
   "cell_type": "markdown",
   "id": "673075c3",
   "metadata": {},
   "source": [
    "in python we can create, read, update, delete file"
   ]
  },
  {
   "cell_type": "markdown",
   "id": "6de23d53",
   "metadata": {},
   "source": [
    "# for file handling we use open() function"
   ]
  },
  {
   "cell_type": "code",
   "execution_count": 2,
   "id": "cfb8a8f4",
   "metadata": {},
   "outputs": [],
   "source": [
    "## open(filename, mode)\n",
    "\n",
    "# there are 4 methods"
   ]
  },
  {
   "cell_type": "markdown",
   "id": "c5d34ef7",
   "metadata": {},
   "source": [
    "1. \"r\" methods (It is use to read to file, throw error if file doesn't exist)"
   ]
  },
  {
   "cell_type": "markdown",
   "id": "4795886a",
   "metadata": {},
   "source": [
    "2. \"w\" methods (it is use to write data on the file, creates the file if it doesn't exist)"
   ]
  },
  {
   "cell_type": "markdown",
   "id": "359742ba",
   "metadata": {},
   "source": [
    "3. \"a\" methods (it is use to append data, creates the file if it doesn't exist)"
   ]
  },
  {
   "cell_type": "markdown",
   "id": "6c05993e",
   "metadata": {},
   "source": [
    "4. \"x\" methods(it creates the specific file, throw error if file already exist)"
   ]
  },
  {
   "cell_type": "markdown",
   "id": "ac9ea0d7",
   "metadata": {},
   "source": [
    "we can specify the file handling by binary or text mode\n",
    "\n",
    "\"t\" text mode ,\n",
    "\"b\" binary mode"
   ]
  },
  {
   "cell_type": "raw",
   "id": "c3095131",
   "metadata": {},
   "source": [
    "file = open(\"file_name\") or \n",
    "file = open(\"file_name\",\"rt\")\n",
    "#### \"r\" and \"t\" are the by default file value"
   ]
  },
  {
   "cell_type": "raw",
   "id": "88c7dea9",
   "metadata": {},
   "source": [
    "# to read \"n\" number of  character from the file \n",
    "file.read(n)"
   ]
  },
  {
   "cell_type": "raw",
   "id": "b662d9b6",
   "metadata": {},
   "source": [
    "# to read single line of file\n",
    "file.readline()"
   ]
  },
  {
   "cell_type": "raw",
   "id": "0025b129",
   "metadata": {},
   "source": [
    "# to add text at the end of the file\n",
    "\n",
    "## we can use \"a\"\n",
    "file_2 = open(file_name,\"a\")\n",
    "file_2.write(\"Adding text in the file\")\n",
    "\n",
    "## NOTE:\n",
    "if file do not exist, system create new file"
   ]
  },
  {
   "cell_type": "raw",
   "id": "f7f2557c",
   "metadata": {},
   "source": [
    "# If we use \"w\" file method, it will overwrite the complete text with new text\n",
    "\n",
    "file_3 = open(file_name,\"w\")\n",
    "file_3.write(\"Creating the new text in the file\")\n",
    "\n",
    "## NOTE:\n",
    "Already present text will be replace by new text"
   ]
  },
  {
   "cell_type": "markdown",
   "id": "6c4ca343",
   "metadata": {},
   "source": [
    "# to close the file file_name.close()"
   ]
  },
  {
   "cell_type": "raw",
   "id": "b92b43dc",
   "metadata": {},
   "source": [
    "file.close()"
   ]
  },
  {
   "cell_type": "raw",
   "id": "d8b5330b",
   "metadata": {},
   "source": [
    "## NOTE :\n",
    "While writing the file it is important to close the file before we want to read it."
   ]
  },
  {
   "cell_type": "markdown",
   "id": "c3a1b17b",
   "metadata": {},
   "source": [
    "# To delete the file from the system"
   ]
  },
  {
   "cell_type": "code",
   "execution_count": 8,
   "id": "32d5690f",
   "metadata": {},
   "outputs": [],
   "source": [
    "## import operating system into the environment and use .remove() function"
   ]
  },
  {
   "cell_type": "raw",
   "id": "cd67e4b1",
   "metadata": {},
   "source": [
    "import os\n",
    "os.remove(\"file_name\")"
   ]
  },
  {
   "cell_type": "code",
   "execution_count": 9,
   "id": "11a716dd",
   "metadata": {},
   "outputs": [],
   "source": [
    "## we can also remove folder from the environment by using .rmdir() function"
   ]
  },
  {
   "cell_type": "raw",
   "id": "4cd7f492",
   "metadata": {},
   "source": [
    "import os\n",
    "os.rmdir(\"folder_name\")"
   ]
  },
  {
   "cell_type": "code",
   "execution_count": null,
   "id": "64545ccb",
   "metadata": {},
   "outputs": [],
   "source": []
  }
 ],
 "metadata": {
  "kernelspec": {
   "display_name": "Python 3 (ipykernel)",
   "language": "python",
   "name": "python3"
  },
  "language_info": {
   "codemirror_mode": {
    "name": "ipython",
    "version": 3
   },
   "file_extension": ".py",
   "mimetype": "text/x-python",
   "name": "python",
   "nbconvert_exporter": "python",
   "pygments_lexer": "ipython3",
   "version": "3.9.13"
  }
 },
 "nbformat": 4,
 "nbformat_minor": 5
}
