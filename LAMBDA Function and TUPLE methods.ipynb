{
 "cells": [
  {
   "cell_type": "markdown",
   "id": "fc446f9b",
   "metadata": {},
   "source": [
    "## LAMBDA Function"
   ]
  },
  {
   "cell_type": "markdown",
   "id": "9843404c",
   "metadata": {},
   "source": [
    "A lambda function is a small anonymous function.\n",
    "\n",
    "A lambda function can take any number of arguments, but can only have one expression."
   ]
  },
  {
   "cell_type": "code",
   "execution_count": 1,
   "id": "c07a8763",
   "metadata": {},
   "outputs": [
    {
     "data": {
      "text/plain": [
       "8"
      ]
     },
     "execution_count": 1,
     "metadata": {},
     "output_type": "execute_result"
    }
   ],
   "source": [
    "x = lambda x, y : x**y\n",
    "x(2,3)"
   ]
  },
  {
   "cell_type": "code",
   "execution_count": 2,
   "id": "f87093c8",
   "metadata": {},
   "outputs": [
    {
     "data": {
      "text/plain": [
       "27"
      ]
     },
     "execution_count": 2,
     "metadata": {},
     "output_type": "execute_result"
    }
   ],
   "source": [
    "y = lambda x, y, z : x+y+z\n",
    "y(8,9,10)"
   ]
  },
  {
   "cell_type": "code",
   "execution_count": 7,
   "id": "4e5e7aad",
   "metadata": {},
   "outputs": [],
   "source": [
    "z = lambda x : x*2"
   ]
  },
  {
   "cell_type": "code",
   "execution_count": 8,
   "id": "ebbd4653",
   "metadata": {},
   "outputs": [
    {
     "data": {
      "text/plain": [
       "6"
      ]
     },
     "execution_count": 8,
     "metadata": {},
     "output_type": "execute_result"
    }
   ],
   "source": [
    "z(3)"
   ]
  },
  {
   "cell_type": "code",
   "execution_count": 11,
   "id": "092622d8",
   "metadata": {},
   "outputs": [],
   "source": [
    "p = lambda x,y : x*y + y*x"
   ]
  },
  {
   "cell_type": "code",
   "execution_count": 12,
   "id": "93a336e6",
   "metadata": {},
   "outputs": [
    {
     "data": {
      "text/plain": [
       "12"
      ]
     },
     "execution_count": 12,
     "metadata": {},
     "output_type": "execute_result"
    }
   ],
   "source": [
    "p(2,3)"
   ]
  },
  {
   "cell_type": "code",
   "execution_count": 14,
   "id": "4654bb64",
   "metadata": {},
   "outputs": [
    {
     "name": "stdout",
     "output_type": "stream",
     "text": [
      "16\n"
     ]
    }
   ],
   "source": [
    "def power(n):\n",
    "    return lambda a : a**n\n",
    "\n",
    "square = power(2)\n",
    "print(square(4))"
   ]
  },
  {
   "cell_type": "code",
   "execution_count": 20,
   "id": "1c7ac5e3",
   "metadata": {},
   "outputs": [
    {
     "name": "stdout",
     "output_type": "stream",
     "text": [
      "square of 4 :  16\n",
      "cube of 4 :  64\n"
     ]
    }
   ],
   "source": [
    "def power(n):\n",
    "    return lambda a : a**n\n",
    "\n",
    "square = power(2)\n",
    "cube = power(3)\n",
    "print('square of 4 : ', square(4))\n",
    "print('cube of 4 : ', cube(4))"
   ]
  },
  {
   "cell_type": "markdown",
   "id": "d9ba65c2",
   "metadata": {},
   "source": [
    "## Tuples Methods"
   ]
  },
  {
   "cell_type": "code",
   "execution_count": 64,
   "id": "44aac0d9",
   "metadata": {},
   "outputs": [
    {
     "data": {
      "text/plain": [
       "0"
      ]
     },
     "execution_count": 64,
     "metadata": {},
     "output_type": "execute_result"
    }
   ],
   "source": [
    "(1,2,3,4,1).index(1)"
   ]
  },
  {
   "cell_type": "code",
   "execution_count": 60,
   "id": "761dd780",
   "metadata": {},
   "outputs": [],
   "source": [
    "def indexs(set,value):\n",
    "    for i in range(len(set)):\n",
    "        if set[i] == value:\n",
    "            return i\n",
    "    return \"Value not in set\""
   ]
  },
  {
   "cell_type": "code",
   "execution_count": 62,
   "id": "a0a86f83",
   "metadata": {},
   "outputs": [
    {
     "data": {
      "text/plain": [
       "0"
      ]
     },
     "execution_count": 62,
     "metadata": {},
     "output_type": "execute_result"
    }
   ],
   "source": [
    "indexs((1,2,3,4,1),1)"
   ]
  },
  {
   "cell_type": "code",
   "execution_count": 67,
   "id": "a8b3281a",
   "metadata": {},
   "outputs": [
    {
     "data": {
      "text/plain": [
       "0"
      ]
     },
     "execution_count": 67,
     "metadata": {},
     "output_type": "execute_result"
    }
   ],
   "source": [
    "(1,2,3,4,5,1,7,9,1,10,1).count(11)"
   ]
  },
  {
   "cell_type": "code",
   "execution_count": 66,
   "id": "ebc51ef3",
   "metadata": {},
   "outputs": [],
   "source": [
    "def countse(set,value):\n",
    "    c = 0\n",
    "    for i in range(len(set)):\n",
    "        if set[i] == value:\n",
    "            c+=1\n",
    "    return c"
   ]
  },
  {
   "cell_type": "code",
   "execution_count": 69,
   "id": "60c6f3a3",
   "metadata": {},
   "outputs": [
    {
     "data": {
      "text/plain": [
       "0"
      ]
     },
     "execution_count": 69,
     "metadata": {},
     "output_type": "execute_result"
    }
   ],
   "source": [
    "countse((1,2,3,4,5,1,7,9,1,10,1),0)"
   ]
  },
  {
   "cell_type": "code",
   "execution_count": null,
   "id": "05aa6148",
   "metadata": {},
   "outputs": [],
   "source": []
  }
 ],
 "metadata": {
  "kernelspec": {
   "display_name": "Python 3 (ipykernel)",
   "language": "python",
   "name": "python3"
  },
  "language_info": {
   "codemirror_mode": {
    "name": "ipython",
    "version": 3
   },
   "file_extension": ".py",
   "mimetype": "text/x-python",
   "name": "python",
   "nbconvert_exporter": "python",
   "pygments_lexer": "ipython3",
   "version": "3.9.13"
  }
 },
 "nbformat": 4,
 "nbformat_minor": 5
}
