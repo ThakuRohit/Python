{
 "cells": [
  {
   "cell_type": "markdown",
   "id": "26d53669",
   "metadata": {},
   "source": [
    "## Errors are the problems in a program due to which the program will stop the execution. \n",
    "## On the other hand, exceptions are raised when some internal events occur which changes the normal flow of the program. "
   ]
  },
  {
   "cell_type": "markdown",
   "id": "9aabfcb1",
   "metadata": {},
   "source": [
    "#### Two types of Error occurs in python. \n",
    "#### Syntax errors : When the proper syntax of the language is not followed then a syntax error is thrown.\n",
    "#### Logical errors (Exceptions) : When in the runtime an error that occurs after passing the syntax test is called exception or logical type."
   ]
  },
  {
   "cell_type": "markdown",
   "id": "aba45443",
   "metadata": {},
   "source": [
    "## Errors can be handled using try | except | finally."
   ]
  },
  {
   "cell_type": "markdown",
   "id": "3c94f5a4",
   "metadata": {},
   "source": [
    "# 1. Try"
   ]
  },
  {
   "cell_type": "code",
   "execution_count": 1,
   "id": "ea0f68d5",
   "metadata": {},
   "outputs": [],
   "source": [
    "# When an error occurs, or exception as we call it, Python will normally stop and generate an error message.\n",
    "# These errors can be handled using \"try\"."
   ]
  },
  {
   "cell_type": "code",
   "execution_count": 2,
   "id": "b23a281f",
   "metadata": {},
   "outputs": [
    {
     "name": "stdout",
     "output_type": "stream",
     "text": [
      "Error\n"
     ]
    }
   ],
   "source": [
    "try:\n",
    "    print(x)\n",
    "except:\n",
    "    print(\"Error\")"
   ]
  },
  {
   "cell_type": "code",
   "execution_count": 2,
   "id": "5ed3adf7",
   "metadata": {},
   "outputs": [],
   "source": [
    "# Since the try block raises an error, the except block will be executed."
   ]
  },
  {
   "cell_type": "code",
   "execution_count": 3,
   "id": "00a68c51",
   "metadata": {},
   "outputs": [
    {
     "ename": "NameError",
     "evalue": "name 'x' is not defined",
     "output_type": "error",
     "traceback": [
      "\u001b[1;31m---------------------------------------------------------------------------\u001b[0m",
      "\u001b[1;31mNameError\u001b[0m                                 Traceback (most recent call last)",
      "\u001b[1;32m~\\AppData\\Local\\Temp\\ipykernel_4860\\1545836410.py\u001b[0m in \u001b[0;36m<module>\u001b[1;34m\u001b[0m\n\u001b[0;32m      1\u001b[0m \u001b[1;31m# Without the try block, the program will crash and raise an error:\u001b[0m\u001b[1;33m\u001b[0m\u001b[1;33m\u001b[0m\u001b[0m\n\u001b[0;32m      2\u001b[0m \u001b[1;33m\u001b[0m\u001b[0m\n\u001b[1;32m----> 3\u001b[1;33m \u001b[0mprint\u001b[0m\u001b[1;33m(\u001b[0m\u001b[0mx\u001b[0m\u001b[1;33m)\u001b[0m\u001b[1;33m\u001b[0m\u001b[1;33m\u001b[0m\u001b[0m\n\u001b[0m",
      "\u001b[1;31mNameError\u001b[0m: name 'x' is not defined"
     ]
    }
   ],
   "source": [
    "# Without the try block, the program will crash and raise an error:\n",
    "    \n",
    "print(x)  "
   ]
  },
  {
   "cell_type": "code",
   "execution_count": 18,
   "id": "f3887e0f",
   "metadata": {},
   "outputs": [],
   "source": [
    "# if there are multiple exceptions"
   ]
  },
  {
   "cell_type": "code",
   "execution_count": 17,
   "id": "a6cf418d",
   "metadata": {},
   "outputs": [
    {
     "name": "stdout",
     "output_type": "stream",
     "text": [
      "Something else went wrong\n"
     ]
    }
   ],
   "source": [
    "try:\n",
    "    print(2+None)\n",
    "except NameError:\n",
    "    print(\"Variable is not defined\")\n",
    "except:\n",
    "    print(\"Something else went wrong\")"
   ]
  },
  {
   "cell_type": "markdown",
   "id": "1dc24d81",
   "metadata": {},
   "source": [
    "# 2. else"
   ]
  },
  {
   "cell_type": "code",
   "execution_count": null,
   "id": "f3268970",
   "metadata": {},
   "outputs": [],
   "source": [
    "# You can use the else keyword to define a block of code to be executed if no errors were raised:"
   ]
  },
  {
   "cell_type": "code",
   "execution_count": 22,
   "id": "23e9d0c0",
   "metadata": {},
   "outputs": [
    {
     "name": "stdout",
     "output_type": "stream",
     "text": [
      "Hello\n",
      "Nothing went wrong\n"
     ]
    }
   ],
   "source": [
    "try:\n",
    "    print(\"Hello\")\n",
    "except:\n",
    "    print(\"Name Error\")\n",
    "else:\n",
    "    print(\"Nothing went wrong\")"
   ]
  },
  {
   "cell_type": "code",
   "execution_count": 20,
   "id": "0234e070",
   "metadata": {},
   "outputs": [],
   "source": [
    "#The try block does not raise any errors, so the else block is executed"
   ]
  },
  {
   "cell_type": "markdown",
   "id": "c545c31f",
   "metadata": {},
   "source": [
    "# 3. Finally"
   ]
  },
  {
   "cell_type": "code",
   "execution_count": 3,
   "id": "d8556bae",
   "metadata": {},
   "outputs": [],
   "source": [
    "# The finally block, will be executed regardless if the try block raises an error or not.\n",
    "# It executes atleast one time."
   ]
  },
  {
   "cell_type": "code",
   "execution_count": 21,
   "id": "51de7be5",
   "metadata": {},
   "outputs": [
    {
     "name": "stdout",
     "output_type": "stream",
     "text": [
      "Error\n",
      "The 'try except' is finished\n"
     ]
    }
   ],
   "source": [
    "try:\n",
    "    print(x)\n",
    "except:\n",
    "    print(\"Error\")\n",
    "finally:\n",
    "    print(\"The 'try except' is finished\")"
   ]
  },
  {
   "cell_type": "code",
   "execution_count": 26,
   "id": "19cdefb4",
   "metadata": {},
   "outputs": [
    {
     "name": "stdout",
     "output_type": "stream",
     "text": [
      "Error in reading the file\n",
      "Something went wrong\n"
     ]
    }
   ],
   "source": [
    "import pandas as pd\n",
    "\n",
    "try:\n",
    "    try:\n",
    "        df = pd.read_csv(\"file.csv\")\n",
    "    except:\n",
    "        print(\"Error in reading the file\")\n",
    "    finally:\n",
    "        df.close()\n",
    "except:\n",
    "    print(\"Something went wrong\")"
   ]
  },
  {
   "cell_type": "code",
   "execution_count": 4,
   "id": "8c316b48",
   "metadata": {},
   "outputs": [],
   "source": [
    "# The program can continue, without leaving the file object open."
   ]
  },
  {
   "cell_type": "markdown",
   "id": "a6f79376",
   "metadata": {},
   "source": [
    "# 4. Raise an exception"
   ]
  },
  {
   "cell_type": "code",
   "execution_count": 5,
   "id": "1f4b7de5",
   "metadata": {},
   "outputs": [],
   "source": [
    "# As a Python developer we can choose to throw an exception if a condition occurs.\n",
    "# To throw (or raise) an exception, use the raise keyword."
   ]
  },
  {
   "cell_type": "code",
   "execution_count": 29,
   "id": "4664a754",
   "metadata": {},
   "outputs": [
    {
     "ename": "Exception",
     "evalue": "Sorry, no numbers below zero",
     "output_type": "error",
     "traceback": [
      "\u001b[1;31m---------------------------------------------------------------------------\u001b[0m",
      "\u001b[1;31mException\u001b[0m                                 Traceback (most recent call last)",
      "\u001b[1;32m~\\AppData\\Local\\Temp\\ipykernel_4860\\1619019459.py\u001b[0m in \u001b[0;36m<module>\u001b[1;34m\u001b[0m\n\u001b[0;32m      2\u001b[0m \u001b[1;33m\u001b[0m\u001b[0m\n\u001b[0;32m      3\u001b[0m \u001b[1;32mif\u001b[0m \u001b[0mx\u001b[0m \u001b[1;33m<\u001b[0m \u001b[1;36m0\u001b[0m\u001b[1;33m:\u001b[0m\u001b[1;33m\u001b[0m\u001b[1;33m\u001b[0m\u001b[0m\n\u001b[1;32m----> 4\u001b[1;33m     \u001b[1;32mraise\u001b[0m \u001b[0mException\u001b[0m\u001b[1;33m(\u001b[0m\u001b[1;34m\"Sorry, no numbers below zero\"\u001b[0m\u001b[1;33m)\u001b[0m\u001b[1;33m\u001b[0m\u001b[1;33m\u001b[0m\u001b[0m\n\u001b[0m",
      "\u001b[1;31mException\u001b[0m: Sorry, no numbers below zero"
     ]
    }
   ],
   "source": [
    "x = -1\n",
    "\n",
    "if x < 0:\n",
    "    raise Exception(\"Sorry, no numbers below zero\")"
   ]
  },
  {
   "cell_type": "markdown",
   "id": "b491a8af",
   "metadata": {},
   "source": [
    "#### Note:\n",
    "    The raise keyword is used to raise an exception.\n",
    "    We can define what kind of error to raise, and the text to print to the user."
   ]
  },
  {
   "cell_type": "code",
   "execution_count": 35,
   "id": "a2aca7cc",
   "metadata": {},
   "outputs": [
    {
     "ename": "TypeError",
     "evalue": "Only character are allowed",
     "output_type": "error",
     "traceback": [
      "\u001b[1;31m---------------------------------------------------------------------------\u001b[0m",
      "\u001b[1;31mTypeError\u001b[0m                                 Traceback (most recent call last)",
      "\u001b[1;32m~\\AppData\\Local\\Temp\\ipykernel_4860\\1777207923.py\u001b[0m in \u001b[0;36m<module>\u001b[1;34m\u001b[0m\n\u001b[0;32m      2\u001b[0m \u001b[1;33m\u001b[0m\u001b[0m\n\u001b[0;32m      3\u001b[0m \u001b[1;32mif\u001b[0m \u001b[1;32mnot\u001b[0m \u001b[0mtype\u001b[0m\u001b[1;33m(\u001b[0m\u001b[0mx\u001b[0m\u001b[1;33m)\u001b[0m \u001b[1;32mis\u001b[0m \u001b[0mstr\u001b[0m\u001b[1;33m:\u001b[0m\u001b[1;33m\u001b[0m\u001b[1;33m\u001b[0m\u001b[0m\n\u001b[1;32m----> 4\u001b[1;33m     \u001b[1;32mraise\u001b[0m \u001b[0mTypeError\u001b[0m\u001b[1;33m(\u001b[0m\u001b[1;34m\"Only character are allowed\"\u001b[0m\u001b[1;33m)\u001b[0m\u001b[1;33m\u001b[0m\u001b[1;33m\u001b[0m\u001b[0m\n\u001b[0m",
      "\u001b[1;31mTypeError\u001b[0m: Only character are allowed"
     ]
    }
   ],
   "source": [
    "x = 4\n",
    "\n",
    "if not type(x) is str:\n",
    "    raise TypeError(\"Only character are allowed\")"
   ]
  }
 ],
 "metadata": {
  "kernelspec": {
   "display_name": "Python 3 (ipykernel)",
   "language": "python",
   "name": "python3"
  },
  "language_info": {
   "codemirror_mode": {
    "name": "ipython",
    "version": 3
   },
   "file_extension": ".py",
   "mimetype": "text/x-python",
   "name": "python",
   "nbconvert_exporter": "python",
   "pygments_lexer": "ipython3",
   "version": "3.9.13"
  }
 },
 "nbformat": 4,
 "nbformat_minor": 5
}
