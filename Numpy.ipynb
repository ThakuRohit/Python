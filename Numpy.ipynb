{
 "cells": [
  {
   "cell_type": "markdown",
   "id": "2cf9061d",
   "metadata": {},
   "source": [
    "# NUMPY"
   ]
  },
  {
   "cell_type": "markdown",
   "id": "00dfe514",
   "metadata": {},
   "source": [
    "numpy is the array module in python."
   ]
  },
  {
   "cell_type": "code",
   "execution_count": 1,
   "id": "aba5955b",
   "metadata": {},
   "outputs": [
    {
     "data": {
      "text/plain": [
       "'1.24.4'"
      ]
     },
     "execution_count": 1,
     "metadata": {},
     "output_type": "execute_result"
    }
   ],
   "source": [
    "## Importing numpy library in notebook.\n",
    "import numpy as np\n",
    "\n",
    "## Checking version\n",
    "np.__version__"
   ]
  },
  {
   "cell_type": "code",
   "execution_count": 3,
   "id": "a98d86b2",
   "metadata": {},
   "outputs": [
    {
     "name": "stdout",
     "output_type": "stream",
     "text": [
      "Requirement already satisfied: pip in c:\\users\\dell\\anaconda3\\lib\\site-packages (22.2.2)\n",
      "Collecting pip\n",
      "  Downloading pip-24.0-py3-none-any.whl (2.1 MB)\n",
      "     ---------------------------------------- 2.1/2.1 MB 242.6 kB/s eta 0:00:00\n",
      "Installing collected packages: pip\n",
      "  Attempting uninstall: pip\n",
      "    Found existing installation: pip 22.2.2\n",
      "    Uninstalling pip-22.2.2:\n",
      "      Successfully uninstalled pip-22.2.2\n",
      "Successfully installed pip-24.0\n",
      "Note: you may need to restart the kernel to use updated packages.\n"
     ]
    }
   ],
   "source": [
    "## Installing updated version of pip \n",
    "pip install --upgrade pip"
   ]
  },
  {
   "cell_type": "code",
   "execution_count": 4,
   "id": "fc929c87",
   "metadata": {},
   "outputs": [
    {
     "name": "stdout",
     "output_type": "stream",
     "text": [
      "Collecting numpy\n",
      "  Using cached numpy-1.26.4-cp39-cp39-win_amd64.whl.metadata (61 kB)\n",
      "Using cached numpy-1.26.4-cp39-cp39-win_amd64.whl (15.8 MB)\n",
      "Installing collected packages: numpy\n",
      "Successfully installed numpy-1.26.4\n"
     ]
    },
    {
     "name": "stderr",
     "output_type": "stream",
     "text": [
      "  WARNING: The script f2py.exe is installed in 'C:\\Users\\DELL\\AppData\\Roaming\\Python\\Python39\\Scripts' which is not on PATH.\n",
      "  Consider adding this directory to PATH or, if you prefer to suppress this warning, use --no-warn-script-location.\n",
      "ERROR: pip's dependency resolver does not currently take into account all the packages that are installed. This behaviour is the source of the following dependency conflicts.\n",
      "daal4py 2021.6.0 requires daal==2021.4.0, which is not installed.\n",
      "numba 0.55.1 requires numpy<1.22,>=1.18, but you have numpy 1.26.4 which is incompatible.\n",
      "scipy 1.9.1 requires numpy<1.25.0,>=1.18.5, but you have numpy 1.26.4 which is incompatible.\n"
     ]
    }
   ],
   "source": [
    "## Installing latest numpy version and removing old version\n",
    "\n",
    "!pip install numpy --upgrade --ignore-installed --user"
   ]
  },
  {
   "cell_type": "code",
   "execution_count": 1,
   "id": "e87e9286",
   "metadata": {},
   "outputs": [
    {
     "data": {
      "text/plain": [
       "'1.26.4'"
      ]
     },
     "execution_count": 1,
     "metadata": {},
     "output_type": "execute_result"
    }
   ],
   "source": [
    "import numpy as np\n",
    "np.__version__"
   ]
  },
  {
   "cell_type": "code",
   "execution_count": 3,
   "id": "0d6ffecb",
   "metadata": {},
   "outputs": [
    {
     "name": "stdout",
     "output_type": "stream",
     "text": [
      "<class 'numpy.ndarray'>\n",
      "[1 2 3]\n"
     ]
    }
   ],
   "source": [
    "arr = np.array([1,2,3])\n",
    "print(type(arr))\n",
    "print(arr)"
   ]
  },
  {
   "cell_type": "code",
   "execution_count": 8,
   "id": "defef7e6",
   "metadata": {},
   "outputs": [
    {
     "name": "stdout",
     "output_type": "stream",
     "text": [
      "[[1 2]\n",
      " [3 4]]\n"
     ]
    }
   ],
   "source": [
    "array_2d = np.array([[1,2],[3,4]])\n",
    "print(array_2d)"
   ]
  },
  {
   "cell_type": "code",
   "execution_count": 10,
   "id": "d8f4736b",
   "metadata": {},
   "outputs": [
    {
     "name": "stdout",
     "output_type": "stream",
     "text": [
      "[[[1 2]\n",
      "  [3 4]]\n",
      "\n",
      " [[5 6]\n",
      "  [7 8]]]\n"
     ]
    }
   ],
   "source": [
    "array_3d = np.array([[[1,2],[3,4]],[[5,6],[7,8]]])\n",
    "print(array_3d)"
   ]
  },
  {
   "cell_type": "code",
   "execution_count": 12,
   "id": "ca579609",
   "metadata": {},
   "outputs": [
    {
     "name": "stdout",
     "output_type": "stream",
     "text": [
      "1\n",
      "2\n",
      "3\n"
     ]
    }
   ],
   "source": [
    "# To check number of dimm. use \"ndim\"\n",
    "print(arr.ndim)\n",
    "print(array_2d.ndim)\n",
    "print(array_3d.ndim)"
   ]
  },
  {
   "cell_type": "code",
   "execution_count": 15,
   "id": "8103c7c2",
   "metadata": {},
   "outputs": [
    {
     "name": "stdout",
     "output_type": "stream",
     "text": [
      "[[[[[1 2 3 4 5]]]]]\n"
     ]
    }
   ],
   "source": [
    "# We can set the dim. of array using \"ndmin\"\n",
    "\n",
    "array_dim = np.array([1,2,3,4,5], ndmin=5)\n",
    "print(array_dim)"
   ]
  },
  {
   "cell_type": "code",
   "execution_count": 18,
   "id": "a2bfd8e2",
   "metadata": {},
   "outputs": [
    {
     "data": {
      "text/plain": [
       "1"
      ]
     },
     "execution_count": 18,
     "metadata": {},
     "output_type": "execute_result"
    }
   ],
   "source": [
    "# numpy array supports indexing (indexing starts from 0)\n",
    "\n",
    "array_index = np.array([8,2,3,1,0])\n",
    "array_index[3]"
   ]
  },
  {
   "cell_type": "code",
   "execution_count": 20,
   "id": "71758618",
   "metadata": {},
   "outputs": [
    {
     "name": "stdout",
     "output_type": "stream",
     "text": [
      "6\n",
      "0\n"
     ]
    }
   ],
   "source": [
    "#To access the element from 2-D array (we can use comma separated interges)\n",
    "\n",
    "arr_2d_index = np.array([[4,5,6],[1,0,3]])\n",
    "print(arr_2d_index[0,2])\n",
    "print(arr_2d_index[1,1])"
   ]
  },
  {
   "cell_type": "code",
   "execution_count": 27,
   "id": "b767a42e",
   "metadata": {},
   "outputs": [
    {
     "name": "stdout",
     "output_type": "stream",
     "text": [
      "5\n",
      "8\n"
     ]
    }
   ],
   "source": [
    "arr_3d_index = np.array([[[1,2,3],[4,5,6]],[[3,6,8],[7,4,3]]])\n",
    "print(arr_3d_index[0,1,1])\n",
    "\n",
    "# we can use negative indexing also (-1 defines last element)\n",
    "print(arr_3d_index[-1,0,-1])"
   ]
  },
  {
   "cell_type": "markdown",
   "id": "b785bcb7",
   "metadata": {},
   "source": [
    "# Slicing the array"
   ]
  },
  {
   "cell_type": "code",
   "execution_count": 28,
   "id": "899c9fb4",
   "metadata": {},
   "outputs": [
    {
     "data": {
      "text/plain": [
       "array([1, 2, 3])"
      ]
     },
     "execution_count": 28,
     "metadata": {},
     "output_type": "execute_result"
    }
   ],
   "source": [
    "arr_sli = np.array([1,2,3,4,5,6])\n",
    "arr_sli[:3]"
   ]
  },
  {
   "cell_type": "code",
   "execution_count": 30,
   "id": "8d57619d",
   "metadata": {},
   "outputs": [
    {
     "data": {
      "text/plain": [
       "array([2, 3, 4, 5, 6])"
      ]
     },
     "execution_count": 30,
     "metadata": {},
     "output_type": "execute_result"
    }
   ],
   "source": [
    "arr_sli[-5:]"
   ]
  },
  {
   "cell_type": "code",
   "execution_count": 33,
   "id": "2fe54f43",
   "metadata": {},
   "outputs": [
    {
     "data": {
      "text/plain": [
       "array([1, 2, 3])"
      ]
     },
     "execution_count": 33,
     "metadata": {},
     "output_type": "execute_result"
    }
   ],
   "source": [
    "arr_2d_sli = np.array([[1,2,3],[4,5,6]])\n",
    "arr_2d_sli[0, :3]"
   ]
  },
  {
   "cell_type": "code",
   "execution_count": 34,
   "id": "da8302f8",
   "metadata": {},
   "outputs": [
    {
     "data": {
      "text/plain": [
       "array([3, 6])"
      ]
     },
     "execution_count": 34,
     "metadata": {},
     "output_type": "execute_result"
    }
   ],
   "source": [
    "arr_2d_sli[:2, 2]"
   ]
  },
  {
   "cell_type": "code",
   "execution_count": 35,
   "id": "4dc5918e",
   "metadata": {},
   "outputs": [
    {
     "data": {
      "text/plain": [
       "array([[1, 2],\n",
       "       [4, 5]])"
      ]
     },
     "execution_count": 35,
     "metadata": {},
     "output_type": "execute_result"
    }
   ],
   "source": [
    "arr_2d_sli[:2, :2]"
   ]
  },
  {
   "cell_type": "code",
   "execution_count": null,
   "id": "aa4ff505",
   "metadata": {},
   "outputs": [],
   "source": []
  },
  {
   "attachments": {
    "Screenshot%20%28322%29.png": {
     "image/png": "[encoded data removed]"
    }
   },
   "cell_type": "markdown",
   "id": "64ead9d8",
   "metadata": {},
   "source": [
    "![Screenshot%20%28322%29.png](attachment:Screenshot%20%28322%29.png)"
   ]
  },
  {
   "cell_type": "markdown",
   "id": "d734cc97",
   "metadata": {},
   "source": [
    "The NumPy array object has a property called dtype that returns the data type of the array"
   ]
  },
  {
   "cell_type": "code",
   "execution_count": 36,
   "id": "12f12e74",
   "metadata": {},
   "outputs": [
    {
     "data": {
      "text/plain": [
       "dtype('int32')"
      ]
     },
     "execution_count": 36,
     "metadata": {},
     "output_type": "execute_result"
    }
   ],
   "source": [
    "arr_1 = np.array([12,3])\n",
    "arr_1.dtype"
   ]
  },
  {
   "cell_type": "code",
   "execution_count": 38,
   "id": "293f686d",
   "metadata": {},
   "outputs": [
    {
     "data": {
      "text/plain": [
       "dtype('<U2')"
      ]
     },
     "execution_count": 38,
     "metadata": {},
     "output_type": "execute_result"
    }
   ],
   "source": [
    "arr_2 = np.array([\"a\", \"bd\", \"c\"])\n",
    "arr_2.dtype"
   ]
  },
  {
   "cell_type": "markdown",
   "id": "6310fd48",
   "metadata": {},
   "source": [
    "Note: In string it also show the max length of string array contains."
   ]
  },
  {
   "cell_type": "code",
   "execution_count": 41,
   "id": "4f774706",
   "metadata": {},
   "outputs": [
    {
     "name": "stdout",
     "output_type": "stream",
     "text": [
      "|S1\n",
      "[b'1' b'2' b'3' b'4']\n"
     ]
    }
   ],
   "source": [
    "arr_3 = np.array([1, 2, 3, 4], dtype='S')\n",
    "print(arr_3.dtype)\n",
    "print(arr_3)"
   ]
  },
  {
   "cell_type": "code",
   "execution_count": 42,
   "id": "98496aad",
   "metadata": {},
   "outputs": [
    {
     "name": "stdout",
     "output_type": "stream",
     "text": [
      "[1 2 3 4]\n",
      "int32\n"
     ]
    }
   ],
   "source": [
    "arr_4 = np.array([1, 2, 3, 4], dtype='i4')\n",
    "print(arr_4)\n",
    "print(arr_4.dtype)"
   ]
  },
  {
   "cell_type": "markdown",
   "id": "fe3ca076",
   "metadata": {},
   "source": [
    "Note : For i, u, f, S and U we can define size as well."
   ]
  },
  {
   "cell_type": "code",
   "execution_count": 44,
   "id": "e57208ee",
   "metadata": {},
   "outputs": [
    {
     "ename": "ValueError",
     "evalue": "invalid literal for int() with base 10: 'a'",
     "output_type": "error",
     "traceback": [
      "\u001b[1;31m---------------------------------------------------------------------------\u001b[0m",
      "\u001b[1;31mValueError\u001b[0m                                Traceback (most recent call last)",
      "\u001b[1;32m~\\AppData\\Local\\Temp\\ipykernel_660\\3515259085.py\u001b[0m in \u001b[0;36m<module>\u001b[1;34m\u001b[0m\n\u001b[0;32m      2\u001b[0m \u001b[1;33m\u001b[0m\u001b[0m\n\u001b[0;32m      3\u001b[0m \u001b[1;32mimport\u001b[0m \u001b[0mnumpy\u001b[0m \u001b[1;32mas\u001b[0m \u001b[0mnp\u001b[0m\u001b[1;33m\u001b[0m\u001b[1;33m\u001b[0m\u001b[0m\n\u001b[1;32m----> 4\u001b[1;33m \u001b[0marr\u001b[0m \u001b[1;33m=\u001b[0m \u001b[0mnp\u001b[0m\u001b[1;33m.\u001b[0m\u001b[0marray\u001b[0m\u001b[1;33m(\u001b[0m\u001b[1;33m[\u001b[0m\u001b[1;34m'a'\u001b[0m\u001b[1;33m,\u001b[0m \u001b[1;34m'2'\u001b[0m\u001b[1;33m,\u001b[0m \u001b[1;34m'3'\u001b[0m\u001b[1;33m]\u001b[0m\u001b[1;33m,\u001b[0m \u001b[0mdtype\u001b[0m\u001b[1;33m=\u001b[0m\u001b[1;34m'i'\u001b[0m\u001b[1;33m)\u001b[0m\u001b[1;33m\u001b[0m\u001b[1;33m\u001b[0m\u001b[0m\n\u001b[0m",
      "\u001b[1;31mValueError\u001b[0m: invalid literal for int() with base 10: 'a'"
     ]
    }
   ],
   "source": [
    "## If a type is given in which elements can't be casted then NumPy will raise a ValueError.\n",
    "\n",
    "import numpy as np\n",
    "arr_5 = np.array(['a', '2', '3'], dtype='i')"
   ]
  },
  {
   "cell_type": "markdown",
   "id": "67fcbbdb",
   "metadata": {},
   "source": [
    "# ASTYPE()"
   ]
  },
  {
   "cell_type": "markdown",
   "id": "6d98c646",
   "metadata": {},
   "source": [
    "to change the data type of an existing array, is to make a copy of the array with the astype() method"
   ]
  },
  {
   "cell_type": "markdown",
   "id": "a8f6a155",
   "metadata": {},
   "source": [
    "The astype() function creates a copy of the array, and allows you to specify the data type as a parameter."
   ]
  },
  {
   "cell_type": "code",
   "execution_count": 45,
   "id": "6ae947c3",
   "metadata": {},
   "outputs": [
    {
     "name": "stdout",
     "output_type": "stream",
     "text": [
      "[1 2 3]\n",
      "int32\n"
     ]
    }
   ],
   "source": [
    "arr_6 = np.array([1.1, 2.1, 3.1])\n",
    "newarr = arr_6.astype('i')\n",
    "print(newarr)\n",
    "print(newarr.dtype)"
   ]
  },
  {
   "cell_type": "code",
   "execution_count": 46,
   "id": "dcfe18dc",
   "metadata": {},
   "outputs": [
    {
     "name": "stdout",
     "output_type": "stream",
     "text": [
      "[ True  True  True  True]\n"
     ]
    }
   ],
   "source": [
    "arr_7 = np.array([1,2,3,4])\n",
    "new_Arr = arr_7.astype(bool)\n",
    "print(new_Arr)"
   ]
  },
  {
   "cell_type": "markdown",
   "id": "a920d7d8",
   "metadata": {},
   "source": [
    "# SHAPE OF ARRAY"
   ]
  },
  {
   "cell_type": "markdown",
   "id": "f2b57ab6",
   "metadata": {},
   "source": [
    "The shape of an array is the number of elements in each dimension."
   ]
  },
  {
   "cell_type": "code",
   "execution_count": 6,
   "id": "2737170d",
   "metadata": {},
   "outputs": [
    {
     "data": {
      "text/plain": [
       "(2, 3)"
      ]
     },
     "execution_count": 6,
     "metadata": {},
     "output_type": "execute_result"
    }
   ],
   "source": [
    "arr_8 = np.array([[1,2,3],[5,6,7]])\n",
    "arr_8.shape"
   ]
  },
  {
   "cell_type": "markdown",
   "id": "c62d182d",
   "metadata": {},
   "source": [
    "There are 2 element (2, 3) implies that it is 2-D array, one dimention has 2 element ([], []) and one dimension has 3 element ([1, 2, 3])"
   ]
  },
  {
   "cell_type": "code",
   "execution_count": 9,
   "id": "5afc682e",
   "metadata": {},
   "outputs": [
    {
     "name": "stdout",
     "output_type": "stream",
     "text": [
      "[[[0. 0. 0. 0.]\n",
      "  [0. 0. 0. 0.]\n",
      "  [0. 0. 0. 0.]]\n",
      "\n",
      " [[0. 0. 0. 0.]\n",
      "  [0. 0. 0. 0.]\n",
      "  [0. 0. 0. 0.]]]\n",
      "(2, 3, 4)\n"
     ]
    }
   ],
   "source": [
    "shape = (2, 3, 4)\n",
    "arr_9 = np.zeros(shape)\n",
    "print(arr_9)\n",
    "print(arr_9.shape)"
   ]
  },
  {
   "cell_type": "markdown",
   "id": "eec7aefb",
   "metadata": {},
   "source": [
    "## COPY AND VIEW of array "
   ]
  },
  {
   "cell_type": "markdown",
   "id": "db20c536",
   "metadata": {},
   "source": [
    "copy and a view of an array is that the copy is a new array, and the view is just a view of the original array."
   ]
  },
  {
   "cell_type": "markdown",
   "id": "c97f2e2e",
   "metadata": {},
   "source": [
    "The copy owns the data and any changes made to the copy will not affect original array, and any changes made to the original array will not affect the copy.\n",
    "\n",
    "The view does not own the data and any changes made to the view will affect the original array, and any changes made to the original array will affect the view."
   ]
  },
  {
   "cell_type": "code",
   "execution_count": 11,
   "id": "81c807a9",
   "metadata": {},
   "outputs": [],
   "source": [
    "arr = np.array([5,4,6,7])\n",
    "arr_10 = arr.copy()\n",
    "arr_11 = arr.view()"
   ]
  },
  {
   "cell_type": "code",
   "execution_count": 9,
   "id": "bbb744f1",
   "metadata": {},
   "outputs": [
    {
     "name": "stdout",
     "output_type": "stream",
     "text": [
      "[10  4  6  7]\n",
      "[5 4 6 7]\n"
     ]
    }
   ],
   "source": [
    "arr_10[0] = 10\n",
    "print(arr_10)\n",
    "print(arr)"
   ]
  },
  {
   "cell_type": "code",
   "execution_count": 12,
   "id": "cc49c024",
   "metadata": {},
   "outputs": [
    {
     "name": "stdout",
     "output_type": "stream",
     "text": [
      "[5 1 6 7]\n",
      "[5 1 6 7]\n"
     ]
    }
   ],
   "source": [
    "arr_11[1] = 1\n",
    "print(arr_11)\n",
    "print(arr)"
   ]
  },
  {
   "cell_type": "markdown",
   "id": "4ade7ae2",
   "metadata": {},
   "source": [
    "## RESHAPING THE DIMENSIONS OF ARRAY"
   ]
  },
  {
   "cell_type": "code",
   "execution_count": 16,
   "id": "0b915c66",
   "metadata": {},
   "outputs": [
    {
     "name": "stdout",
     "output_type": "stream",
     "text": [
      "[[ 1  2  3]\n",
      " [ 4  5  6]\n",
      " [ 7  8  9]\n",
      " [10 11 12]]\n"
     ]
    }
   ],
   "source": [
    "## CONVERTING 1-D TO 2-D\n",
    "\n",
    "arr = np.array([1,2,3,4,5,6,7,8,9,10,11,12])\n",
    "arr_11 = arr.reshape(4,3)\n",
    "print(arr_11)"
   ]
  },
  {
   "cell_type": "code",
   "execution_count": 23,
   "id": "52b388ca",
   "metadata": {},
   "outputs": [
    {
     "name": "stdout",
     "output_type": "stream",
     "text": [
      "[[[ 1  2]\n",
      "  [ 3  4]\n",
      "  [ 5  6]]\n",
      "\n",
      " [[ 7  8]\n",
      "  [ 9 10]\n",
      "  [11 12]]]\n"
     ]
    }
   ],
   "source": [
    "## CONVERTING 1-D TO 3-D\n",
    "\n",
    "arr = np.array([1,2,3,4,5,6,7,8,9,10,11,12])\n",
    "arr_12 = arr.reshape(2,3,2)\n",
    "print(arr_12)"
   ]
  },
  {
   "cell_type": "markdown",
   "id": "5e6a2731",
   "metadata": {},
   "source": [
    "NOTE: We can reshape in any dimensions only if elements for reshaping should be equal in both sides"
   ]
  },
  {
   "cell_type": "code",
   "execution_count": 26,
   "id": "b811952f",
   "metadata": {},
   "outputs": [],
   "source": [
    "# We are allowed to have one \"unknown\" dimension.\n",
    "# Meaning that we do not have to specify an exact number for one of the dimensions in the reshape method.\n",
    "# Pass -1 as the value, and NumPy will calculate this number for us."
   ]
  },
  {
   "cell_type": "code",
   "execution_count": 28,
   "id": "a4640165",
   "metadata": {},
   "outputs": [
    {
     "name": "stdout",
     "output_type": "stream",
     "text": [
      "[[[1 2]\n",
      "  [3 4]]\n",
      "\n",
      " [[5 6]\n",
      "  [7 8]]]\n"
     ]
    }
   ],
   "source": [
    "# unknown dimension\n",
    "\n",
    "arr = np.array([1,2,3,4,5,6,7,8])\n",
    "arr_13 = arr.reshape(2,-1,2)\n",
    "print(arr_13)"
   ]
  },
  {
   "cell_type": "markdown",
   "id": "e3caa2b2",
   "metadata": {},
   "source": [
    "NOTE: We can not pass -1 to more than one dimension."
   ]
  },
  {
   "cell_type": "markdown",
   "id": "b87e24b5",
   "metadata": {},
   "source": [
    "## CONVERTING THE MULTI-DIMENSIONAL TO 1-D "
   ]
  },
  {
   "cell_type": "code",
   "execution_count": 31,
   "id": "3fee1efe",
   "metadata": {},
   "outputs": [
    {
     "name": "stdout",
     "output_type": "stream",
     "text": [
      "[[1 2 3]\n",
      " [4 5 6]]\n",
      "[1 2 3 4 5 6]\n"
     ]
    }
   ],
   "source": [
    "arr = np.array([[1, 2, 3], [4, 5, 6]])\n",
    "print(arr)\n",
    "\n",
    "# using -1 we can convert M-D to 1-D\n",
    "\n",
    "arr_14 = arr.reshape(-1)\n",
    "print(arr_14)"
   ]
  },
  {
   "cell_type": "markdown",
   "id": "8212ccce",
   "metadata": {},
   "source": [
    "## Iteration in multi- dimensions"
   ]
  },
  {
   "cell_type": "code",
   "execution_count": 32,
   "id": "6632f590",
   "metadata": {},
   "outputs": [
    {
     "name": "stdout",
     "output_type": "stream",
     "text": [
      "[1, 2, 3]\n",
      "[4, 5, 6]\n"
     ]
    }
   ],
   "source": [
    "arr = [[1,2,3],[4,5,6]]\n",
    "for i in arr:\n",
    "    print(i)"
   ]
  },
  {
   "cell_type": "code",
   "execution_count": 36,
   "id": "d47efaa1",
   "metadata": {},
   "outputs": [
    {
     "name": "stdout",
     "output_type": "stream",
     "text": [
      "1\n",
      "2\n",
      "3\n",
      "4\n",
      "5\n",
      "6\n",
      "6\n",
      "7\n",
      "8\n",
      "9\n",
      "6\n",
      "5\n"
     ]
    }
   ],
   "source": [
    "arr = [[[1,2,3],[4,5,6]],[[6,7,8],[9,6,5]]]\n",
    "for i in arr:\n",
    "    for j in i:\n",
    "        for r in j:\n",
    "            print(r)"
   ]
  },
  {
   "cell_type": "markdown",
   "id": "b180648c",
   "metadata": {},
   "source": [
    "iteration using nditer()"
   ]
  },
  {
   "cell_type": "code",
   "execution_count": 4,
   "id": "f46b9862",
   "metadata": {},
   "outputs": [
    {
     "name": "stdout",
     "output_type": "stream",
     "text": [
      "1\n",
      "2\n",
      "5\n",
      "6\n",
      "8\n",
      "9\n"
     ]
    }
   ],
   "source": [
    "arr = np.array([[1,2],[5,6],[8,9]])\n",
    "for x in np.nditer(arr):\n",
    "    print(x)"
   ]
  },
  {
   "cell_type": "code",
   "execution_count": 5,
   "id": "491a97d7",
   "metadata": {},
   "outputs": [],
   "source": [
    "## nditer() function is used to print the element from the each dimensions. \n",
    "## Note: we cant predict which element belong to which dimension from the result."
   ]
  },
  {
   "cell_type": "code",
   "execution_count": 7,
   "id": "87239b16",
   "metadata": {},
   "outputs": [],
   "source": [
    "## if we want to change the data type of element from the array.\n",
    "## we can use op_dtypes() function within nditer()\n",
    "## Note : it is not possible to change the data types within the array, system creates change data types\n",
    "##        element on the different space using buffer "
   ]
  },
  {
   "cell_type": "code",
   "execution_count": 8,
   "id": "83a05a7b",
   "metadata": {},
   "outputs": [
    {
     "name": "stdout",
     "output_type": "stream",
     "text": [
      "b'1'\n",
      "b'2'\n",
      "b'3'\n",
      "b'4'\n",
      "b'5'\n",
      "b'6'\n",
      "b'7'\n",
      "b'8'\n",
      "b'9'\n",
      "b'10'\n",
      "b'11'\n",
      "b'12'\n"
     ]
    }
   ],
   "source": [
    "arr = np.array([[[1,2,3],[4,5,6]],[[7,8,9],[10,11,12]]])\n",
    "for x in np.nditer(arr, flags = ['buffered'], op_dtypes = ['S']):\n",
    "    print(x)"
   ]
  },
  {
   "cell_type": "code",
   "execution_count": 21,
   "id": "924424ea",
   "metadata": {},
   "outputs": [
    {
     "name": "stdout",
     "output_type": "stream",
     "text": [
      "1\n",
      "3\n",
      "4\n",
      "6\n",
      "7\n",
      "9\n"
     ]
    }
   ],
   "source": [
    "## EXAMPLE : Iterate through every scalar element of the 2D array skipping 1 element\n",
    "\n",
    "arr = np.array([[1,2,3],[4,5,6],[7,8,9]])\n",
    "for x in np.nditer(arr[:,::2]):\n",
    "    print(x)"
   ]
  },
  {
   "cell_type": "markdown",
   "id": "d7154204",
   "metadata": {},
   "source": [
    "iteration using ndenumerate()"
   ]
  },
  {
   "cell_type": "code",
   "execution_count": 22,
   "id": "23de8d8f",
   "metadata": {},
   "outputs": [
    {
     "name": "stdout",
     "output_type": "stream",
     "text": [
      "(0, 0, 0) 1\n",
      "(0, 0, 1) 2\n",
      "(0, 0, 2) 3\n",
      "(0, 1, 0) 4\n",
      "(0, 1, 1) 5\n",
      "(0, 1, 2) 6\n",
      "(1, 0, 0) 7\n",
      "(1, 0, 1) 8\n",
      "(1, 0, 2) 9\n",
      "(1, 1, 0) 10\n",
      "(1, 1, 1) 11\n",
      "(1, 1, 2) 12\n"
     ]
    }
   ],
   "source": [
    "arr = np.array([[[1,2,3],[4,5,6]],[[7,8,9],[10,11,12]]])\n",
    "for x, i in np.ndenumerate(arr):\n",
    "    print(x, i)"
   ]
  },
  {
   "cell_type": "markdown",
   "id": "27886f39",
   "metadata": {},
   "source": [
    "## Joining the array in numpy"
   ]
  },
  {
   "cell_type": "code",
   "execution_count": 24,
   "id": "bc3a4d69",
   "metadata": {},
   "outputs": [
    {
     "name": "stdout",
     "output_type": "stream",
     "text": [
      "[[ 1  2  3  4  5  6]\n",
      " [10 11 12 13 14 15]]\n",
      "2\n"
     ]
    }
   ],
   "source": [
    "arr_1 = np.array([[1,2,3],[10,11,12]])\n",
    "arr_2 = np.array([[4,5,6],[13,14,15]])\n",
    "arr_concate = np.concatenate((arr_1, arr_2), axis = 1)\n",
    "print(arr_concate)\n",
    "print(arr_concate.ndim)"
   ]
  },
  {
   "cell_type": "code",
   "execution_count": 6,
   "id": "4e73fe43",
   "metadata": {},
   "outputs": [],
   "source": [
    "## we can merge arrays using concatenation.\n",
    "## while concatenation we have to make sure to merge the columns of array correctly using axis."
   ]
  },
  {
   "cell_type": "markdown",
   "id": "67a9be91",
   "metadata": {},
   "source": [
    "joining the arrays using stack"
   ]
  },
  {
   "cell_type": "code",
   "execution_count": 29,
   "id": "b7c3c186",
   "metadata": {},
   "outputs": [
    {
     "name": "stdout",
     "output_type": "stream",
     "text": [
      "[[1 2 3 4]\n",
      " [5 6 7 8]]\n",
      "2\n"
     ]
    }
   ],
   "source": [
    "arr_1 = np.array([1,2,3,4])\n",
    "arr_2 = np.array([5,6,7,8])\n",
    "arr_stack = np.stack((arr_1,arr_2),axis=0)\n",
    "print(arr_stack)\n",
    "print(arr_stack.ndim)"
   ]
  },
  {
   "cell_type": "code",
   "execution_count": 30,
   "id": "65322a22",
   "metadata": {},
   "outputs": [],
   "source": [
    "## in stacking, if 1-D array is taken, we can add the array on new axis, make into 2-D array."
   ]
  },
  {
   "cell_type": "code",
   "execution_count": 36,
   "id": "e940f3bc",
   "metadata": {},
   "outputs": [
    {
     "name": "stdout",
     "output_type": "stream",
     "text": [
      "ROW STACKING\n",
      "[1 2 3 4 5 6 7 8]\n",
      "\n",
      "COLUMN STACKING\n",
      "[[1 2 3 4]\n",
      " [5 6 7 8]]\n",
      "\n",
      "HEIGHT STACKING\n",
      "[[[1 5]\n",
      "  [2 6]\n",
      "  [3 7]\n",
      "  [4 8]]]\n"
     ]
    }
   ],
   "source": [
    "## stacking along rows\n",
    "arr_hstack = np.hstack((arr_1,arr_2))\n",
    "print(\"ROW STACKING\")\n",
    "print(arr_hstack)\n",
    "print()\n",
    "\n",
    "## stacking along columns\n",
    "arr_vstack = np.vstack((arr_1,arr_2))\n",
    "print(\"COLUMN STACKING\")\n",
    "print(arr_vstack)\n",
    "print()\n",
    "\n",
    "## stacking along height(depth)\n",
    "arr_dstack = np.dstack((arr_1,arr_2))\n",
    "print(\"HEIGHT STACKING\")\n",
    "print(arr_dstack)"
   ]
  },
  {
   "cell_type": "markdown",
   "id": "1b37b4e3",
   "metadata": {},
   "source": [
    "## Spliting in array using array_split()"
   ]
  },
  {
   "cell_type": "code",
   "execution_count": 48,
   "id": "c121d10b",
   "metadata": {},
   "outputs": [
    {
     "name": "stdout",
     "output_type": "stream",
     "text": [
      "[array([1, 2]), array([3]), array([4]), array([5])]\n",
      "[4]\n",
      "[1 2]\n"
     ]
    }
   ],
   "source": [
    "arr = np.array([1,2,3,4,5])\n",
    "arr_s = np.array_split(arr,4)\n",
    "print(arr_s)\n",
    "print(arr_s[2])\n",
    "print(arr_s[0])"
   ]
  },
  {
   "cell_type": "code",
   "execution_count": 44,
   "id": "08bbaf31",
   "metadata": {},
   "outputs": [],
   "source": [
    "## array_split splits the array into the number of times the user wants to split.\n",
    "## if number of times is more than array length, it creates empty array."
   ]
  },
  {
   "cell_type": "markdown",
   "id": "0d8a44af",
   "metadata": {},
   "source": [
    "spliting the 2D ARRAY"
   ]
  },
  {
   "cell_type": "code",
   "execution_count": 53,
   "id": "d6e7c66a",
   "metadata": {},
   "outputs": [
    {
     "name": "stdout",
     "output_type": "stream",
     "text": [
      "[array([[1, 2, 3],\n",
      "       [4, 5, 6]]), array([[7, 8, 9]])]\n"
     ]
    }
   ],
   "source": [
    "arr_2D = np.array([[1,2,3],[4,5,6],[7,8,9]])\n",
    "arr_2D_split = np.array_split(arr_2D,2)\n",
    "print(arr_2D_split)"
   ]
  },
  {
   "cell_type": "code",
   "execution_count": 54,
   "id": "5f14890d",
   "metadata": {},
   "outputs": [],
   "source": [
    "## in 2-D, array_splits the array but keeps the dimensions same for every split array."
   ]
  },
  {
   "cell_type": "markdown",
   "id": "eaa4b1f7",
   "metadata": {},
   "source": [
    "spliting the array horizontally"
   ]
  },
  {
   "cell_type": "code",
   "execution_count": 57,
   "id": "11931874",
   "metadata": {},
   "outputs": [
    {
     "name": "stdout",
     "output_type": "stream",
     "text": [
      "[array([[1, 2],\n",
      "       [7, 8]]), array([[ 3,  4],\n",
      "       [ 9, 10]]), array([[ 5],\n",
      "       [11]])]\n"
     ]
    }
   ],
   "source": [
    "arr_h = np.array([[1,2,3,4,5],[7,8,9,10,11]])\n",
    "arr_h_split = np.array_split(arr_h, 3, axis = 1)\n",
    "print(arr_h_split)"
   ]
  },
  {
   "cell_type": "markdown",
   "id": "13818c88",
   "metadata": {},
   "source": [
    "## SEARCHING THE INDEX OF ELEMENT IN ARRAY"
   ]
  },
  {
   "cell_type": "markdown",
   "id": "dabcb03c",
   "metadata": {},
   "source": [
    "using where()"
   ]
  },
  {
   "cell_type": "code",
   "execution_count": 58,
   "id": "5fa242e5",
   "metadata": {},
   "outputs": [
    {
     "name": "stdout",
     "output_type": "stream",
     "text": [
      "(array([1], dtype=int64), array([0], dtype=int64))\n"
     ]
    }
   ],
   "source": [
    "arr = np.array([[1,2,3],[4,5,6]])\n",
    "print(np.where(arr == 4))"
   ]
  },
  {
   "cell_type": "code",
   "execution_count": 59,
   "id": "cdcd11aa",
   "metadata": {},
   "outputs": [],
   "source": [
    "## Above result displays the dimension of the element present in array."
   ]
  },
  {
   "cell_type": "code",
   "execution_count": 60,
   "id": "b3a0e733",
   "metadata": {},
   "outputs": [
    {
     "name": "stdout",
     "output_type": "stream",
     "text": [
      "(array([1, 3, 5], dtype=int64),)\n"
     ]
    }
   ],
   "source": [
    "## printing the indexing of element which in even\n",
    "\n",
    "arr = np.array([1,2,3,4,5,6,7])\n",
    "x = np.where(arr%2 == 0)\n",
    "print(x)"
   ]
  },
  {
   "cell_type": "markdown",
   "id": "32e10395",
   "metadata": {},
   "source": [
    "## searchsorted() function"
   ]
  },
  {
   "cell_type": "markdown",
   "id": "13a4866c",
   "metadata": {},
   "source": [
    "It is the unique function in the numpy, where it returns the index, where the required element need to inserted to maintain the sort array."
   ]
  },
  {
   "cell_type": "code",
   "execution_count": 62,
   "id": "469bd9f8",
   "metadata": {},
   "outputs": [
    {
     "name": "stdout",
     "output_type": "stream",
     "text": [
      "1\n"
     ]
    }
   ],
   "source": [
    "arr = np.array([1,3,4,5])\n",
    "index_of_element = np.searchsorted(arr,2)\n",
    "print(index_of_element)"
   ]
  },
  {
   "cell_type": "code",
   "execution_count": 65,
   "id": "50c51b27",
   "metadata": {},
   "outputs": [
    {
     "name": "stdout",
     "output_type": "stream",
     "text": [
      "[1 3 3]\n"
     ]
    }
   ],
   "source": [
    "arr = np.array([1, 3, 4, 7])\n",
    "x = np.searchsorted(arr, [2, 5, 6])\n",
    "print(x)"
   ]
  },
  {
   "cell_type": "code",
   "execution_count": 66,
   "id": "de4a5f75",
   "metadata": {},
   "outputs": [],
   "source": [
    "## Here the results are the index of the element would be inserted in the original array to maintain the order."
   ]
  },
  {
   "cell_type": "markdown",
   "id": "0fc84326",
   "metadata": {},
   "source": [
    "## SORTING IN NUMPY"
   ]
  },
  {
   "cell_type": "code",
   "execution_count": 68,
   "id": "f47b64a3",
   "metadata": {},
   "outputs": [
    {
     "name": "stdout",
     "output_type": "stream",
     "text": [
      "[0 1 2 4 6]\n"
     ]
    }
   ],
   "source": [
    "unsorted_arr = np.array([1,4,6,2,0])\n",
    "sorted_arr = np.sort(unsorted_arr)\n",
    "print(sorted_arr)"
   ]
  },
  {
   "cell_type": "code",
   "execution_count": 71,
   "id": "f36e1d63",
   "metadata": {},
   "outputs": [],
   "source": [
    "## sorting in 2-D numpy array"
   ]
  },
  {
   "cell_type": "code",
   "execution_count": 70,
   "id": "d29d88ad",
   "metadata": {},
   "outputs": [
    {
     "name": "stdout",
     "output_type": "stream",
     "text": [
      "[[2 3 5]\n",
      " [0 1 4]]\n"
     ]
    }
   ],
   "source": [
    "arr = np.array([[3, 2, 5], [4, 0, 1]])\n",
    "print(np.sort(arr))"
   ]
  },
  {
   "cell_type": "code",
   "execution_count": 88,
   "id": "c0aaff5b",
   "metadata": {},
   "outputs": [],
   "source": [
    "## NOTE:In multi-Dimention, each array are sorted within their array."
   ]
  },
  {
   "cell_type": "markdown",
   "id": "5d4c92bc",
   "metadata": {},
   "source": [
    "## Filtering in array"
   ]
  },
  {
   "cell_type": "code",
   "execution_count": 73,
   "id": "795e1f2f",
   "metadata": {},
   "outputs": [],
   "source": [
    "## Getting some elements out of an existing array and creating a new array out of them is called filtering.\n",
    "## In NumPy, you filter an array using a boolean index list."
   ]
  },
  {
   "cell_type": "code",
   "execution_count": 72,
   "id": "309e67d3",
   "metadata": {},
   "outputs": [
    {
     "name": "stdout",
     "output_type": "stream",
     "text": [
      "[False False  True  True]\n",
      "[43 44]\n"
     ]
    }
   ],
   "source": [
    "arr = np.array([41, 42, 43, 44])\n",
    "\n",
    "filter_arr = arr > 42\n",
    "\n",
    "newarr = arr[filter_arr]\n",
    "\n",
    "print(filter_arr)\n",
    "print(newarr)"
   ]
  },
  {
   "cell_type": "code",
   "execution_count": 75,
   "id": "9d877121",
   "metadata": {},
   "outputs": [
    {
     "name": "stdout",
     "output_type": "stream",
     "text": [
      "[False, True, False, True, False, True, False]\n",
      "[2 4 6]\n"
     ]
    }
   ],
   "source": [
    "arr = np.array([1, 2, 3, 4, 5, 6, 7])\n",
    "\n",
    "# Create an empty list\n",
    "filter_arr = []\n",
    "\n",
    "# go through each element in arr\n",
    "for element in arr:\n",
    "  # if the element is completely divisble by 2, set the value to True, otherwise False\n",
    "  if element % 2 == 0:\n",
    "    filter_arr.append(True)\n",
    "  else:\n",
    "    filter_arr.append(False)\n",
    "\n",
    "newarr = arr[filter_arr]\n",
    "\n",
    "print(filter_arr)\n",
    "print(newarr)"
   ]
  },
  {
   "cell_type": "code",
   "execution_count": null,
   "id": "9612becf",
   "metadata": {},
   "outputs": [],
   "source": []
  },
  {
   "cell_type": "markdown",
   "id": "7b357f33",
   "metadata": {},
   "source": [
    "## RANDOM MODULE"
   ]
  },
  {
   "cell_type": "code",
   "execution_count": 3,
   "id": "d9f63f1f",
   "metadata": {},
   "outputs": [],
   "source": [
    "## it is the function used in numpy to return random number from range or array"
   ]
  },
  {
   "cell_type": "code",
   "execution_count": 10,
   "id": "82257293",
   "metadata": {},
   "outputs": [
    {
     "name": "stdout",
     "output_type": "stream",
     "text": [
      "18\n",
      "0.7623899690305923\n"
     ]
    }
   ],
   "source": [
    "import numpy as np\n",
    "from numpy import random\n",
    "\n",
    "# randint return random int number\n",
    "r = random.randint(100)\n",
    "\n",
    "# rand return random float number between 0 and 1\n",
    "f = random.rand()\n",
    "\n",
    "print(r)\n",
    "print(f)"
   ]
  },
  {
   "cell_type": "code",
   "execution_count": 13,
   "id": "15d30723",
   "metadata": {},
   "outputs": [
    {
     "name": "stdout",
     "output_type": "stream",
     "text": [
      "[81 16 14 18 52]\n",
      "[0.8729754  0.63189214 0.76402366 0.92257148 0.65533784]\n"
     ]
    }
   ],
   "source": [
    "### size function in random is used in return how many numbers we want to return\n",
    "\n",
    "# default size is one\n",
    "s_i = random.randint(100, size = 5)\n",
    "s_f = random.rand(5) #rand we use just number\n",
    "print(s_i)\n",
    "print(s_f)"
   ]
  },
  {
   "cell_type": "code",
   "execution_count": 22,
   "id": "b3634776",
   "metadata": {},
   "outputs": [
    {
     "name": "stdout",
     "output_type": "stream",
     "text": [
      "2-D array having 3 rows and each row have random 5 numbers. \n",
      "\n",
      "[[80  0 71 21 69]\n",
      " [87 42 82 10 74]\n",
      " [48  2 90 17 29]] \n",
      "\n",
      "[[0.08877123 0.9841128  0.14100049 0.12257626 0.2328794 ]\n",
      " [0.27197337 0.25157967 0.4041107  0.02702092 0.30099928]\n",
      " [0.89542874 0.09122287 0.04953267 0.96222676 0.85382518]]\n"
     ]
    }
   ],
   "source": [
    "# return multi dimentional array\n",
    "\n",
    "s_m_i = random.randint(100,size = (3, 5))\n",
    "s_m_f = random.rand(3, 5)\n",
    "\n",
    "print(\"2-D array having 3 rows and each row have random 5 numbers. \\n\")\n",
    "print(s_m_i,\"\\n\")\n",
    "print(s_m_f)"
   ]
  },
  {
   "cell_type": "code",
   "execution_count": 26,
   "id": "ddd72797",
   "metadata": {},
   "outputs": [
    {
     "name": "stdout",
     "output_type": "stream",
     "text": [
      "3\n"
     ]
    }
   ],
   "source": [
    "### choice : randomly returns one of the values from array.\n",
    "\n",
    "c = random.choice([1,2,3,4,5])\n",
    "print(c)"
   ]
  },
  {
   "cell_type": "code",
   "execution_count": 28,
   "id": "bdaaafe2",
   "metadata": {},
   "outputs": [
    {
     "name": "stdout",
     "output_type": "stream",
     "text": [
      "[[2 2 1 7 7]\n",
      " [6 2 1 7 2]\n",
      " [9 2 6 1 7]]\n"
     ]
    }
   ],
   "source": [
    "## using size in choice we can return array of values, choosing values randomly from array\n",
    "\n",
    "## print 2-D array using choice\n",
    "c_d = random.choice([1,7,9,2,6],size = (3, 5))\n",
    "print(c_d)"
   ]
  },
  {
   "cell_type": "code",
   "execution_count": 32,
   "id": "2bc0bcef",
   "metadata": {},
   "outputs": [
    {
     "name": "stdout",
     "output_type": "stream",
     "text": [
      "[[7 7 7 7 7]\n",
      " [5 7 5 7 7]\n",
      " [7 5 5 7 7]]\n"
     ]
    }
   ],
   "source": [
    "## distribution of numbers in array using probability\n",
    "\n",
    "## print 2-D array of (3,5) having combination of 3, 5, 7, 9\n",
    "arr_dis = random.choice([3,5,7,9], p = [0.1, 0.3, 0.6, 0.0], size = (3,5))\n",
    "print(arr_dis)"
   ]
  },
  {
   "cell_type": "code",
   "execution_count": 33,
   "id": "98ea6531",
   "metadata": {},
   "outputs": [],
   "source": [
    "## re-arranging the values of array \n",
    "\n",
    "# random use 2 function : shuffle() and permutation()"
   ]
  },
  {
   "cell_type": "code",
   "execution_count": 35,
   "id": "61ec5730",
   "metadata": {},
   "outputs": [
    {
     "name": "stdout",
     "output_type": "stream",
     "text": [
      "[3 2 4 5 1]\n"
     ]
    }
   ],
   "source": [
    "# using shuffle\n",
    "arr = np.array([1,2,3,4,5])\n",
    "\n",
    "## shuffle rearranges the element in the original arr\n",
    "random.shuffle(arr)\n",
    "print(arr)"
   ]
  },
  {
   "cell_type": "code",
   "execution_count": 37,
   "id": "ed3a8dc8",
   "metadata": {},
   "outputs": [
    {
     "name": "stdout",
     "output_type": "stream",
     "text": [
      "[2 5 1 4 3]\n",
      "[1 2 3 4 5]\n"
     ]
    }
   ],
   "source": [
    "# using permutation\n",
    "arr = np.array([1,2,3,4,5])\n",
    "\n",
    "## permutation rearranges the element in dummy arr\n",
    "## original arr remains unchanged\n",
    "print(random.permutation(arr))\n",
    "print(arr)"
   ]
  },
  {
   "cell_type": "code",
   "execution_count": null,
   "id": "bfac1874",
   "metadata": {},
   "outputs": [],
   "source": []
  },
  {
   "cell_type": "markdown",
   "id": "e790e641",
   "metadata": {},
   "source": [
    "## Visualizing the random distribution using SEABORN"
   ]
  },
  {
   "cell_type": "code",
   "execution_count": 38,
   "id": "bced8394",
   "metadata": {},
   "outputs": [],
   "source": [
    "## seaborn is the library in matplotlib, used to plot graphs of random distribution array"
   ]
  },
  {
   "cell_type": "code",
   "execution_count": 39,
   "id": "04993394",
   "metadata": {},
   "outputs": [
    {
     "name": "stdout",
     "output_type": "stream",
     "text": [
      "Requirement already satisfied: seaborn in c:\\users\\dell\\anaconda3\\lib\\site-packages (0.11.2)Note: you may need to restart the kernel to use updated packages.\n"
     ]
    },
    {
     "name": "stderr",
     "output_type": "stream",
     "text": [
      "ERROR: Could not install packages due to an OSError: [WinError 5] Access is denied: 'C:\\\\Users\\\\DELL\\\\anaconda3\\\\Lib\\\\site-packages\\\\~-mpy.libs\\\\libopenblas64__v0.3.23-293-gc2f4bdbb-gcc_10_3_0-2bde3a66a51006b2b53eb373ff767a3f.dll'\n",
      "Consider using the `--user` option or check the permissions.\n",
      "\n"
     ]
    },
    {
     "name": "stdout",
     "output_type": "stream",
     "text": [
      "\n",
      "Requirement already satisfied: numpy>=1.15 in c:\\users\\dell\\anaconda3\\lib\\site-packages (from seaborn) (1.26.4)\n",
      "Requirement already satisfied: matplotlib>=2.2 in c:\\users\\dell\\anaconda3\\lib\\site-packages (from seaborn) (3.5.2)\n",
      "Requirement already satisfied: pandas>=0.23 in c:\\users\\dell\\anaconda3\\lib\\site-packages (from seaborn) (1.4.4)\n",
      "Requirement already satisfied: scipy>=1.0 in c:\\users\\dell\\anaconda3\\lib\\site-packages (from seaborn) (1.9.1)\n",
      "Requirement already satisfied: fonttools>=4.22.0 in c:\\users\\dell\\anaconda3\\lib\\site-packages (from matplotlib>=2.2->seaborn) (4.25.0)\n",
      "Requirement already satisfied: packaging>=20.0 in c:\\users\\dell\\anaconda3\\lib\\site-packages (from matplotlib>=2.2->seaborn) (21.3)\n",
      "Requirement already satisfied: kiwisolver>=1.0.1 in c:\\users\\dell\\anaconda3\\lib\\site-packages (from matplotlib>=2.2->seaborn) (1.4.2)\n",
      "Requirement already satisfied: python-dateutil>=2.7 in c:\\users\\dell\\anaconda3\\lib\\site-packages (from matplotlib>=2.2->seaborn) (2.8.2)\n",
      "Requirement already satisfied: cycler>=0.10 in c:\\users\\dell\\anaconda3\\lib\\site-packages (from matplotlib>=2.2->seaborn) (0.11.0)\n",
      "Requirement already satisfied: pillow>=6.2.0 in c:\\users\\dell\\anaconda3\\lib\\site-packages (from matplotlib>=2.2->seaborn) (9.2.0)\n",
      "Requirement already satisfied: pyparsing>=2.2.1 in c:\\users\\dell\\anaconda3\\lib\\site-packages (from matplotlib>=2.2->seaborn) (3.0.9)\n",
      "Requirement already satisfied: pytz>=2020.1 in c:\\users\\dell\\anaconda3\\lib\\site-packages (from pandas>=0.23->seaborn) (2022.1)\n",
      "Collecting numpy>=1.15\n",
      "  Using cached numpy-1.24.4-cp39-cp39-win_amd64.whl (14.9 MB)\n",
      "Requirement already satisfied: six>=1.5 in c:\\users\\dell\\anaconda3\\lib\\site-packages (from python-dateutil>=2.7->matplotlib>=2.2->seaborn) (1.16.0)\n",
      "Installing collected packages: numpy\n",
      "  Attempting uninstall: numpy\n",
      "    Found existing installation: numpy 1.26.4\n",
      "    Uninstalling numpy-1.26.4:\n",
      "      Successfully uninstalled numpy-1.26.4\n"
     ]
    }
   ],
   "source": [
    "pip install seaborn"
   ]
  },
  {
   "cell_type": "code",
   "execution_count": 54,
   "id": "a3607ea6",
   "metadata": {},
   "outputs": [],
   "source": [
    "## Plotting the displot or kdeplot\n",
    "## displot/kdeplot is used to represent data in histogram form."
   ]
  },
  {
   "cell_type": "code",
   "execution_count": 53,
   "id": "65afa3b5",
   "metadata": {},
   "outputs": [
    {
     "data": {
      "image/png": "[encoded data removed]",
      "text/plain": [
       "<Figure size 640x480 with 1 Axes>"
      ]
     },
     "metadata": {},
     "output_type": "display_data"
    }
   ],
   "source": [
    "import matplotlib.pyplot as plt\n",
    "import seaborn as sns\n",
    "\n",
    "sns.kdeplot([1,2,3,4,5,0])\n",
    "plt.show()"
   ]
  },
  {
   "cell_type": "code",
   "execution_count": 50,
   "id": "5cef9f31",
   "metadata": {},
   "outputs": [
    {
     "data": {
      "image/png": "[encoded data removed]",
      "text/plain": [
       "<Figure size 640x480 with 1 Axes>"
      ]
     },
     "metadata": {},
     "output_type": "display_data"
    }
   ],
   "source": [
    "## to remove histogram add hist = false\n",
    "\n",
    "import matplotlib.pyplot as plt\n",
    "import seaborn as sns\n",
    "\n",
    "sns.kdeplot([0,1,2,3,4,5])\n",
    "plt.show()"
   ]
  },
  {
   "cell_type": "markdown",
   "id": "97b0e5ed",
   "metadata": {},
   "source": [
    "## NORMAL DISTRIBUTION"
   ]
  },
  {
   "cell_type": "code",
   "execution_count": 9,
   "id": "9f4834be",
   "metadata": {},
   "outputs": [],
   "source": [
    "##normal distribution has three parameters:\n",
    "\n",
    "#loc - (Mean) where the peak of the bell exists.\n",
    "#scale - (Standard Deviation) how flat the graph distribution should be.\n",
    "#size - The shape of the returned array."
   ]
  },
  {
   "cell_type": "code",
   "execution_count": 23,
   "id": "969f98e3",
   "metadata": {},
   "outputs": [
    {
     "name": "stdout",
     "output_type": "stream",
     "text": [
      "[[ 1.47104388 -0.93314712 -1.28986683]\n",
      " [-0.79275852  0.57356759  1.19813338]\n",
      " [ 1.2255806  -0.96976605  0.23012265]] \n",
      "\n",
      "[[ 0.60952812  1.36912942  3.69689252 -1.77129198]\n",
      " [-5.42853223  1.34090815 -1.3609165  -0.08181307]\n",
      " [ 2.50781131 -2.28309807 -1.15447678  3.60385787]]\n"
     ]
    }
   ],
   "source": [
    "from numpy import random\n",
    "import numpy\n",
    "\n",
    "x = random.normal(size = (3,3))\n",
    "print(x,\"\\n\")\n",
    "\n",
    "# putting mean = 1 ,standard deviation = 2 , size = 3, 4\n",
    "y = random.normal(loc = 1, scale = 2, size = (3,4))\n",
    "print(y)"
   ]
  },
  {
   "cell_type": "code",
   "execution_count": 89,
   "id": "3fa363d2",
   "metadata": {},
   "outputs": [
    {
     "data": {
      "image/png": "[encoded data removed]",
      "text/plain": [
       "<Figure size 640x480 with 1 Axes>"
      ]
     },
     "metadata": {},
     "output_type": "display_data"
    }
   ],
   "source": [
    "# visualizing the normal distribution\n",
    "\n",
    "from numpy import random\n",
    "import matplotlib.pyplot as plt\n",
    "import seaborn as sns\n",
    "\n",
    "sns.kdeplot(random.normal(size=100))\n",
    "plt.show()"
   ]
  },
  {
   "cell_type": "code",
   "execution_count": 24,
   "id": "47f48fa7",
   "metadata": {},
   "outputs": [],
   "source": [
    "## Note: The curve of a Normal Distribution is also known as the Bell Curve because of the bell-shaped curve."
   ]
  },
  {
   "cell_type": "markdown",
   "id": "6bbbe5c5",
   "metadata": {},
   "source": [
    "## Binomial Distribution"
   ]
  },
  {
   "cell_type": "code",
   "execution_count": 3,
   "id": "44174e0f",
   "metadata": {},
   "outputs": [],
   "source": [
    "## Binomial distribution is the discrete distribution\n",
    "## It has following terms:\n",
    "## n = number of trails\n",
    "## p = probability of occurence of each trails(prob. of tails in balanced coin is 0.5)\n",
    "## size = theshape of the returned array"
   ]
  },
  {
   "cell_type": "code",
   "execution_count": 6,
   "id": "ae20aa60",
   "metadata": {},
   "outputs": [
    {
     "name": "stdout",
     "output_type": "stream",
     "text": [
      "[49 36 47 52 45 43 43 44 43 42]\n"
     ]
    }
   ],
   "source": [
    "from numpy import random\n",
    "\n",
    "x = random.binomial(n=90, p=0.5, size=10)\n",
    "print(x)"
   ]
  },
  {
   "cell_type": "code",
   "execution_count": 7,
   "id": "86cfd4f0",
   "metadata": {},
   "outputs": [],
   "source": [
    "## Visualizing the binomial distribution"
   ]
  },
  {
   "cell_type": "code",
   "execution_count": 48,
   "id": "ac05cc49",
   "metadata": {},
   "outputs": [
    {
     "data": {
      "image/png": "[encoded data removed]",
      "text/plain": [
       "<Figure size 500x500 with 1 Axes>"
      ]
     },
     "metadata": {},
     "output_type": "display_data"
    }
   ],
   "source": [
    "from numpy import random\n",
    "import matplotlib.pyplot as plt\n",
    "import seaborn as sns\n",
    "\n",
    "sns.displot(random.binomial(n=10, p=0.5, size=1000), kde=True)\n",
    "plt.show()"
   ]
  },
  {
   "cell_type": "code",
   "execution_count": 10,
   "id": "acbf66a7",
   "metadata": {},
   "outputs": [],
   "source": [
    "## Comparing the graph of normal and binomial distribution"
   ]
  },
  {
   "cell_type": "code",
   "execution_count": 46,
   "id": "cd2c5331",
   "metadata": {},
   "outputs": [
    {
     "data": {
      "image/png": "[encoded data removed]",
      "text/plain": [
       "<Figure size 640x480 with 1 Axes>"
      ]
     },
     "metadata": {},
     "output_type": "display_data"
    }
   ],
   "source": [
    "from numpy import random\n",
    "import matplotlib.pyplot as plt\n",
    "import seaborn as sns\n",
    "\n",
    "sns.kdeplot(random.normal(loc=50, scale=5, size=1000))\n",
    "sns.kdeplot(random.binomial(n=100, p=0.5, size=1000))\n",
    "plt.show()"
   ]
  },
  {
   "cell_type": "code",
   "execution_count": 18,
   "id": "14c08dec",
   "metadata": {},
   "outputs": [],
   "source": [
    "## Due to presense of large sample size, binomial distribution graph is similar to normal distribution."
   ]
  },
  {
   "cell_type": "markdown",
   "id": "9e25615a",
   "metadata": {},
   "source": [
    "## Poisson Distribution"
   ]
  },
  {
   "cell_type": "code",
   "execution_count": 2,
   "id": "ffe80a75",
   "metadata": {},
   "outputs": [],
   "source": [
    "## Poisson Distribution is a Discrete Distribution.\n",
    "## It is used to find the estimate time an event can happen in particular time.\n",
    "\n",
    "## It has two parameter:\n",
    "## lam - rate or known number of occurrences.\n",
    "## size - The shape of the returned array."
   ]
  },
  {
   "cell_type": "code",
   "execution_count": 23,
   "id": "65ed3e19",
   "metadata": {},
   "outputs": [
    {
     "name": "stdout",
     "output_type": "stream",
     "text": [
      "[5 3 2 0 4 5 2 1 0 0]\n"
     ]
    }
   ],
   "source": [
    "from numpy import random\n",
    "\n",
    "x = random.poisson(lam=2, size=10)\n",
    "print(x)"
   ]
  },
  {
   "cell_type": "code",
   "execution_count": 5,
   "id": "ce639ad7",
   "metadata": {},
   "outputs": [],
   "source": [
    "## Visualization of poisson distribution"
   ]
  },
  {
   "cell_type": "code",
   "execution_count": 43,
   "id": "9c4fe1e3",
   "metadata": {},
   "outputs": [
    {
     "data": {
      "image/png": "[encoded data removed]",
      "text/plain": [
       "<Figure size 500x500 with 1 Axes>"
      ]
     },
     "metadata": {},
     "output_type": "display_data"
    }
   ],
   "source": [
    "from numpy import random\n",
    "import matplotlib.pyplot as plt\n",
    "import seaborn as sns\n",
    "\n",
    "sns.displot(random.poisson(lam=5, size=100), kind='kde')\n",
    "# lam(lambda will be positive)\n",
    "\n",
    "plt.show()"
   ]
  },
  {
   "cell_type": "code",
   "execution_count": 9,
   "id": "c9e4c99e",
   "metadata": {},
   "outputs": [],
   "source": [
    "## Difference between binomial and poisson distribution.\n",
    "\n",
    "## Both distribution works on discrete data. \n",
    "## Binomial distribution has only 2 outcomes.\n",
    "## Poisson distribution can have unlimited possible outcomes. \n",
    "## (For very large n and non-zero p binormial distribution show identical result as poisson distribution.)"
   ]
  },
  {
   "cell_type": "markdown",
   "id": "4d8d7637",
   "metadata": {},
   "source": [
    "## UNIFORM DISTRIBUTION"
   ]
  },
  {
   "cell_type": "code",
   "execution_count": 2,
   "id": "f72d937f",
   "metadata": {},
   "outputs": [],
   "source": [
    "## In uniform distribution, the probability of the events are same/constant.\n",
    "## In discrete uniform distribution, the outcomes are discrete and have equal probability.\n",
    "## In continuous uniform distribution, the outcomes are continuous and infinite.\n",
    "\n",
    "## It has three parameters:\n",
    "## lower bound\n",
    "## upper bound\n",
    "## size - dimention of distribution"
   ]
  },
  {
   "cell_type": "code",
   "execution_count": 4,
   "id": "158ff370",
   "metadata": {},
   "outputs": [
    {
     "name": "stdout",
     "output_type": "stream",
     "text": [
      "[[1.37589602 4.0907795 ]\n",
      " [4.89504097 2.43821084]\n",
      " [2.36714447 1.87005489]]\n"
     ]
    }
   ],
   "source": [
    "from numpy import random\n",
    "\n",
    "x = random.uniform(1,5,size=(3,2))\n",
    "print(x)"
   ]
  },
  {
   "cell_type": "code",
   "execution_count": 5,
   "id": "d848fc40",
   "metadata": {},
   "outputs": [],
   "source": [
    "## Visualization of uniform distribution"
   ]
  },
  {
   "cell_type": "code",
   "execution_count": 42,
   "id": "68cdd14e",
   "metadata": {},
   "outputs": [
    {
     "data": {
      "image/png": "[encoded data removed]",
      "text/plain": [
       "<Figure size 500x500 with 1 Axes>"
      ]
     },
     "metadata": {},
     "output_type": "display_data"
    }
   ],
   "source": [
    "from numpy import random\n",
    "import matplotlib.pyplot as plt\n",
    "import seaborn as sns\n",
    "\n",
    "sns.displot(random.uniform(1, 2, size=1000), kde=True)\n",
    "plt.show()"
   ]
  },
  {
   "cell_type": "markdown",
   "id": "21b4ca55",
   "metadata": {},
   "source": [
    "## Logistic Distribution"
   ]
  },
  {
   "cell_type": "code",
   "execution_count": 9,
   "id": "7312262d",
   "metadata": {},
   "outputs": [],
   "source": [
    "## Logistic Distribution is used to describe growth.\n",
    "## It is widely used in machine learning, neural network.\n",
    "\n",
    "## It has 3 parameter:\n",
    "## loc - mean, peak of distribution\n",
    "## scale - standard deviation, flatness in distribution\n",
    "## size - dimensions of the resultant array"
   ]
  },
  {
   "cell_type": "code",
   "execution_count": 11,
   "id": "05b67d68",
   "metadata": {},
   "outputs": [
    {
     "name": "stdout",
     "output_type": "stream",
     "text": [
      "[[ 2.09654307  4.85878649 -2.0058202 ]\n",
      " [ 5.05692281  0.21469216 -1.88738773]]\n"
     ]
    }
   ],
   "source": [
    "from numpy import random\n",
    "\n",
    "x = random.logistic(loc=1, scale=2, size=(2,3))\n",
    "print(x)"
   ]
  },
  {
   "cell_type": "code",
   "execution_count": 12,
   "id": "472c5d9d",
   "metadata": {},
   "outputs": [],
   "source": [
    "## Visualization of logistic distribution"
   ]
  },
  {
   "cell_type": "code",
   "execution_count": 41,
   "id": "002bb381",
   "metadata": {},
   "outputs": [
    {
     "data": {
      "image/png": "[encoded data removed]",
      "text/plain": [
       "<Figure size 500x500 with 1 Axes>"
      ]
     },
     "metadata": {},
     "output_type": "display_data"
    }
   ],
   "source": [
    "from numpy import random\n",
    "import matplotlib.pyplot as plt\n",
    "import seaborn as sns\n",
    "\n",
    "sns.displot(random.logistic(1,4,size=1000),kde=True)\n",
    "plt.show()"
   ]
  },
  {
   "cell_type": "code",
   "execution_count": 20,
   "id": "946c3aba",
   "metadata": {},
   "outputs": [],
   "source": [
    "## Difference between logistic and normal distribution\n",
    "\n",
    "## In logistic distribution, more area is covered under the tails.\n",
    "## In logistic distribution, there are more possibility of occurence of events away from mean."
   ]
  },
  {
   "cell_type": "code",
   "execution_count": 56,
   "id": "c7667f31",
   "metadata": {},
   "outputs": [
    {
     "data": {
      "image/png": "[encoded data removed]",
      "text/plain": [
       "<Figure size 640x480 with 1 Axes>"
      ]
     },
     "metadata": {},
     "output_type": "display_data"
    }
   ],
   "source": [
    "from numpy import random\n",
    "import matplotlib.pyplot as plt\n",
    "import seaborn as sns\n",
    "\n",
    "sns.kdeplot(random.logistic(size=1000), color='Blue')\n",
    "sns.kdeplot(random.normal(scale=2, size=1000), color='Red')\n",
    "plt.show()"
   ]
  },
  {
   "cell_type": "markdown",
   "id": "c2d75eaa",
   "metadata": {},
   "source": [
    "## Multinomial Distribution"
   ]
  },
  {
   "cell_type": "code",
   "execution_count": 57,
   "id": "64929252",
   "metadata": {},
   "outputs": [],
   "source": [
    "## It is a generalization of binomial distribution\n",
    "\n",
    "## In binomial distribution there are 2 possible outcomes, multinomial distribution can have n number of outcomes\n",
    "## It has 3 parameter:\n",
    "## n - number of possible outcomes\n",
    "## pvals - list of probability of outcomes\n",
    "## size - shape of returned array"
   ]
  },
  {
   "cell_type": "code",
   "execution_count": 65,
   "id": "829682fa",
   "metadata": {},
   "outputs": [
    {
     "name": "stdout",
     "output_type": "stream",
     "text": [
      "[[1 2 1 0 1 1]\n",
      " [0 3 1 0 1 1]\n",
      " [2 2 1 1 0 0]\n",
      " [1 2 0 0 1 2]\n",
      " [1 0 2 2 1 0]\n",
      " [2 1 2 0 1 0]]\n"
     ]
    }
   ],
   "source": [
    "from numpy import random\n",
    "\n",
    "x = random.multinomial(n=6, pvals=[1/6, 1/6, 1/6, 1/6, 1/6, 1/6], size=6)\n",
    "print(x)"
   ]
  },
  {
   "cell_type": "code",
   "execution_count": 67,
   "id": "903251bb",
   "metadata": {},
   "outputs": [],
   "source": [
    "## Note : It will produce single value of each pvals.\n",
    "## Visaulization of multinomial is similar as normal distribution."
   ]
  },
  {
   "cell_type": "markdown",
   "id": "a9416c26",
   "metadata": {},
   "source": [
    "## Exponential Distribution"
   ]
  },
  {
   "cell_type": "code",
   "execution_count": 68,
   "id": "9678610a",
   "metadata": {},
   "outputs": [],
   "source": [
    "## It is continuous distribution commonly used to measure the times between the events to occur.\n",
    "## It has 2 parameter:\n",
    "## scale - inverse of rate of lambda in poisson distribution.\n",
    "## size - returned size of array."
   ]
  },
  {
   "cell_type": "code",
   "execution_count": 69,
   "id": "62e01f13",
   "metadata": {},
   "outputs": [
    {
     "name": "stdout",
     "output_type": "stream",
     "text": [
      "[2.56179047 0.11691485 0.50782121 1.23500299 4.21191032 0.63458034\n",
      " 0.01774926 1.15015716 0.06042313 0.50054536]\n"
     ]
    }
   ],
   "source": [
    "from numpy import random\n",
    "\n",
    "x = random.exponential(scale=2, size=10)\n",
    "print(x)"
   ]
  },
  {
   "cell_type": "code",
   "execution_count": 70,
   "id": "f2210f99",
   "metadata": {},
   "outputs": [],
   "source": [
    "## Visualization of exponential distribution"
   ]
  },
  {
   "cell_type": "code",
   "execution_count": 73,
   "id": "34f270fc",
   "metadata": {},
   "outputs": [
    {
     "data": {
      "image/png": "[encoded data removed]",
      "text/plain": [
       "<Figure size 640x480 with 1 Axes>"
      ]
     },
     "metadata": {},
     "output_type": "display_data"
    }
   ],
   "source": [
    "from numpy import random\n",
    "import matplotlib.pyplot as plt\n",
    "import seaborn as sns\n",
    "\n",
    "sns.kdeplot(random.exponential(3,size=1000))\n",
    "plt.show()"
   ]
  },
  {
   "cell_type": "code",
   "execution_count": 74,
   "id": "97837d12",
   "metadata": {},
   "outputs": [],
   "source": [
    "## Note:\n",
    "## Poisson distribution deals with number of occurences of an event in a time period \n",
    "## whereas exponential distribution deals with the time between these events."
   ]
  },
  {
   "cell_type": "markdown",
   "id": "b0347ebf",
   "metadata": {},
   "source": [
    "## CHI SQUARE DISTRIBUTION"
   ]
  },
  {
   "cell_type": "code",
   "execution_count": 75,
   "id": "ec5eb294",
   "metadata": {},
   "outputs": [],
   "source": [
    "## Chi Square Distribution works on the basis to verify the hypothesis\n",
    "## It has 2 parameter:\n",
    "## df - degree of freedom\n",
    "## size - dimension of returned array"
   ]
  },
  {
   "cell_type": "code",
   "execution_count": 76,
   "id": "8c68a856",
   "metadata": {},
   "outputs": [
    {
     "name": "stdout",
     "output_type": "stream",
     "text": [
      "[[7.08094604 7.65208512 1.3899024 ]\n",
      " [0.44042742 1.35266659 2.16449213]]\n"
     ]
    }
   ],
   "source": [
    "from numpy import random\n",
    "\n",
    "x = random.chisquare(df=2,size=(2,3))\n",
    "print(x)"
   ]
  },
  {
   "cell_type": "code",
   "execution_count": 77,
   "id": "0c4ac3d1",
   "metadata": {},
   "outputs": [],
   "source": [
    "## Visualization of Chi Square Distribution"
   ]
  },
  {
   "cell_type": "code",
   "execution_count": 80,
   "id": "5d641bf5",
   "metadata": {},
   "outputs": [
    {
     "data": {
      "image/png": "[encoded data removed]",
      "text/plain": [
       "<Figure size 640x480 with 1 Axes>"
      ]
     },
     "metadata": {},
     "output_type": "display_data"
    }
   ],
   "source": [
    "from numpy import random\n",
    "import matplotlib.pyplot as plt\n",
    "import seaborn as sns\n",
    "\n",
    "sns.kdeplot(random.chisquare(df=3,size=1000))\n",
    "plt.show()"
   ]
  },
  {
   "cell_type": "markdown",
   "id": "637034a0",
   "metadata": {},
   "source": [
    "## RAYLEIGH DISTRIBUTION"
   ]
  },
  {
   "cell_type": "code",
   "execution_count": 81,
   "id": "5fc7d088",
   "metadata": {},
   "outputs": [],
   "source": [
    "## It is used to model the magnitute of the events, whose component are:\n",
    "## independent to each other and\n",
    "## identically distributed in gaussian random varaible with\n",
    "## zero mean and equal variance\n",
    "\n",
    "## It has 2 paramter:\n",
    "## scale - standard deviations\n",
    "## size - returned shape of array"
   ]
  },
  {
   "cell_type": "code",
   "execution_count": 84,
   "id": "8c5e9418",
   "metadata": {},
   "outputs": [
    {
     "name": "stdout",
     "output_type": "stream",
     "text": [
      "[[3.21739346 0.74036391]\n",
      " [1.51077111 4.01475243]\n",
      " [2.23478763 3.65098164]]\n"
     ]
    }
   ],
   "source": [
    "from numpy import random\n",
    "\n",
    "x = random.rayleigh(scale=2,size=(3,2))\n",
    "print(x)"
   ]
  },
  {
   "cell_type": "code",
   "execution_count": 85,
   "id": "19654cf2",
   "metadata": {},
   "outputs": [],
   "source": [
    "## Visualization of Rayleigh distribution"
   ]
  },
  {
   "cell_type": "code",
   "execution_count": 87,
   "id": "c289f58d",
   "metadata": {},
   "outputs": [
    {
     "data": {
      "image/png": "[encoded data removed]",
      "text/plain": [
       "<Figure size 500x500 with 1 Axes>"
      ]
     },
     "metadata": {},
     "output_type": "display_data"
    }
   ],
   "source": [
    "from numpy import random\n",
    "import matplotlib.pyplot as plt\n",
    "import seaborn as sns\n",
    "\n",
    "sns.displot(random.rayleigh(scale=4, size=1000), kde=True)\n",
    "plt.show()"
   ]
  },
  {
   "cell_type": "code",
   "execution_count": null,
   "id": "ab275475",
   "metadata": {},
   "outputs": [],
   "source": []
  },
  {
   "cell_type": "markdown",
   "id": "80569d4f",
   "metadata": {},
   "source": [
    "# NUMPY UFUNCS(UNIVERSAL FUNCTIONS)"
   ]
  },
  {
   "cell_type": "code",
   "execution_count": 90,
   "id": "45c422f2",
   "metadata": {},
   "outputs": [],
   "source": [
    "## It is used to implement vectorization in numpy array.\n",
    "## It is faster than iterating over element\n",
    "## It is helpful in computation.\n",
    "## Vectorization in computation is the process of converting an algorithm to work on single value to\n",
    "## work on set of values at one time."
   ]
  },
  {
   "cell_type": "code",
   "execution_count": 95,
   "id": "a05fa103",
   "metadata": {},
   "outputs": [
    {
     "name": "stdout",
     "output_type": "stream",
     "text": [
      "[6, 8, 10, 12]\n",
      "[ 6  8 10 12]\n"
     ]
    }
   ],
   "source": [
    "## Problem statement : sum each elements from one list to another list\n",
    "\n",
    "a = [1,2,3,4]\n",
    "b = [5,6,7,8]\n",
    "\n",
    "## Using iteration(zip)\n",
    "x = []\n",
    "for i, j in zip(a,b):\n",
    "    x.append(i+j)\n",
    "print(x)\n",
    "\n",
    "## Using add function(ufunc)\n",
    "import numpy as np\n",
    "\n",
    "y = np.add(a,b)\n",
    "print(y)"
   ]
  },
  {
   "cell_type": "code",
   "execution_count": 99,
   "id": "72ada40f",
   "metadata": {},
   "outputs": [
    {
     "name": "stdout",
     "output_type": "stream",
     "text": [
      "<class 'numpy.ufunc'>\n"
     ]
    }
   ],
   "source": [
    "## Check the function is ufunc or not using type()\n",
    "\n",
    "import numpy\n",
    "print(type(numpy.add))"
   ]
  },
  {
   "cell_type": "code",
   "execution_count": 100,
   "id": "76e2c4a2",
   "metadata": {},
   "outputs": [
    {
     "name": "stdout",
     "output_type": "stream",
     "text": [
      "<class 'numpy._ArrayFunctionDispatcher'>\n"
     ]
    }
   ],
   "source": [
    "import numpy \n",
    "print(type(numpy.concatenate))"
   ]
  },
  {
   "cell_type": "code",
   "execution_count": 102,
   "id": "d820fe6d",
   "metadata": {},
   "outputs": [
    {
     "ename": "AttributeError",
     "evalue": "module 'numpy' has no attribute 'blah'",
     "output_type": "error",
     "traceback": [
      "\u001b[1;31m---------------------------------------------------------------------------\u001b[0m",
      "\u001b[1;31mAttributeError\u001b[0m                            Traceback (most recent call last)",
      "\u001b[1;32m~\\AppData\\Local\\Temp\\ipykernel_7296\\4241891463.py\u001b[0m in \u001b[0;36m<module>\u001b[1;34m\u001b[0m\n\u001b[0;32m      1\u001b[0m \u001b[1;31m# Wrong function will report error\u001b[0m\u001b[1;33m\u001b[0m\u001b[1;33m\u001b[0m\u001b[0m\n\u001b[0;32m      2\u001b[0m \u001b[1;32mimport\u001b[0m \u001b[0mnumpy\u001b[0m\u001b[1;33m\u001b[0m\u001b[1;33m\u001b[0m\u001b[0m\n\u001b[1;32m----> 3\u001b[1;33m \u001b[0mprint\u001b[0m\u001b[1;33m(\u001b[0m\u001b[0mtype\u001b[0m\u001b[1;33m(\u001b[0m\u001b[0mnumpy\u001b[0m\u001b[1;33m.\u001b[0m\u001b[0mblah\u001b[0m\u001b[1;33m)\u001b[0m\u001b[1;33m)\u001b[0m\u001b[1;33m\u001b[0m\u001b[1;33m\u001b[0m\u001b[0m\n\u001b[0m",
      "\u001b[1;32m~\\AppData\\Roaming\\Python\\Python39\\site-packages\\numpy\\__init__.py\u001b[0m in \u001b[0;36m__getattr__\u001b[1;34m(attr)\u001b[0m\n\u001b[0;32m    360\u001b[0m             \u001b[1;32mraise\u001b[0m \u001b[0mRuntimeError\u001b[0m\u001b[1;33m(\u001b[0m\u001b[1;34m\"Tester was removed in NumPy 1.25.\"\u001b[0m\u001b[1;33m)\u001b[0m\u001b[1;33m\u001b[0m\u001b[1;33m\u001b[0m\u001b[0m\n\u001b[0;32m    361\u001b[0m \u001b[1;33m\u001b[0m\u001b[0m\n\u001b[1;32m--> 362\u001b[1;33m         raise AttributeError(\"module {!r} has no attribute \"\n\u001b[0m\u001b[0;32m    363\u001b[0m                              \"{!r}\".format(__name__, attr))\n\u001b[0;32m    364\u001b[0m \u001b[1;33m\u001b[0m\u001b[0m\n",
      "\u001b[1;31mAttributeError\u001b[0m: module 'numpy' has no attribute 'blah'"
     ]
    }
   ],
   "source": [
    "# Wrong function will report error\n",
    "import numpy\n",
    "print(type(numpy.blah))"
   ]
  },
  {
   "cell_type": "code",
   "execution_count": 122,
   "id": "d2b4c4d8",
   "metadata": {},
   "outputs": [
    {
     "name": "stdout",
     "output_type": "stream",
     "text": [
      "ARRAYS ARE : [10 20 30 40 50] AND [ 5 10 15 20 25]\n",
      "\n",
      "ADDITION OF ARRAY IS : [15 30 45 60 75] TYPE : <class 'numpy.ufunc'> \n",
      "SUBTRACTION OF ARRAY IS : [ 5 10 15 20 25] TYPE : <class 'numpy.ufunc'> \n",
      "MULTIPLY OF ARRAY IS : [  50  200  450  800 1250] TYPE : <class 'numpy.ufunc'> \n",
      "DIVIDE OF ARRAY IS : [0.5 0.5 0.5 0.5 0.5] TYPE : <class 'numpy.ufunc'> \n",
      "POWER OF ARRAY IS : [       10       400     27000   2560000 312500000] TYPE : <class 'numpy.ufunc'> \n",
      "MOD OF ARRAY UISNG MOD IS : [0 0 0 0 0] TYPE : <class 'numpy.ufunc'> \n",
      "REMAINDER OF ARRAY USING REMAINDER IS : [0 0 0 0 0] TYPE : <class 'numpy.ufunc'> \n",
      "Quotient and Mod OF ARRAY IS : (array([2, 2, 2, 2, 2]), array([0, 0, 0, 0, 0])) TYPE : <class 'numpy.ufunc'> \n",
      "ABSOLUTE VALUE OF ARRAY USING ABSOLUTE IS : [10 20 30 40 50] TYPE : <class 'numpy.ufunc'> \n",
      "ABSOLUE OF ARRAY USING ABS IS : [10 20 30 40 50] TYPE : <class 'numpy.ufunc'>\n"
     ]
    }
   ],
   "source": [
    "## Arithmetic Opertion in Numpy using ufunc :\n",
    "\n",
    "import numpy\n",
    "arr_1 = numpy.array([10,20,30,40,50])\n",
    "arr_2 = numpy.array([5,10,15,20,25])\n",
    "\n",
    "# USING ADD\n",
    "add_arr = numpy.add(arr_1,arr_2)\n",
    "\n",
    "# USING SUBTRACT\n",
    "subtract_arr = numpy.subtract(arr_1,arr_2)\n",
    "\n",
    "# USING MULTIPLY\n",
    "multiply_arr = numpy.multiply(arr_1,arr_2)\n",
    "\n",
    "# USING DIVIDE\n",
    "divide_arr = numpy.divide(arr_2,arr_1)\n",
    "\n",
    "# USING POWER\n",
    "arr = numpy.array([1,2,3,4,5])\n",
    "power_arr = numpy.power(arr_1,arr)\n",
    "\n",
    "# USING MOD/REMAINDER\n",
    "mod_arr = numpy.mod(arr_1,arr_2)\n",
    "remainder_arr = numpy.remainder(arr_1,arr_2)\n",
    "\n",
    "# USING DIVMOD\n",
    "divmod_arr = numpy.divmod(arr_1,arr_2)\n",
    "\n",
    "# USING ABSOLUTE/ABS\n",
    "absolute_arr = numpy.absolute(arr_1)\n",
    "abs_arr = numpy.abs(arr_1)\n",
    "\n",
    "## PRINTING ARRAYS\n",
    "print(\"ARRAYS ARE :\",arr_1,\"AND\", arr_2)\n",
    "\n",
    "## PRINTING CALCULATIONS\n",
    "print(\"\\nADDITION OF ARRAY IS :\", add_arr, \"TYPE :\", type(numpy.add),\n",
    "     \"\\nSUBTRACTION OF ARRAY IS :\", subtract_arr, \"TYPE :\", type(numpy.subtract),\n",
    "     \"\\nMULTIPLY OF ARRAY IS :\", multiply_arr, \"TYPE :\", type(numpy.multiply),\n",
    "     \"\\nDIVIDE OF ARRAY IS :\", divide_arr, \"TYPE :\", type(numpy.divide),\n",
    "     \"\\nPOWER OF ARRAY IS :\", power_arr, \"TYPE :\", type(numpy.power),\n",
    "     \"\\nMOD OF ARRAY UISNG MOD IS :\", mod_arr, \"TYPE :\", type(numpy.mod),\n",
    "     \"\\nREMAINDER OF ARRAY USING REMAINDER IS :\", remainder_arr, \"TYPE :\", type(numpy.remainder),\n",
    "     \"\\nQuotient and Mod OF ARRAY IS :\", divmod_arr, \"TYPE :\", type(numpy.divmod),\n",
    "     \"\\nABSOLUTE VALUE OF ARRAY USING ABSOLUTE IS :\", absolute_arr, \"TYPE :\", type(numpy.absolute),\n",
    "     \"\\nABSOLUE OF ARRAY USING ABS IS :\", abs_arr, \"TYPE :\", type(numpy.abs))"
   ]
  },
  {
   "cell_type": "markdown",
   "id": "2f8e0bd5",
   "metadata": {},
   "source": [
    "## ROUNDING DECIMAL VALUE IN NumPy."
   ]
  },
  {
   "cell_type": "code",
   "execution_count": 130,
   "id": "dc153177",
   "metadata": {},
   "outputs": [],
   "source": [
    "## There are primarily five ways of rounding off decimals in NumPy:\n",
    "## truncation/fix : return the float number closest to zero.\n",
    "## rounding : increments preceding digit or decimal by 1 if >=5.\n",
    "## floor : rounds off decimal to nearest lower integer.\n",
    "## ceil : rounds off decimal to nearest upper integer."
   ]
  },
  {
   "cell_type": "code",
   "execution_count": 131,
   "id": "b100336f",
   "metadata": {},
   "outputs": [],
   "source": [
    "import numpy as np"
   ]
  },
  {
   "cell_type": "code",
   "execution_count": 132,
   "id": "499eb79e",
   "metadata": {},
   "outputs": [
    {
     "name": "stdout",
     "output_type": "stream",
     "text": [
      "[-6.  6.] \n",
      " [-6.  6.]\n"
     ]
    }
   ],
   "source": [
    "# USING TRUNCATE OR FIX\n",
    "t = np.trunc([-6.78,6.66])\n",
    "f = np.fix([-6.78,6.66])\n",
    "print(t,\"\\n\",f)"
   ]
  },
  {
   "cell_type": "code",
   "execution_count": 136,
   "id": "009e7037",
   "metadata": {},
   "outputs": [
    {
     "name": "stdout",
     "output_type": "stream",
     "text": [
      "7.0\n"
     ]
    }
   ],
   "source": [
    "# USING ROUND\n",
    "r = np.round(6.6667,0)\n",
    "print(r)"
   ]
  },
  {
   "cell_type": "code",
   "execution_count": 134,
   "id": "36811486",
   "metadata": {},
   "outputs": [
    {
     "name": "stdout",
     "output_type": "stream",
     "text": [
      "[-7.  6.]\n"
     ]
    }
   ],
   "source": [
    "# USING FLOOR\n",
    "fl = np.floor([-6.78,6.66])\n",
    "print(fl)"
   ]
  },
  {
   "cell_type": "code",
   "execution_count": 165,
   "id": "b7423f8c",
   "metadata": {},
   "outputs": [
    {
     "name": "stdout",
     "output_type": "stream",
     "text": [
      "[-3.  5.]\n",
      "<class 'numpy.ufunc'>\n"
     ]
    }
   ],
   "source": [
    "# USING CEIL\n",
    "c = np.ceil([-3.12,4.66])\n",
    "print(c)\n",
    "print(type(np.ceil))"
   ]
  },
  {
   "cell_type": "markdown",
   "id": "603645ef",
   "metadata": {},
   "source": [
    "## Log function in ufunc"
   ]
  },
  {
   "cell_type": "code",
   "execution_count": 137,
   "id": "69ad80de",
   "metadata": {},
   "outputs": [],
   "source": [
    "## NumPy provide lof function to calculate log at base 2,e or 10\n",
    "## We can also create log function of any base using frompyfunc()."
   ]
  },
  {
   "cell_type": "code",
   "execution_count": 141,
   "id": "1a405bb9",
   "metadata": {},
   "outputs": [
    {
     "name": "stdout",
     "output_type": "stream",
     "text": [
      "[0.         1.         1.5849625  2.         2.32192809 2.5849625\n",
      " 2.80735492 3.         3.169925  ]\n"
     ]
    }
   ],
   "source": [
    "# Finding log with base 2 using log2()\n",
    "\n",
    "import numpy as np\n",
    "arr = np.arange(1,10)\n",
    "log_2 = np.log2(arr)\n",
    "print(log_2)"
   ]
  },
  {
   "cell_type": "code",
   "execution_count": 143,
   "id": "86736e73",
   "metadata": {},
   "outputs": [],
   "source": [
    "# Note : arange(1,10) returns array with integers including 1 but not including 10."
   ]
  },
  {
   "cell_type": "code",
   "execution_count": 144,
   "id": "c9c5b0c5",
   "metadata": {},
   "outputs": [
    {
     "name": "stdout",
     "output_type": "stream",
     "text": [
      "[1.         1.04139269 1.07918125 1.11394335 1.14612804 1.17609126\n",
      " 1.20411998 1.23044892 1.25527251 1.2787536 ]\n"
     ]
    }
   ],
   "source": [
    "# Finding log with base 10 using log10()\n",
    "\n",
    "import numpy as np\n",
    "arr = np.arange(10,20)\n",
    "log_10 = np.log10(arr)\n",
    "print(log_10)"
   ]
  },
  {
   "cell_type": "code",
   "execution_count": 164,
   "id": "25cec28f",
   "metadata": {},
   "outputs": [
    {
     "name": "stdout",
     "output_type": "stream",
     "text": [
      "[0.         0.69314718 1.09861229 1.38629436 1.60943791 1.79175947\n",
      " 1.94591015 2.07944154 2.19722458 2.30258509 2.39789527 2.48490665\n",
      " 2.56494936 2.63905733 2.7080502  2.77258872 2.83321334 2.89037176\n",
      " 2.94443898]\n",
      "<class 'numpy.ufunc'>\n"
     ]
    }
   ],
   "source": [
    "# Finding Natural Log (log with base e) using log()\n",
    "\n",
    "import numpy as np\n",
    "arr = np.arange(1,20)\n",
    "log_e = np.log(arr)\n",
    "print(log_e)\n",
    "print(type(np.log))"
   ]
  },
  {
   "cell_type": "code",
   "execution_count": 152,
   "id": "1a12e514",
   "metadata": {},
   "outputs": [
    {
     "name": "stdout",
     "output_type": "stream",
     "text": [
      "4.0\n"
     ]
    }
   ],
   "source": [
    "# Finding log of any base\n",
    "\n",
    "from math import log\n",
    "import numpy as np\n",
    "nplog = np.frompyfunc(log, 2, 1)\n",
    "\n",
    "# log_function(number , base)\n",
    "print(nplog(16, 2))"
   ]
  },
  {
   "cell_type": "markdown",
   "id": "fd4cf675",
   "metadata": {},
   "source": [
    "## Summations in NumPy array"
   ]
  },
  {
   "cell_type": "code",
   "execution_count": 153,
   "id": "8912e41a",
   "metadata": {},
   "outputs": [],
   "source": [
    "# Summation happens over n elements."
   ]
  },
  {
   "cell_type": "code",
   "execution_count": 155,
   "id": "378b4ed9",
   "metadata": {},
   "outputs": [
    {
     "name": "stdout",
     "output_type": "stream",
     "text": [
      "36\n"
     ]
    }
   ],
   "source": [
    "## Adding all the elements and returning single sum \n",
    "\n",
    "import numpy\n",
    "arr_1 = numpy.array([1,2,3,4])\n",
    "arr_2 = numpy.array([5,6,7,8])\n",
    "sum = numpy.sum([arr_1,arr_2])\n",
    "print(sum)"
   ]
  },
  {
   "cell_type": "code",
   "execution_count": 157,
   "id": "de49d2c9",
   "metadata": {},
   "outputs": [
    {
     "name": "stdout",
     "output_type": "stream",
     "text": [
      "[ 6 60]\n"
     ]
    }
   ],
   "source": [
    "## Adding element of array using axis\n",
    "\n",
    "import numpy\n",
    "arr_1 = numpy.array([1,2,3])\n",
    "arr_2 = numpy.array([10,20,30])\n",
    "sum = numpy.sum([arr_1, arr_2], axis=1)\n",
    "print(sum)"
   ]
  },
  {
   "cell_type": "code",
   "execution_count": 171,
   "id": "636a9856",
   "metadata": {},
   "outputs": [
    {
     "name": "stdout",
     "output_type": "stream",
     "text": [
      "[ 1  3  6 10]\n"
     ]
    }
   ],
   "source": [
    "## Cummulative sum (Cummulative sum means partially adding the elements in array.)\n",
    "\n",
    "import numpy\n",
    "arr = numpy.array([1,2,3,4])\n",
    "sum = numpy.cumsum(arr)\n",
    "print(sum)"
   ]
  },
  {
   "cell_type": "code",
   "execution_count": 160,
   "id": "a088bf9c",
   "metadata": {},
   "outputs": [],
   "source": [
    "## Working = [1, 1+2, 1+2+3, 1+2+3+4]\n",
    "## Output = [1, 3, 6, 10]"
   ]
  },
  {
   "cell_type": "markdown",
   "id": "f87503a2",
   "metadata": {},
   "source": [
    "### Products in NumPy array"
   ]
  },
  {
   "cell_type": "code",
   "execution_count": 173,
   "id": "d046809d",
   "metadata": {},
   "outputs": [
    {
     "name": "stdout",
     "output_type": "stream",
     "text": [
      "24\n",
      "<class 'numpy._ArrayFunctionDispatcher'>\n"
     ]
    }
   ],
   "source": [
    "# Returning the prod of all the elements in array\n",
    "\n",
    "import numpy as np\n",
    "arr = np.array([1,2,3,4])\n",
    "print(np.prod(arr))\n",
    "print(type(np.prod))"
   ]
  },
  {
   "cell_type": "code",
   "execution_count": null,
   "id": "3c3a6184",
   "metadata": {},
   "outputs": [],
   "source": [
    "# Output = 1*2*3*4 = 24"
   ]
  },
  {
   "cell_type": "code",
   "execution_count": 174,
   "id": "5e32e5ba",
   "metadata": {},
   "outputs": [
    {
     "name": "stdout",
     "output_type": "stream",
     "text": [
      "720\n"
     ]
    }
   ],
   "source": [
    "import numpy as np\n",
    "arr_1 = np.array([1,2,3])\n",
    "arr_2 = np.array([4,5,6])\n",
    "print(np.prod([arr_1, arr_2]))"
   ]
  },
  {
   "cell_type": "code",
   "execution_count": 175,
   "id": "e4ee6429",
   "metadata": {},
   "outputs": [],
   "source": [
    "# Output = 1*2*3*4*5*6 = 720"
   ]
  },
  {
   "cell_type": "code",
   "execution_count": 183,
   "id": "a65812ca",
   "metadata": {},
   "outputs": [
    {
     "name": "stdout",
     "output_type": "stream",
     "text": [
      "[  6 120]\n",
      "<class 'numpy._ArrayFunctionDispatcher'>\n"
     ]
    }
   ],
   "source": [
    "# Returning product of each array separatly\n",
    "\n",
    "import numpy as np\n",
    "arr_1 = np.array([1,2,3])\n",
    "arr_2 = np.array([4,5,6])\n",
    "print(np.prod([arr_1,arr_2], axis=1))\n",
    "print(type(np.prod))"
   ]
  },
  {
   "cell_type": "code",
   "execution_count": 177,
   "id": "6e996c6e",
   "metadata": {},
   "outputs": [],
   "source": [
    "# Output = 1*2*3 , 4*5*6"
   ]
  },
  {
   "cell_type": "code",
   "execution_count": 182,
   "id": "8233e7ff",
   "metadata": {},
   "outputs": [
    {
     "name": "stdout",
     "output_type": "stream",
     "text": [
      "[ 2  4  8 16]\n",
      "<class 'numpy._ArrayFunctionDispatcher'>\n"
     ]
    }
   ],
   "source": [
    "# Returning partial product of element in array\n",
    "\n",
    "import numpy as np\n",
    "arr = np.array([2,2,2,2])\n",
    "print(np.cumprod(arr))\n",
    "print(type(np.cumprod))"
   ]
  },
  {
   "cell_type": "code",
   "execution_count": 181,
   "id": "6ebf1f07",
   "metadata": {},
   "outputs": [],
   "source": [
    "# Output = 2, 2*2, 2*2*2, 2*2*2*2"
   ]
  },
  {
   "cell_type": "markdown",
   "id": "4115bfec",
   "metadata": {},
   "source": [
    "### Differences Function"
   ]
  },
  {
   "cell_type": "code",
   "execution_count": 184,
   "id": "5532486f",
   "metadata": {},
   "outputs": [],
   "source": [
    "## Discrete differences means subtracting two successive elements from array."
   ]
  },
  {
   "cell_type": "code",
   "execution_count": 185,
   "id": "b2b6855d",
   "metadata": {},
   "outputs": [
    {
     "name": "stdout",
     "output_type": "stream",
     "text": [
      "[2 3 2]\n"
     ]
    }
   ],
   "source": [
    "# Example :\n",
    "import numpy as np\n",
    "arr = np.array([2,4,7,9])\n",
    "diff = np.diff(arr)\n",
    "print(diff)"
   ]
  },
  {
   "cell_type": "code",
   "execution_count": 188,
   "id": "fe4c0bbe",
   "metadata": {},
   "outputs": [],
   "source": [
    "# Output = [4-2, 7-4, 9-7] = [2, 3, 2]"
   ]
  },
  {
   "cell_type": "code",
   "execution_count": 189,
   "id": "5ebea59f",
   "metadata": {},
   "outputs": [
    {
     "name": "stdout",
     "output_type": "stream",
     "text": [
      "[ 10 -40  20]\n"
     ]
    }
   ],
   "source": [
    "# using parameter n we can perforn n times subtraction\n",
    "\n",
    "import numpy as np\n",
    "arr = np.array([10,15,30,65,80,95])\n",
    "diff_n = np.diff(arr, n=3)\n",
    "print(diff_n)"
   ]
  },
  {
   "cell_type": "code",
   "execution_count": 192,
   "id": "7662d881",
   "metadata": {},
   "outputs": [],
   "source": [
    "# dry run : [10, 15, 30, 65, 80, 95]\n",
    "# for n = 1\n",
    "# [15-10, 30-15, 65-30, 80-65, 95-80] = [5,15,35,15,15]\n",
    "# for n = 2\n",
    "# [15-5, 35-15, 15-35, 15-15] = [10, 20, -20, 0]\n",
    "# for n = 3\n",
    "# [20-10, -20-20, 0-(-20)] = [10, -40, 20]"
   ]
  },
  {
   "cell_type": "markdown",
   "id": "2b34836c",
   "metadata": {},
   "source": [
    "### LCM (LOWEST COMMON MULTIPLE) IN NumPy array"
   ]
  },
  {
   "cell_type": "code",
   "execution_count": 205,
   "id": "f4cfe37b",
   "metadata": {},
   "outputs": [
    {
     "name": "stdout",
     "output_type": "stream",
     "text": [
      "12\n",
      "<class 'numpy.ufunc'>\n"
     ]
    }
   ],
   "source": [
    "# Finding lcm of 2 number using lcm() function\n",
    "\n",
    "import numpy as np\n",
    "n1 = 4\n",
    "n2 = 6\n",
    "print(np.lcm(n1,n2))\n",
    "print(type(np.lcm))"
   ]
  },
  {
   "cell_type": "code",
   "execution_count": 207,
   "id": "ad3a66db",
   "metadata": {},
   "outputs": [],
   "source": [
    "## lcm of 4 and 6 is (4*3 = 12 and 6*2 = 12)"
   ]
  },
  {
   "cell_type": "code",
   "execution_count": 204,
   "id": "96905acb",
   "metadata": {},
   "outputs": [
    {
     "name": "stdout",
     "output_type": "stream",
     "text": [
      "72\n",
      "<class 'builtin_function_or_method'>\n"
     ]
    }
   ],
   "source": [
    "# Finding lcm of array \n",
    "\n",
    "import numpy as np\n",
    "arr = np.array([4,6,8,9])\n",
    "lcm_arr = np.lcm.reduce(arr)\n",
    "print(lcm_arr)\n",
    "print(type(np.lcm.reduce))"
   ]
  },
  {
   "cell_type": "code",
   "execution_count": 208,
   "id": "a93c5a47",
   "metadata": {},
   "outputs": [],
   "source": [
    "## lcm of 4,6,8 and 9 is (4*16 , 6*12, 8*9 and 9*8)"
   ]
  },
  {
   "cell_type": "code",
   "execution_count": 198,
   "id": "314e0d11",
   "metadata": {},
   "outputs": [],
   "source": [
    "# The reduce() method will use the ufunc, \n",
    "# in this case the lcm() function, on each element, and reduce the array by one dimension."
   ]
  },
  {
   "cell_type": "code",
   "execution_count": 200,
   "id": "2542e496",
   "metadata": {},
   "outputs": [
    {
     "name": "stdout",
     "output_type": "stream",
     "text": [
      "2520\n"
     ]
    }
   ],
   "source": [
    "# Finding lcm of range\n",
    "\n",
    "import numpy as np\n",
    "arr = np.arange(1,11)\n",
    "lcm_range = np.lcm.reduce(arr)\n",
    "print(lcm_range)"
   ]
  },
  {
   "cell_type": "markdown",
   "id": "8a1bd567",
   "metadata": {},
   "source": [
    "### HCF (Highest Common Factor) or GCD (Greatest Common Denominator)"
   ]
  },
  {
   "cell_type": "code",
   "execution_count": 213,
   "id": "4bbd77f1",
   "metadata": {},
   "outputs": [
    {
     "name": "stdout",
     "output_type": "stream",
     "text": [
      "4\n",
      "<class 'numpy.ufunc'>\n"
     ]
    }
   ],
   "source": [
    "# Find the HCF of the following two numbers:\n",
    "\n",
    "import numpy as np\n",
    "n1 = 16\n",
    "n2 = 36\n",
    "print(np.gcd(n1,n2))\n",
    "print(type(np.gcd))"
   ]
  },
  {
   "cell_type": "code",
   "execution_count": 216,
   "id": "3a38a1d5",
   "metadata": {},
   "outputs": [
    {
     "name": "stdout",
     "output_type": "stream",
     "text": [
      "4\n",
      "<class 'builtin_function_or_method'>\n"
     ]
    }
   ],
   "source": [
    "# Find the GCD for all of the numbers in the following array:\n",
    "\n",
    "import numpy as np\n",
    "arr = np.array([4,20,32,44])\n",
    "gcd = np.gcd.reduce(arr)\n",
    "print(gcd)\n",
    "print(type(np.gcd.reduce))"
   ]
  },
  {
   "cell_type": "markdown",
   "id": "9c140a7f",
   "metadata": {},
   "source": [
    "### TRIGONOMETRIC FUNCTION IN NUMPY"
   ]
  },
  {
   "cell_type": "code",
   "execution_count": 218,
   "id": "2cab643e",
   "metadata": {},
   "outputs": [],
   "source": [
    "# NumPy provides the ufuncs sin(), cos() and tan() that take values in radians and \n",
    "# produce the corresponding sin, cos and tan values."
   ]
  },
  {
   "cell_type": "code",
   "execution_count": 221,
   "id": "9477baea",
   "metadata": {},
   "outputs": [
    {
     "name": "stdout",
     "output_type": "stream",
     "text": [
      "Sin value of pi/2 is :  1.0 \n",
      "Cos value of pi/4 is :  0.7071067811865476 \n",
      "Tan value of pi/8 is :  0.41421356237309503\n"
     ]
    }
   ],
   "source": [
    "# calculating sin, cos and tan values\n",
    "# np.pi = 3.14159\n",
    "\n",
    "import numpy as np\n",
    "sin_value = np.sin(np.pi/2)\n",
    "cos_value = np.cos(np.pi/4)\n",
    "tan_value = np.tan(np.pi/8)\n",
    "\n",
    "print(\"Sin value of pi/2 is : \",sin_value,\n",
    "     \"\\nCos value of pi/4 is : \",cos_value,\n",
    "     \"\\nTan value of pi/8 is : \",tan_value)"
   ]
  },
  {
   "cell_type": "code",
   "execution_count": 222,
   "id": "0ddf5a2e",
   "metadata": {},
   "outputs": [
    {
     "name": "stdout",
     "output_type": "stream",
     "text": [
      "Sin value of arr is :  [1.         0.8660254  0.70710678 0.58778525] \n",
      "Cos value of arr is :  [6.12323400e-17 5.00000000e-01 7.07106781e-01 8.09016994e-01] \n",
      "Tan value of arr is :  [1.63312394e+16 1.73205081e+00 1.00000000e+00 7.26542528e-01]\n"
     ]
    }
   ],
   "source": [
    "# Find sine, cose, tan values for all of the values in arr:\n",
    "\n",
    "import numpy as np\n",
    "arr = np.array([np.pi/2, np.pi/3, np.pi/4, np.pi/5])\n",
    "sin_value = np.sin(arr)\n",
    "cos_value = np.cos(arr)\n",
    "tan_value = np.tan(arr)\n",
    "\n",
    "print(\"Sin value of arr is : \",sin_value,\n",
    "     \"\\nCos value of arr is : \",cos_value,\n",
    "     \"\\nTan value of arr is : \",tan_value)"
   ]
  },
  {
   "cell_type": "code",
   "execution_count": 226,
   "id": "edcf3e69",
   "metadata": {},
   "outputs": [
    {
     "name": "stdout",
     "output_type": "stream",
     "text": [
      "Radian value for degree : [ 90 180 270 360]  is :  [1.57079633 3.14159265 4.71238898 6.28318531] \n",
      "Degree value for radian : [1.57079633 3.14159265 4.71238898 6.28318531]  is :  [ 90. 180. 270. 360.]\n"
     ]
    }
   ],
   "source": [
    "# Convert Degrees Into Radians and Radians to Degrees\n",
    "## Using deg2rad() and rad2deg()\n",
    "# Note: radians values are pi/180 * degree_values.\n",
    "\n",
    "import numpy as np\n",
    "arr = np.array([90, 180, 270, 360])\n",
    "\n",
    "# Converting degree to radian\n",
    "rad = np.deg2rad(arr)\n",
    "\n",
    "# Converting radian to degree\n",
    "deg = np.rad2deg(rad)\n",
    "\n",
    "print(\"Radian value for degree :\",arr,\" is : \",rad,\n",
    "     \"\\nDegree value for radian :\",rad,\" is : \",deg)"
   ]
  },
  {
   "cell_type": "code",
   "execution_count": 227,
   "id": "780e9632",
   "metadata": {},
   "outputs": [],
   "source": [
    "# NumPy provides ufuncs arcsin(), arccos() and arctan()\n",
    "# This produce radian values for corresponding inverse of sin, cos and tan values given."
   ]
  },
  {
   "cell_type": "code",
   "execution_count": 235,
   "id": "ed5d9d17",
   "metadata": {},
   "outputs": [
    {
     "name": "stdout",
     "output_type": "stream",
     "text": [
      "Sin inverse of : 1.0  is : 1.5707963267948966 \n",
      "Cos inverse of : 0.809016994  is : 0.6283185313558572 \n",
      "tan inverse of : 0.0  is : 0.0\n"
     ]
    }
   ],
   "source": [
    "import numpy as np\n",
    "\n",
    "sin = 1.0\n",
    "sin_inverse = np.arcsin(sin)\n",
    "\n",
    "cos = 8.09016994e-01\n",
    "cos_inverse = np.arccos(cos)\n",
    "\n",
    "tan = 0.\n",
    "tan_inverse = np.arctan(tan)\n",
    "\n",
    "print(\"Sin inverse of :\",sin,\" is :\",sin_inverse,\n",
    "     \"\\nCos inverse of :\",cos,\" is :\",cos_inverse,\n",
    "     \"\\ntan inverse of :\",tan,\" is :\",tan_inverse,)"
   ]
  },
  {
   "cell_type": "code",
   "execution_count": 237,
   "id": "8a363f57",
   "metadata": {},
   "outputs": [
    {
     "name": "stdout",
     "output_type": "stream",
     "text": [
      "Sin inverse of : [ 1.  -1.   0.1]  is : [ 1.57079633 -1.57079633  0.10016742] \n",
      "Cos inverse of : [ 1.  -1.   0.1]  is : [0.         3.14159265 1.47062891] \n",
      "tan inverse of : [ 1.  -1.   0.1]  is : [ 0.78539816 -0.78539816  0.09966865]\n"
     ]
    }
   ],
   "source": [
    "# Find the angle for all of the sine, cose, tan values in the array\n",
    "\n",
    "import numpy as np\n",
    "arr = np.array([1, -1, 0.1])\n",
    "\n",
    "sin = np.arcsin(arr)\n",
    "cos = np.arccos(arr)\n",
    "tan = np.arctan(arr)\n",
    "\n",
    "print(\"Sin inverse of :\",arr,\" is :\",sin,\n",
    "     \"\\nCos inverse of :\",arr,\" is :\",cos,\n",
    "     \"\\ntan inverse of :\",arr,\" is :\",tan)"
   ]
  },
  {
   "cell_type": "markdown",
   "id": "6777ddc7",
   "metadata": {},
   "source": [
    "### Hypotenues"
   ]
  },
  {
   "cell_type": "code",
   "execution_count": 238,
   "id": "fd7248ab",
   "metadata": {},
   "outputs": [],
   "source": [
    "# NumPy provides the hypot() function that takes the base and perpendicular values and \n",
    "# produces hypotenues based on pythagoras theorem."
   ]
  },
  {
   "cell_type": "code",
   "execution_count": 242,
   "id": "16fca0d3",
   "metadata": {},
   "outputs": [
    {
     "name": "stdout",
     "output_type": "stream",
     "text": [
      "12.206555615733702\n",
      "<class 'numpy.ufunc'>\n"
     ]
    }
   ],
   "source": [
    "import numpy as np\n",
    "\n",
    "base = 7\n",
    "height = 10\n",
    "hypo = np.hypot(base, height)\n",
    "print(hypo)\n",
    "print(type(np.hypot))"
   ]
  },
  {
   "cell_type": "markdown",
   "id": "df76976e",
   "metadata": {},
   "source": [
    "### SET "
   ]
  },
  {
   "cell_type": "code",
   "execution_count": 244,
   "id": "eb5159dd",
   "metadata": {},
   "outputs": [],
   "source": [
    "# A set is the collection of unique element.\n",
    "# Set is used for operations like intersection, union and difference operations."
   ]
  },
  {
   "cell_type": "code",
   "execution_count": 245,
   "id": "35ec9bdb",
   "metadata": {},
   "outputs": [
    {
     "name": "stdout",
     "output_type": "stream",
     "text": [
      "[1 2 3 4 5 6 7]\n"
     ]
    }
   ],
   "source": [
    "# Using unique() function to get unique element from array\n",
    "\n",
    "# Example:\n",
    "import numpy as np\n",
    "arr = [1,2,2,3,4,5,5,6,7,7,7]\n",
    "set = np.unique(arr)\n",
    "print(set)"
   ]
  },
  {
   "cell_type": "markdown",
   "id": "7ecae7a2",
   "metadata": {},
   "source": [
    "### Union"
   ]
  },
  {
   "cell_type": "code",
   "execution_count": 246,
   "id": "83ac717e",
   "metadata": {},
   "outputs": [
    {
     "name": "stdout",
     "output_type": "stream",
     "text": [
      "[1 2 3 4 5 6]\n"
     ]
    }
   ],
   "source": [
    "# To find the unique values of two arrays, use the union1d() method.\n",
    "\n",
    "import numpy as np\n",
    "\n",
    "arr_1 = [1,2,3,4]\n",
    "arr_2 = [3,4,5,6,6]\n",
    "union = np.union1d(arr_1,arr_2)\n",
    "print(union)"
   ]
  },
  {
   "cell_type": "markdown",
   "id": "6e5cb8b6",
   "metadata": {},
   "source": [
    "### Intersection"
   ]
  },
  {
   "cell_type": "code",
   "execution_count": 254,
   "id": "6cb1d8bd",
   "metadata": {},
   "outputs": [
    {
     "name": "stdout",
     "output_type": "stream",
     "text": [
      "[3 4]\n"
     ]
    }
   ],
   "source": [
    "# To find the intersection values of two arrays, use the intersect1d() method.\n",
    "\n",
    "import numpy as np\n",
    "\n",
    "arr_1 = [3,4,4,5,6,7,8]\n",
    "arr_2 = [1,1,2,3,4,4]\n",
    "intersect = np.intersect1d(arr_1,arr_2)\n",
    "print(intersect)"
   ]
  },
  {
   "cell_type": "code",
   "execution_count": 250,
   "id": "fcda72e4",
   "metadata": {},
   "outputs": [],
   "source": [
    "## Note : \n",
    "# there is optional function assume_unique, \n",
    "# if it is True, then it speed up computation."
   ]
  },
  {
   "cell_type": "code",
   "execution_count": 256,
   "id": "27a2cc5e",
   "metadata": {},
   "outputs": [
    {
     "name": "stdout",
     "output_type": "stream",
     "text": [
      "[3 4]\n"
     ]
    }
   ],
   "source": [
    "# For example :\n",
    "\n",
    "import numpy as np\n",
    "\n",
    "arr1 = np.array([1, 2, 3, 4])\n",
    "arr2 = np.array([3, 4, 5, 6])\n",
    "\n",
    "newarr = np.intersect1d(arr1, arr2, assume_unique=True)\n",
    "print(newarr)"
   ]
  },
  {
   "cell_type": "code",
   "execution_count": 265,
   "id": "4e6f6e6d",
   "metadata": {},
   "outputs": [
    {
     "name": "stdout",
     "output_type": "stream",
     "text": [
      "[3 4 4 4]\n"
     ]
    }
   ],
   "source": [
    "# If there are duplicate value\n",
    "\n",
    "import numpy as np\n",
    "\n",
    "arr_1 = [3,4,4,5,6,7,8]\n",
    "arr_2 = [1,2,3,4,4]\n",
    "# There are repeated element\n",
    "\n",
    "# If assume_unique is True, it will treat each element as unique in both array\n",
    "intersect = np.intersect1d(arr_1,arr_2,assume_unique=True)\n",
    "print(intersect)"
   ]
  },
  {
   "cell_type": "code",
   "execution_count": 252,
   "id": "a343c17c",
   "metadata": {},
   "outputs": [],
   "source": [
    "# Result shows that there are multiple 4,\n",
    "# because compiler treat the each 4 as the unique element of array"
   ]
  },
  {
   "cell_type": "code",
   "execution_count": 266,
   "id": "326c69c4",
   "metadata": {},
   "outputs": [
    {
     "name": "stdout",
     "output_type": "stream",
     "text": [
      "[3 4]\n"
     ]
    }
   ],
   "source": [
    "# If the assume_unique is False\n",
    "import numpy as np\n",
    "\n",
    "arr_1 = [3,4,4,5,6,7,8]\n",
    "arr_2 = [1,1,2,3,4,4]\n",
    "intersect = np.intersect1d(arr_1,arr_2,assume_unique=False)\n",
    "print(intersect)"
   ]
  },
  {
   "cell_type": "code",
   "execution_count": 267,
   "id": "610b4441",
   "metadata": {},
   "outputs": [],
   "source": [
    "# The resultant is unique intersect set"
   ]
  },
  {
   "cell_type": "markdown",
   "id": "2ba87cc2",
   "metadata": {},
   "source": [
    "### Finding Difference"
   ]
  },
  {
   "cell_type": "code",
   "execution_count": 268,
   "id": "29131448",
   "metadata": {},
   "outputs": [],
   "source": [
    "# To find the values in the first set that is NOT present in the seconds set,\n",
    "# use the setdiff1d() method."
   ]
  },
  {
   "cell_type": "code",
   "execution_count": 270,
   "id": "1907f14f",
   "metadata": {},
   "outputs": [
    {
     "name": "stdout",
     "output_type": "stream",
     "text": [
      "[1 2]\n"
     ]
    }
   ],
   "source": [
    "# Find element in set1 not in set2\n",
    "import numpy as np\n",
    "\n",
    "set1 = np.array([1, 2, 3, 4])\n",
    "set2 = np.array([3, 4, 5, 6])\n",
    "\n",
    "newarr = np.setdiff1d(set1, set2, assume_unique=True)\n",
    "print(newarr)"
   ]
  },
  {
   "cell_type": "markdown",
   "id": "850cb2b0",
   "metadata": {},
   "source": [
    "### Finding Symmetric Difference"
   ]
  },
  {
   "cell_type": "code",
   "execution_count": 271,
   "id": "96fd3f5d",
   "metadata": {},
   "outputs": [],
   "source": [
    "# The values that are NOT present in BOTH sets, use the setxor1d() method."
   ]
  },
  {
   "cell_type": "code",
   "execution_count": 272,
   "id": "efddff83",
   "metadata": {},
   "outputs": [
    {
     "name": "stdout",
     "output_type": "stream",
     "text": [
      "[1 2 3 5 6 7]\n"
     ]
    }
   ],
   "source": [
    "# Example : Find the symmetric difference of the set1 and set2\n",
    "\n",
    "import numpy as np\n",
    "\n",
    "set_1 = np.array([1,2,3,4])\n",
    "set_2 = np.array([4,5,6,7])\n",
    "sym_dif = np.setxor1d(set_1,set_2)\n",
    "print(sym_dif)"
   ]
  }
 ],
 "metadata": {
  "kernelspec": {
   "display_name": "Python 3 (ipykernel)",
   "language": "python",
   "name": "python3"
  },
  "language_info": {
   "codemirror_mode": {
    "name": "ipython",
    "version": 3
   },
   "file_extension": ".py",
   "mimetype": "text/x-python",
   "name": "python",
   "nbconvert_exporter": "python",
   "pygments_lexer": "ipython3",
   "version": "3.9.13"
  }
 },
 "nbformat": 4,
 "nbformat_minor": 5
}
